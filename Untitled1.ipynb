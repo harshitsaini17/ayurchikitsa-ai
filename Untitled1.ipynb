{
  "nbformat": 4,
  "nbformat_minor": 0,
  "metadata": {
    "colab": {
      "provenance": [],
      "gpuType": "T4"
    },
    "kernelspec": {
      "name": "python3",
      "display_name": "Python 3"
    },
    "language_info": {
      "name": "python"
    },
    "accelerator": "GPU"
  },
  "cells": [
    {
      "cell_type": "code",
      "execution_count": 3,
      "metadata": {
        "colab": {
          "base_uri": "https://localhost:8080/"
        },
        "id": "gwCEQvcEq0fW",
        "outputId": "2f5fa843-6822-49c6-977f-6776a13e2b5b"
      },
      "outputs": [
        {
          "output_type": "stream",
          "name": "stdout",
          "text": [
            "Collecting ultralytics\n",
            "  Downloading ultralytics-8.3.63-py3-none-any.whl.metadata (35 kB)\n",
            "Requirement already satisfied: numpy>=1.23.0 in /usr/local/lib/python3.11/dist-packages (from ultralytics) (1.26.4)\n",
            "Requirement already satisfied: matplotlib>=3.3.0 in /usr/local/lib/python3.11/dist-packages (from ultralytics) (3.10.0)\n",
            "Requirement already satisfied: opencv-python>=4.6.0 in /usr/local/lib/python3.11/dist-packages (from ultralytics) (4.10.0.84)\n",
            "Requirement already satisfied: pillow>=7.1.2 in /usr/local/lib/python3.11/dist-packages (from ultralytics) (11.1.0)\n",
            "Requirement already satisfied: pyyaml>=5.3.1 in /usr/local/lib/python3.11/dist-packages (from ultralytics) (6.0.2)\n",
            "Requirement already satisfied: requests>=2.23.0 in /usr/local/lib/python3.11/dist-packages (from ultralytics) (2.32.3)\n",
            "Requirement already satisfied: scipy>=1.4.1 in /usr/local/lib/python3.11/dist-packages (from ultralytics) (1.13.1)\n",
            "Requirement already satisfied: torch>=1.8.0 in /usr/local/lib/python3.11/dist-packages (from ultralytics) (2.5.1+cu121)\n",
            "Requirement already satisfied: torchvision>=0.9.0 in /usr/local/lib/python3.11/dist-packages (from ultralytics) (0.20.1+cu121)\n",
            "Requirement already satisfied: tqdm>=4.64.0 in /usr/local/lib/python3.11/dist-packages (from ultralytics) (4.67.1)\n",
            "Requirement already satisfied: psutil in /usr/local/lib/python3.11/dist-packages (from ultralytics) (5.9.5)\n",
            "Requirement already satisfied: py-cpuinfo in /usr/local/lib/python3.11/dist-packages (from ultralytics) (9.0.0)\n",
            "Requirement already satisfied: pandas>=1.1.4 in /usr/local/lib/python3.11/dist-packages (from ultralytics) (2.2.2)\n",
            "Requirement already satisfied: seaborn>=0.11.0 in /usr/local/lib/python3.11/dist-packages (from ultralytics) (0.13.2)\n",
            "Collecting ultralytics-thop>=2.0.0 (from ultralytics)\n",
            "  Downloading ultralytics_thop-2.0.14-py3-none-any.whl.metadata (9.4 kB)\n",
            "Requirement already satisfied: contourpy>=1.0.1 in /usr/local/lib/python3.11/dist-packages (from matplotlib>=3.3.0->ultralytics) (1.3.1)\n",
            "Requirement already satisfied: cycler>=0.10 in /usr/local/lib/python3.11/dist-packages (from matplotlib>=3.3.0->ultralytics) (0.12.1)\n",
            "Requirement already satisfied: fonttools>=4.22.0 in /usr/local/lib/python3.11/dist-packages (from matplotlib>=3.3.0->ultralytics) (4.55.3)\n",
            "Requirement already satisfied: kiwisolver>=1.3.1 in /usr/local/lib/python3.11/dist-packages (from matplotlib>=3.3.0->ultralytics) (1.4.8)\n",
            "Requirement already satisfied: packaging>=20.0 in /usr/local/lib/python3.11/dist-packages (from matplotlib>=3.3.0->ultralytics) (24.2)\n",
            "Requirement already satisfied: pyparsing>=2.3.1 in /usr/local/lib/python3.11/dist-packages (from matplotlib>=3.3.0->ultralytics) (3.2.1)\n",
            "Requirement already satisfied: python-dateutil>=2.7 in /usr/local/lib/python3.11/dist-packages (from matplotlib>=3.3.0->ultralytics) (2.8.2)\n",
            "Requirement already satisfied: pytz>=2020.1 in /usr/local/lib/python3.11/dist-packages (from pandas>=1.1.4->ultralytics) (2024.2)\n",
            "Requirement already satisfied: tzdata>=2022.7 in /usr/local/lib/python3.11/dist-packages (from pandas>=1.1.4->ultralytics) (2024.2)\n",
            "Requirement already satisfied: charset-normalizer<4,>=2 in /usr/local/lib/python3.11/dist-packages (from requests>=2.23.0->ultralytics) (3.4.1)\n",
            "Requirement already satisfied: idna<4,>=2.5 in /usr/local/lib/python3.11/dist-packages (from requests>=2.23.0->ultralytics) (3.10)\n",
            "Requirement already satisfied: urllib3<3,>=1.21.1 in /usr/local/lib/python3.11/dist-packages (from requests>=2.23.0->ultralytics) (2.3.0)\n",
            "Requirement already satisfied: certifi>=2017.4.17 in /usr/local/lib/python3.11/dist-packages (from requests>=2.23.0->ultralytics) (2024.12.14)\n",
            "Requirement already satisfied: filelock in /usr/local/lib/python3.11/dist-packages (from torch>=1.8.0->ultralytics) (3.16.1)\n",
            "Requirement already satisfied: typing-extensions>=4.8.0 in /usr/local/lib/python3.11/dist-packages (from torch>=1.8.0->ultralytics) (4.12.2)\n",
            "Requirement already satisfied: networkx in /usr/local/lib/python3.11/dist-packages (from torch>=1.8.0->ultralytics) (3.4.2)\n",
            "Requirement already satisfied: jinja2 in /usr/local/lib/python3.11/dist-packages (from torch>=1.8.0->ultralytics) (3.1.5)\n",
            "Requirement already satisfied: fsspec in /usr/local/lib/python3.11/dist-packages (from torch>=1.8.0->ultralytics) (2024.10.0)\n",
            "Requirement already satisfied: nvidia-cuda-nvrtc-cu12==12.1.105 in /usr/local/lib/python3.11/dist-packages (from torch>=1.8.0->ultralytics) (12.1.105)\n",
            "Requirement already satisfied: nvidia-cuda-runtime-cu12==12.1.105 in /usr/local/lib/python3.11/dist-packages (from torch>=1.8.0->ultralytics) (12.1.105)\n",
            "Requirement already satisfied: nvidia-cuda-cupti-cu12==12.1.105 in /usr/local/lib/python3.11/dist-packages (from torch>=1.8.0->ultralytics) (12.1.105)\n",
            "Requirement already satisfied: nvidia-cudnn-cu12==9.1.0.70 in /usr/local/lib/python3.11/dist-packages (from torch>=1.8.0->ultralytics) (9.1.0.70)\n",
            "Requirement already satisfied: nvidia-cublas-cu12==12.1.3.1 in /usr/local/lib/python3.11/dist-packages (from torch>=1.8.0->ultralytics) (12.1.3.1)\n",
            "Requirement already satisfied: nvidia-cufft-cu12==11.0.2.54 in /usr/local/lib/python3.11/dist-packages (from torch>=1.8.0->ultralytics) (11.0.2.54)\n",
            "Requirement already satisfied: nvidia-curand-cu12==10.3.2.106 in /usr/local/lib/python3.11/dist-packages (from torch>=1.8.0->ultralytics) (10.3.2.106)\n",
            "Requirement already satisfied: nvidia-cusolver-cu12==11.4.5.107 in /usr/local/lib/python3.11/dist-packages (from torch>=1.8.0->ultralytics) (11.4.5.107)\n",
            "Requirement already satisfied: nvidia-cusparse-cu12==12.1.0.106 in /usr/local/lib/python3.11/dist-packages (from torch>=1.8.0->ultralytics) (12.1.0.106)\n",
            "Requirement already satisfied: nvidia-nccl-cu12==2.21.5 in /usr/local/lib/python3.11/dist-packages (from torch>=1.8.0->ultralytics) (2.21.5)\n",
            "Requirement already satisfied: nvidia-nvtx-cu12==12.1.105 in /usr/local/lib/python3.11/dist-packages (from torch>=1.8.0->ultralytics) (12.1.105)\n",
            "Requirement already satisfied: triton==3.1.0 in /usr/local/lib/python3.11/dist-packages (from torch>=1.8.0->ultralytics) (3.1.0)\n",
            "Requirement already satisfied: sympy==1.13.1 in /usr/local/lib/python3.11/dist-packages (from torch>=1.8.0->ultralytics) (1.13.1)\n",
            "Requirement already satisfied: nvidia-nvjitlink-cu12 in /usr/local/lib/python3.11/dist-packages (from nvidia-cusolver-cu12==11.4.5.107->torch>=1.8.0->ultralytics) (12.6.85)\n",
            "Requirement already satisfied: mpmath<1.4,>=1.1.0 in /usr/local/lib/python3.11/dist-packages (from sympy==1.13.1->torch>=1.8.0->ultralytics) (1.3.0)\n",
            "Requirement already satisfied: six>=1.5 in /usr/local/lib/python3.11/dist-packages (from python-dateutil>=2.7->matplotlib>=3.3.0->ultralytics) (1.17.0)\n",
            "Requirement already satisfied: MarkupSafe>=2.0 in /usr/local/lib/python3.11/dist-packages (from jinja2->torch>=1.8.0->ultralytics) (3.0.2)\n",
            "Downloading ultralytics-8.3.63-py3-none-any.whl (910 kB)\n",
            "\u001b[2K   \u001b[90m━━━━━━━━━━━━━━━━━━━━━━━━━━━━━━━━━━━━━━━━\u001b[0m \u001b[32m910.2/910.2 kB\u001b[0m \u001b[31m25.5 MB/s\u001b[0m eta \u001b[36m0:00:00\u001b[0m\n",
            "\u001b[?25hDownloading ultralytics_thop-2.0.14-py3-none-any.whl (26 kB)\n",
            "Installing collected packages: ultralytics-thop, ultralytics\n",
            "Successfully installed ultralytics-8.3.63 ultralytics-thop-2.0.14\n"
          ]
        }
      ],
      "source": [
        "! pip install ultralytics"
      ]
    },
    {
      "cell_type": "code",
      "source": [
        "from ultralytics import YOLO"
      ],
      "metadata": {
        "colab": {
          "base_uri": "https://localhost:8080/"
        },
        "id": "A1WSxHZrq91k",
        "outputId": "8c3a8f34-4a6c-4ee6-ffc9-b5946fae8502"
      },
      "execution_count": 4,
      "outputs": [
        {
          "output_type": "stream",
          "name": "stdout",
          "text": [
            "Creating new Ultralytics Settings v0.0.6 file ✅ \n",
            "View Ultralytics Settings with 'yolo settings' or at '/root/.config/Ultralytics/settings.json'\n",
            "Update Settings with 'yolo settings key=value', i.e. 'yolo settings runs_dir=path/to/dir'. For help see https://docs.ultralytics.com/quickstart/#ultralytics-settings.\n"
          ]
        }
      ]
    },
    {
      "cell_type": "code",
      "source": [
        "model = YOLO('yolov8n.pt')\n"
      ],
      "metadata": {
        "id": "QVEmu0Etw-j4"
      },
      "execution_count": 8,
      "outputs": []
    },
    {
      "cell_type": "code",
      "source": [
        "!unzip /content/data-2.zip -d destination_folder\n"
      ],
      "metadata": {
        "colab": {
          "base_uri": "https://localhost:8080/"
        },
        "id": "_wBvIhA-x9Jv",
        "outputId": "07f4eb17-1bd8-4961-a8aa-92ea5b9839be"
      },
      "execution_count": 6,
      "outputs": [
        {
          "output_type": "stream",
          "name": "stdout",
          "text": [
            "Archive:  /content/data-2.zip\n",
            "   creating: destination_folder/data-2/\n",
            "  inflating: destination_folder/data-2/data.yaml  \n",
            "   creating: destination_folder/data-2/test/\n",
            "   creating: destination_folder/data-2/test/images/\n",
            "  inflating: destination_folder/data-2/test/images/acne-102_jpeg.rf.d15b34dc9a1e69aa996118a4c1a173ef.jpg  \n",
            "  inflating: destination_folder/data-2/test/images/acne-105_jpeg.rf.e9b2ecfb4afb0217f046179f125242d2.jpg  \n",
            "  inflating: destination_folder/data-2/test/images/acne-112_jpeg.rf.a03c796422719e964f46be1c118861bc.jpg  \n",
            "  inflating: destination_folder/data-2/test/images/acne-128_jpg.rf.e3826584d02398d0f1d915cf3365a959.jpg  \n",
            "  inflating: destination_folder/data-2/test/images/acne-140_jpg.rf.785b2c29676c422c6a1cdbe6708f86e8.jpg  \n",
            "  inflating: destination_folder/data-2/test/images/acne-144_jpg.rf.e7404e17167235e55bc46e5c3914e22f.jpg  \n",
            "  inflating: destination_folder/data-2/test/images/acne-151_jpg.rf.638c693eb9342b4800bd8b1758e566e1.jpg  \n",
            "  inflating: destination_folder/data-2/test/images/acne-155_jpg.rf.96681853cd48ff20eb8c2f0e3f32bdbf.jpg  \n",
            "  inflating: destination_folder/data-2/test/images/acne-158_jpg.rf.9c07578d00524a159f65bff978a79c5a.jpg  \n",
            "  inflating: destination_folder/data-2/test/images/acne-15_jpeg.rf.510f6ab6153777e8087f1439ef39d8cc.jpg  \n",
            "  inflating: destination_folder/data-2/test/images/acne-160_jpg.rf.b50f56372db5685c5301c83c555a777a.jpg  \n",
            "  inflating: destination_folder/data-2/test/images/acne-161_jpg.rf.78459635cae3ff835cac7159c10bce51.jpg  \n",
            "  inflating: destination_folder/data-2/test/images/acne-166_jpg.rf.a12f2acc98f6a862f6d8b7d28306e6ff.jpg  \n",
            "  inflating: destination_folder/data-2/test/images/acne-167_jpg.rf.ca7f225b1a40cb053f3f590585061393.jpg  \n",
            "  inflating: destination_folder/data-2/test/images/acne-172_jpg.rf.f8ed4f69412f8420d6628e206113b64c.jpg  \n",
            "  inflating: destination_folder/data-2/test/images/acne-187_jpg.rf.a4bc43c7fb75ea9ddc00fa14bf06eda5.jpg  \n",
            "  inflating: destination_folder/data-2/test/images/acne-194_jpg.rf.1d82dbb7c1fa130420898223ef06720a.jpg  \n",
            "  inflating: destination_folder/data-2/test/images/acne-202_jpg.rf.3cb4d03fc5719519ae3f8319099eddef.jpg  \n",
            "  inflating: destination_folder/data-2/test/images/acne-206_jpg.rf.8c9e6075fe0cfed1632f82cf23a2d9e4.jpg  \n",
            "  inflating: destination_folder/data-2/test/images/acne-209_jpg.rf.a1dde106a5e5c3cd2b93666e9e226930.jpg  \n",
            "  inflating: destination_folder/data-2/test/images/acne-219_jpg.rf.49ae2c76139959c042cfa3cf03848824.jpg  \n",
            "  inflating: destination_folder/data-2/test/images/acne-230_jpg.rf.92c53cee80df6a2454765f7636b67d1a.jpg  \n",
            "  inflating: destination_folder/data-2/test/images/acne-236_jpg.rf.c937d8c3c60bac296eb9e3b9237e13aa.jpg  \n",
            "  inflating: destination_folder/data-2/test/images/acne-239_jpg.rf.08487e45a5ca975c038eabe8464b0c87.jpg  \n",
            "  inflating: destination_folder/data-2/test/images/acne-25_jpeg.rf.61edfe1eaf01bce48403a1a22f693a86.jpg  \n",
            "  inflating: destination_folder/data-2/test/images/acne-276_jpeg.rf.9d0990f99dee0e0ec17d89fd07384e0b.jpg  \n",
            "  inflating: destination_folder/data-2/test/images/acne-286_jpeg.rf.1b6bcca440593ac6e33617083f34a4c5.jpg  \n",
            "  inflating: destination_folder/data-2/test/images/acne-290_jpeg.rf.116ac413d37048340ce6c5b36e1b9d8a.jpg  \n",
            "  inflating: destination_folder/data-2/test/images/acne-329_jpeg.rf.705fb900ba87dc12538508177c52c8a6.jpg  \n",
            "  inflating: destination_folder/data-2/test/images/acne-32_jpeg.rf.6cfebd1da197182fd10391fc051d7308.jpg  \n",
            "  inflating: destination_folder/data-2/test/images/acne-33_jpeg.rf.5f883b1bb6eacef56d03175d54955561.jpg  \n",
            "  inflating: destination_folder/data-2/test/images/acne-355_jpeg.rf.a407ad30612ee0eea150efed8772694d.jpg  \n",
            "  inflating: destination_folder/data-2/test/images/acne-370_jpeg.rf.a774873f1db723d298598b08cfc47315.jpg  \n",
            "  inflating: destination_folder/data-2/test/images/acne-404_jpeg.rf.120f5acce0b15ea040f6e1a6f8a16dd5.jpg  \n",
            "  inflating: destination_folder/data-2/test/images/acne-422_jpeg.rf.c90a75e149931778d9c643273737df59.jpg  \n",
            "  inflating: destination_folder/data-2/test/images/acne-440_jpeg.rf.74f7f4b7cabd5d5e65c05367b20cb921.jpg  \n",
            "  inflating: destination_folder/data-2/test/images/acne-457_jpeg.rf.96817d48e7a4fe76651012d96df43141.jpg  \n",
            "  inflating: destination_folder/data-2/test/images/acne-49_jpeg.rf.3c951af43df31b304067823e836ec20b.jpg  \n",
            "  inflating: destination_folder/data-2/test/images/acne-57_jpeg.rf.b9ed02768080fdfcf648eef4e58c1904.jpg  \n",
            "  inflating: destination_folder/data-2/test/images/acne-5_jpeg.rf.2d6671715f0149df7b494c4d3f12a98b.jpg  \n",
            "  inflating: destination_folder/data-2/test/images/acne-60_jpeg.rf.f2694c8e6226c725ff40b771560b5e06.jpg  \n",
            "  inflating: destination_folder/data-2/test/images/acne-70_jpeg.rf.79a8da468a25fbeeb5a047793a3e9a4d.jpg  \n",
            "  inflating: destination_folder/data-2/test/images/acne-75_jpeg.rf.d648e68373adc0adfd965b63d4632a48.jpg  \n",
            "  inflating: destination_folder/data-2/test/images/acne-7_jpeg.rf.34ee37b930f592f787bb8d1bf6b37d30.jpg  \n",
            "  inflating: destination_folder/data-2/test/images/acne-84_jpeg.rf.040421ad53965f5f41ddc6f6a8edef9f.jpg  \n",
            "  inflating: destination_folder/data-2/test/images/acne-92_jpeg.rf.ffaa4abd4c59b50edc52a68d96de7679.jpg  \n",
            "  inflating: destination_folder/data-2/test/images/acne-95_jpeg.rf.28c5c0321aca3fbff22844c56937dbfd.jpg  \n",
            "  inflating: destination_folder/data-2/test/images/acne-99_jpeg.rf.38ff75b46468fb68d29e4125bde66e86.jpg  \n",
            "   creating: destination_folder/data-2/test/labels/\n",
            "  inflating: destination_folder/data-2/test/labels/acne-102_jpeg.rf.d15b34dc9a1e69aa996118a4c1a173ef.txt  \n",
            "  inflating: destination_folder/data-2/test/labels/acne-105_jpeg.rf.e9b2ecfb4afb0217f046179f125242d2.txt  \n",
            "  inflating: destination_folder/data-2/test/labels/acne-112_jpeg.rf.a03c796422719e964f46be1c118861bc.txt  \n",
            "  inflating: destination_folder/data-2/test/labels/acne-128_jpg.rf.e3826584d02398d0f1d915cf3365a959.txt  \n",
            "  inflating: destination_folder/data-2/test/labels/acne-140_jpg.rf.785b2c29676c422c6a1cdbe6708f86e8.txt  \n",
            "  inflating: destination_folder/data-2/test/labels/acne-144_jpg.rf.e7404e17167235e55bc46e5c3914e22f.txt  \n",
            "  inflating: destination_folder/data-2/test/labels/acne-151_jpg.rf.638c693eb9342b4800bd8b1758e566e1.txt  \n",
            "  inflating: destination_folder/data-2/test/labels/acne-155_jpg.rf.96681853cd48ff20eb8c2f0e3f32bdbf.txt  \n",
            "  inflating: destination_folder/data-2/test/labels/acne-158_jpg.rf.9c07578d00524a159f65bff978a79c5a.txt  \n",
            "  inflating: destination_folder/data-2/test/labels/acne-15_jpeg.rf.510f6ab6153777e8087f1439ef39d8cc.txt  \n",
            "  inflating: destination_folder/data-2/test/labels/acne-160_jpg.rf.b50f56372db5685c5301c83c555a777a.txt  \n",
            "  inflating: destination_folder/data-2/test/labels/acne-161_jpg.rf.78459635cae3ff835cac7159c10bce51.txt  \n",
            "  inflating: destination_folder/data-2/test/labels/acne-166_jpg.rf.a12f2acc98f6a862f6d8b7d28306e6ff.txt  \n",
            "  inflating: destination_folder/data-2/test/labels/acne-167_jpg.rf.ca7f225b1a40cb053f3f590585061393.txt  \n",
            "  inflating: destination_folder/data-2/test/labels/acne-172_jpg.rf.f8ed4f69412f8420d6628e206113b64c.txt  \n",
            "  inflating: destination_folder/data-2/test/labels/acne-187_jpg.rf.a4bc43c7fb75ea9ddc00fa14bf06eda5.txt  \n",
            "  inflating: destination_folder/data-2/test/labels/acne-194_jpg.rf.1d82dbb7c1fa130420898223ef06720a.txt  \n",
            "  inflating: destination_folder/data-2/test/labels/acne-202_jpg.rf.3cb4d03fc5719519ae3f8319099eddef.txt  \n",
            "  inflating: destination_folder/data-2/test/labels/acne-206_jpg.rf.8c9e6075fe0cfed1632f82cf23a2d9e4.txt  \n",
            "  inflating: destination_folder/data-2/test/labels/acne-209_jpg.rf.a1dde106a5e5c3cd2b93666e9e226930.txt  \n",
            "  inflating: destination_folder/data-2/test/labels/acne-219_jpg.rf.49ae2c76139959c042cfa3cf03848824.txt  \n",
            "  inflating: destination_folder/data-2/test/labels/acne-230_jpg.rf.92c53cee80df6a2454765f7636b67d1a.txt  \n",
            "  inflating: destination_folder/data-2/test/labels/acne-236_jpg.rf.c937d8c3c60bac296eb9e3b9237e13aa.txt  \n",
            "  inflating: destination_folder/data-2/test/labels/acne-239_jpg.rf.08487e45a5ca975c038eabe8464b0c87.txt  \n",
            "  inflating: destination_folder/data-2/test/labels/acne-25_jpeg.rf.61edfe1eaf01bce48403a1a22f693a86.txt  \n",
            "  inflating: destination_folder/data-2/test/labels/acne-276_jpeg.rf.9d0990f99dee0e0ec17d89fd07384e0b.txt  \n",
            "  inflating: destination_folder/data-2/test/labels/acne-286_jpeg.rf.1b6bcca440593ac6e33617083f34a4c5.txt  \n",
            "  inflating: destination_folder/data-2/test/labels/acne-290_jpeg.rf.116ac413d37048340ce6c5b36e1b9d8a.txt  \n",
            "  inflating: destination_folder/data-2/test/labels/acne-329_jpeg.rf.705fb900ba87dc12538508177c52c8a6.txt  \n",
            "  inflating: destination_folder/data-2/test/labels/acne-32_jpeg.rf.6cfebd1da197182fd10391fc051d7308.txt  \n",
            "  inflating: destination_folder/data-2/test/labels/acne-33_jpeg.rf.5f883b1bb6eacef56d03175d54955561.txt  \n",
            "  inflating: destination_folder/data-2/test/labels/acne-355_jpeg.rf.a407ad30612ee0eea150efed8772694d.txt  \n",
            "  inflating: destination_folder/data-2/test/labels/acne-370_jpeg.rf.a774873f1db723d298598b08cfc47315.txt  \n",
            "  inflating: destination_folder/data-2/test/labels/acne-404_jpeg.rf.120f5acce0b15ea040f6e1a6f8a16dd5.txt  \n",
            "  inflating: destination_folder/data-2/test/labels/acne-422_jpeg.rf.c90a75e149931778d9c643273737df59.txt  \n",
            "  inflating: destination_folder/data-2/test/labels/acne-440_jpeg.rf.74f7f4b7cabd5d5e65c05367b20cb921.txt  \n",
            "  inflating: destination_folder/data-2/test/labels/acne-457_jpeg.rf.96817d48e7a4fe76651012d96df43141.txt  \n",
            "  inflating: destination_folder/data-2/test/labels/acne-49_jpeg.rf.3c951af43df31b304067823e836ec20b.txt  \n",
            "  inflating: destination_folder/data-2/test/labels/acne-57_jpeg.rf.b9ed02768080fdfcf648eef4e58c1904.txt  \n",
            "  inflating: destination_folder/data-2/test/labels/acne-5_jpeg.rf.2d6671715f0149df7b494c4d3f12a98b.txt  \n",
            "  inflating: destination_folder/data-2/test/labels/acne-60_jpeg.rf.f2694c8e6226c725ff40b771560b5e06.txt  \n",
            "  inflating: destination_folder/data-2/test/labels/acne-70_jpeg.rf.79a8da468a25fbeeb5a047793a3e9a4d.txt  \n",
            "  inflating: destination_folder/data-2/test/labels/acne-75_jpeg.rf.d648e68373adc0adfd965b63d4632a48.txt  \n",
            "  inflating: destination_folder/data-2/test/labels/acne-7_jpeg.rf.34ee37b930f592f787bb8d1bf6b37d30.txt  \n",
            "  inflating: destination_folder/data-2/test/labels/acne-84_jpeg.rf.040421ad53965f5f41ddc6f6a8edef9f.txt  \n",
            "  inflating: destination_folder/data-2/test/labels/acne-92_jpeg.rf.ffaa4abd4c59b50edc52a68d96de7679.txt  \n",
            "  inflating: destination_folder/data-2/test/labels/acne-95_jpeg.rf.28c5c0321aca3fbff22844c56937dbfd.txt  \n",
            "  inflating: destination_folder/data-2/test/labels/acne-99_jpeg.rf.38ff75b46468fb68d29e4125bde66e86.txt  \n",
            "   creating: destination_folder/data-2/train/\n",
            "   creating: destination_folder/data-2/train/images/\n",
            "  inflating: destination_folder/data-2/train/images/acne-101_jpeg.rf.af45ba09bf2981ed7cc4af94b54aae48.jpg  \n",
            "  inflating: destination_folder/data-2/train/images/acne-101_jpeg.rf.d13d618fff02c3133aac95c6b0c7b5fb.jpg  \n",
            "  inflating: destination_folder/data-2/train/images/acne-101_jpeg.rf.dd5c14cef0a2ba13b110f05a520f00c0.jpg  \n",
            "  inflating: destination_folder/data-2/train/images/acne-104_jpeg.rf.049f40b91f49dd3554b929ab004aa10e.jpg  \n",
            "  inflating: destination_folder/data-2/train/images/acne-104_jpeg.rf.5b7dbce5a05426ce03d20ea30f8614ad.jpg  \n",
            "  inflating: destination_folder/data-2/train/images/acne-104_jpeg.rf.854a06c90fd544c3418d6931d1a5c92b.jpg  \n",
            "  inflating: destination_folder/data-2/train/images/acne-106_jpeg.rf.078f5194805c1882a8e63cea008410a7.jpg  \n",
            "  inflating: destination_folder/data-2/train/images/acne-106_jpeg.rf.8ed823543e5ad3b616c3286f7bec0fb5.jpg  \n",
            "  inflating: destination_folder/data-2/train/images/acne-106_jpeg.rf.fe8d695cc950d5cfd33cd1d0aee4730e.jpg  \n",
            "  inflating: destination_folder/data-2/train/images/acne-107_jpeg.rf.4e21baf3b6d77c05024f07b3cca0c498.jpg  \n",
            "  inflating: destination_folder/data-2/train/images/acne-107_jpeg.rf.9a0d1f16966910fc2d1351f8c218e971.jpg  \n",
            "  inflating: destination_folder/data-2/train/images/acne-107_jpeg.rf.fe9873a17fa31389536ca33faca813c4.jpg  \n",
            "  inflating: destination_folder/data-2/train/images/acne-109_jpeg.rf.09c25c7027db07e930a3501960cafbc4.jpg  \n",
            "  inflating: destination_folder/data-2/train/images/acne-109_jpeg.rf.71c01ec227c54f3d2134264c523a5c38.jpg  \n",
            "  inflating: destination_folder/data-2/train/images/acne-109_jpeg.rf.f1dfe70192f63b0f7f3c60c34f989502.jpg  \n",
            "  inflating: destination_folder/data-2/train/images/acne-10_jpeg.rf.1a5742dc70d2abc4799e0ce84795741b.jpg  \n",
            "  inflating: destination_folder/data-2/train/images/acne-10_jpeg.rf.a47703e8c466062380bdd7cda41fae2b.jpg  \n",
            "  inflating: destination_folder/data-2/train/images/acne-10_jpeg.rf.f27748da2520545eba9ebcd7e0dc6482.jpg  \n",
            "  inflating: destination_folder/data-2/train/images/acne-110_jpeg.rf.30388309b832a1dbcd9f74e88a6d80c7.jpg  \n",
            "  inflating: destination_folder/data-2/train/images/acne-110_jpeg.rf.ac46f2b20c3b01cd908ca6e33f7c8b0a.jpg  \n",
            "  inflating: destination_folder/data-2/train/images/acne-110_jpeg.rf.b2e331d513bdc74cab2a514eb157444c.jpg  \n",
            "  inflating: destination_folder/data-2/train/images/acne-111_jpeg.rf.5305be8df8fc4bac0f9d4473e75ce446.jpg  \n",
            "  inflating: destination_folder/data-2/train/images/acne-111_jpeg.rf.5898ddc66916835400974fe91faa2127.jpg  \n",
            "  inflating: destination_folder/data-2/train/images/acne-111_jpeg.rf.d2f96fc4bb37d79f182ff62b6c21203f.jpg  \n",
            "  inflating: destination_folder/data-2/train/images/acne-114_jpeg.rf.05500969621c6ec1a2720c8113a7f730.jpg  \n",
            "  inflating: destination_folder/data-2/train/images/acne-114_jpeg.rf.8886a0bfd6aae22e7a0d23fa689f93e0.jpg  \n",
            "  inflating: destination_folder/data-2/train/images/acne-114_jpeg.rf.faab857cd0fe501cd0ee008b2d5e5d8d.jpg  \n",
            "  inflating: destination_folder/data-2/train/images/acne-117_jpeg.rf.5fca45225c32ea524aa8635eeaca17da.jpg  \n",
            "  inflating: destination_folder/data-2/train/images/acne-117_jpeg.rf.86e15ada642e029c7a3adf6e3abd3165.jpg  \n",
            "  inflating: destination_folder/data-2/train/images/acne-117_jpeg.rf.fdd8632240a042f20703a454d7ca8c49.jpg  \n",
            "  inflating: destination_folder/data-2/train/images/acne-118_jpg.rf.2146315fc7eedcc8269c3855a055f362.jpg  \n",
            "  inflating: destination_folder/data-2/train/images/acne-118_jpg.rf.5ac494ffe6003d136d78802a2e018b93.jpg  \n",
            "  inflating: destination_folder/data-2/train/images/acne-118_jpg.rf.a950e2e85bfac5233bc29a1409733d67.jpg  \n",
            "  inflating: destination_folder/data-2/train/images/acne-120_jpg.rf.05d2df98b09a59455e77d06fb330a261.jpg  \n",
            "  inflating: destination_folder/data-2/train/images/acne-120_jpg.rf.59864fcc325d7c476b1d4276551aa0dd.jpg  \n",
            "  inflating: destination_folder/data-2/train/images/acne-120_jpg.rf.83c70d65304fb3bac6fe6e3451d957e7.jpg  \n",
            "  inflating: destination_folder/data-2/train/images/acne-122_jpg.rf.457449f3ea61b059c8755a833cba36e4.jpg  \n",
            "  inflating: destination_folder/data-2/train/images/acne-122_jpg.rf.79832d3e5a9fd4a65ababe273ed29bf1.jpg  \n",
            "  inflating: destination_folder/data-2/train/images/acne-122_jpg.rf.a860a2e44e12167136417be251d78f13.jpg  \n",
            "  inflating: destination_folder/data-2/train/images/acne-123_jpg.rf.094991fa4eca4fe9d2414c139380c767.jpg  \n",
            "  inflating: destination_folder/data-2/train/images/acne-123_jpg.rf.29fdc29e00ae4036bda03345c84e75ec.jpg  \n",
            "  inflating: destination_folder/data-2/train/images/acne-123_jpg.rf.2cb8c9deb32b0e5378694e4bc095b86a.jpg  \n",
            "  inflating: destination_folder/data-2/train/images/acne-124_jpg.rf.73ff92c9fdf0de6950c164b655222df2.jpg  \n",
            "  inflating: destination_folder/data-2/train/images/acne-124_jpg.rf.a52e9bb1cd7855d1372d7dd0813be8e1.jpg  \n",
            "  inflating: destination_folder/data-2/train/images/acne-124_jpg.rf.bbcd091cc245577f49f472276987041e.jpg  \n",
            "  inflating: destination_folder/data-2/train/images/acne-125_jpg.rf.2612211b3bedfab30f3c1917dba2de98.jpg  \n",
            "  inflating: destination_folder/data-2/train/images/acne-125_jpg.rf.5514716e1ee3faa1692e38c275afe7a1.jpg  \n",
            "  inflating: destination_folder/data-2/train/images/acne-125_jpg.rf.dc9c441370bb9fdb7c992c7e422c8003.jpg  \n",
            "  inflating: destination_folder/data-2/train/images/acne-126_jpg.rf.5b0e9e4d04ae70075efeaee8971a48aa.jpg  \n",
            "  inflating: destination_folder/data-2/train/images/acne-126_jpg.rf.efe7936850eb9c5f1327b1a589d5ed43.jpg  \n",
            "  inflating: destination_folder/data-2/train/images/acne-126_jpg.rf.fbdc0b939629752826f95b54f75a9eb0.jpg  \n",
            "  inflating: destination_folder/data-2/train/images/acne-127_jpg.rf.6626a950f608a09a2ffcb87fd5922402.jpg  \n",
            "  inflating: destination_folder/data-2/train/images/acne-127_jpg.rf.d3d5ce301ca715b9f7d0987c5493a249.jpg  \n",
            "  inflating: destination_folder/data-2/train/images/acne-127_jpg.rf.f448d7470b4d04d0576302eefabed949.jpg  \n",
            "  inflating: destination_folder/data-2/train/images/acne-129_jpg.rf.27d7bc358ff1e9d29a12c68dfec19376.jpg  \n",
            "  inflating: destination_folder/data-2/train/images/acne-129_jpg.rf.85ebf681f94e9d884aa5fffd377c2546.jpg  \n",
            "  inflating: destination_folder/data-2/train/images/acne-129_jpg.rf.d6c0893bc17939313d41a77c07d116dd.jpg  \n",
            "  inflating: destination_folder/data-2/train/images/acne-12_jpeg.rf.105ac91692b51b2e48ac949a5f0ef9a0.jpg  \n",
            "  inflating: destination_folder/data-2/train/images/acne-12_jpeg.rf.28444ad5ce2ac27bc0ce6ed17f8e6ec0.jpg  \n",
            "  inflating: destination_folder/data-2/train/images/acne-12_jpeg.rf.a8b0e9276a6914edc03a7e3def427bf2.jpg  \n",
            "  inflating: destination_folder/data-2/train/images/acne-132_jpg.rf.c9f114843c7af28e5632ae8fe25baf67.jpg  \n",
            "  inflating: destination_folder/data-2/train/images/acne-132_jpg.rf.f63fe21b456337795ceeaba4913f7bae.jpg  \n",
            "  inflating: destination_folder/data-2/train/images/acne-132_jpg.rf.fd88a44d5548b168dd391f49079d5c81.jpg  \n",
            "  inflating: destination_folder/data-2/train/images/acne-133_jpg.rf.6db7d5e9aba6f4de4253e2100ab6ffbc.jpg  \n",
            "  inflating: destination_folder/data-2/train/images/acne-133_jpg.rf.a36b84143c4c700d8160a3283f498c03.jpg  \n",
            "  inflating: destination_folder/data-2/train/images/acne-133_jpg.rf.d5a2596cbb19ae009ce2659b3104dba1.jpg  \n",
            "  inflating: destination_folder/data-2/train/images/acne-136_jpg.rf.3e73b4689794a339be8e23f11d08fc37.jpg  \n",
            "  inflating: destination_folder/data-2/train/images/acne-136_jpg.rf.b329d76c1d4f9f0d1d68526134fe04c6.jpg  \n",
            "  inflating: destination_folder/data-2/train/images/acne-136_jpg.rf.bcf7437fb066a95c7f159436df6c7c27.jpg  \n",
            "  inflating: destination_folder/data-2/train/images/acne-13_jpeg.rf.430d2e3c8e293872afb2dbaa8ff80c66.jpg  \n",
            "  inflating: destination_folder/data-2/train/images/acne-13_jpeg.rf.6bccdd195b2e284d78717dccf8333266.jpg  \n",
            "  inflating: destination_folder/data-2/train/images/acne-13_jpeg.rf.a5f9a647b82ba14238855de41ce76a2f.jpg  \n",
            "  inflating: destination_folder/data-2/train/images/acne-141_jpg.rf.056aa3399307f077aa37f49ff94c27f4.jpg  \n",
            "  inflating: destination_folder/data-2/train/images/acne-141_jpg.rf.cbd1d13c72ff4f3e3b8f23419526f5df.jpg  \n",
            "  inflating: destination_folder/data-2/train/images/acne-141_jpg.rf.fb1199324075ca9348337d6357f172de.jpg  \n",
            "  inflating: destination_folder/data-2/train/images/acne-146_jpg.rf.3e4e3a8e1eb143a51e83f89d27a89523.jpg  \n",
            "  inflating: destination_folder/data-2/train/images/acne-146_jpg.rf.ad8dd4f3dbbff83b7a2081bfbf2fee4e.jpg  \n",
            "  inflating: destination_folder/data-2/train/images/acne-146_jpg.rf.d16e73f57f12a54ebed2f820032498a9.jpg  \n",
            "  inflating: destination_folder/data-2/train/images/acne-147_jpg.rf.7ab83e752d29e1cb1efc428fb26f4b62.jpg  \n",
            "  inflating: destination_folder/data-2/train/images/acne-147_jpg.rf.b9bc95a6617b86d57c6fa510d8be42ce.jpg  \n",
            "  inflating: destination_folder/data-2/train/images/acne-147_jpg.rf.df99460615cf952c2e4a9a73f970be69.jpg  \n",
            "  inflating: destination_folder/data-2/train/images/acne-14_jpeg.rf.147d68756bf7b24c32159f65a026346d.jpg  \n",
            "  inflating: destination_folder/data-2/train/images/acne-14_jpeg.rf.5bf6350d3c711ff63cde1f6b9a203518.jpg  \n",
            "  inflating: destination_folder/data-2/train/images/acne-14_jpeg.rf.ce37e344b5f0d2c1aeed3f330eaf47f7.jpg  \n",
            "  inflating: destination_folder/data-2/train/images/acne-153_jpg.rf.26750acfcfc53810f96cae56aa2c4462.jpg  \n",
            "  inflating: destination_folder/data-2/train/images/acne-153_jpg.rf.8210a6358070fc5da9611aac95957b0f.jpg  \n",
            "  inflating: destination_folder/data-2/train/images/acne-153_jpg.rf.e8973f33679d67ebfc2384a4d92d41b2.jpg  \n",
            "  inflating: destination_folder/data-2/train/images/acne-154_jpg.rf.2c23312611bde8ff91dba18be75c8584.jpg  \n",
            "  inflating: destination_folder/data-2/train/images/acne-154_jpg.rf.3a3be14df7e5a70b268d664010e1383e.jpg  \n",
            "  inflating: destination_folder/data-2/train/images/acne-154_jpg.rf.aa10f14b351652c5646e22544670738c.jpg  \n",
            "  inflating: destination_folder/data-2/train/images/acne-157_jpg.rf.89ce37476eb116348c9be25774e30727.jpg  \n",
            "  inflating: destination_folder/data-2/train/images/acne-157_jpg.rf.cc6a50c4ff1337782a2ddf5e7f7bfc32.jpg  \n",
            "  inflating: destination_folder/data-2/train/images/acne-157_jpg.rf.ef7e9923abad787cede0228467c8924a.jpg  \n",
            "  inflating: destination_folder/data-2/train/images/acne-159_jpg.rf.0c98a05944768d0fcb2e6ac369394f30.jpg  \n",
            "  inflating: destination_folder/data-2/train/images/acne-159_jpg.rf.1e5a07658d750d8ba5461046e276e5f0.jpg  \n",
            "  inflating: destination_folder/data-2/train/images/acne-159_jpg.rf.b2c4300722f40c860f40d0f710ce9fd5.jpg  \n",
            "  inflating: destination_folder/data-2/train/images/acne-165_jpg.rf.5638c1e3c95295ddca0f268ec7287553.jpg  \n",
            "  inflating: destination_folder/data-2/train/images/acne-165_jpg.rf.68256b3b8febcb6314e4ab36bb6375f5.jpg  \n",
            "  inflating: destination_folder/data-2/train/images/acne-165_jpg.rf.f89853f8ff0431d5d4f3e64be0275aa5.jpg  \n",
            "  inflating: destination_folder/data-2/train/images/acne-169_jpg.rf.62e380e19804577ee193ff7a379afca0.jpg  \n",
            "  inflating: destination_folder/data-2/train/images/acne-169_jpg.rf.8dbf52d31c7234fa6616be58e4c10cce.jpg  \n",
            "  inflating: destination_folder/data-2/train/images/acne-169_jpg.rf.cc770617347b77cbf96905c6139f8098.jpg  \n",
            "  inflating: destination_folder/data-2/train/images/acne-16_jpeg.rf.6c53ab16807806bbb5941b31f9a46f57.jpg  \n",
            "  inflating: destination_folder/data-2/train/images/acne-16_jpeg.rf.8a203a8e0514ebc66c79ff58b8fb8fca.jpg  \n",
            "  inflating: destination_folder/data-2/train/images/acne-16_jpeg.rf.bfdbd387028d27478766a3819de88a1b.jpg  \n",
            "  inflating: destination_folder/data-2/train/images/acne-174_jpg.rf.2d2e25b5d60f61c775266df80d4d4cca.jpg  \n",
            "  inflating: destination_folder/data-2/train/images/acne-174_jpg.rf.df4de09ebf38d94532fdf09bddc96b39.jpg  \n",
            "  inflating: destination_folder/data-2/train/images/acne-174_jpg.rf.e4db3022680a7d83a8564032513c394f.jpg  \n",
            "  inflating: destination_folder/data-2/train/images/acne-175_jpg.rf.612b817fa477d486d22e0f2fb61e01b3.jpg  \n",
            "  inflating: destination_folder/data-2/train/images/acne-175_jpg.rf.92d6c6bc280f868472612c909d7401b5.jpg  \n",
            "  inflating: destination_folder/data-2/train/images/acne-175_jpg.rf.dacb7ead4056283b79f7d7be33f4cec3.jpg  \n",
            "  inflating: destination_folder/data-2/train/images/acne-178_jpg.rf.3c2c36e281c650dd6a48b45bde2a3767.jpg  \n",
            "  inflating: destination_folder/data-2/train/images/acne-178_jpg.rf.70e5d5ef09dd6bcae4b1580c229c9f46.jpg  \n",
            "  inflating: destination_folder/data-2/train/images/acne-178_jpg.rf.ac87bffd9abfaa365be22b9bfef13f2c.jpg  \n",
            "  inflating: destination_folder/data-2/train/images/acne-179_jpg.rf.301829a1a85597f07c7a67eb38ee1970.jpg  \n",
            "  inflating: destination_folder/data-2/train/images/acne-179_jpg.rf.b3bde7c655fccb9590b3dcfd338ea42f.jpg  \n",
            "  inflating: destination_folder/data-2/train/images/acne-179_jpg.rf.dd6e0d30ba2d751438a0a2a9cf34b6cf.jpg  \n",
            "  inflating: destination_folder/data-2/train/images/acne-17_jpeg.rf.51057c9fd58430da022fe8b8e54cbfce.jpg  \n",
            "  inflating: destination_folder/data-2/train/images/acne-17_jpeg.rf.b9922046ba7af5c9296c5568c1f3b8c6.jpg  \n",
            "  inflating: destination_folder/data-2/train/images/acne-17_jpeg.rf.d8a8858216295393c1acc6282c217654.jpg  \n",
            "  inflating: destination_folder/data-2/train/images/acne-182_jpg.rf.003ad78b62a47fe0c61d19fd1df199b5.jpg  \n",
            "  inflating: destination_folder/data-2/train/images/acne-182_jpg.rf.7c2e3699a804e6c8aa7910f55b5ca1d5.jpg  \n",
            "  inflating: destination_folder/data-2/train/images/acne-182_jpg.rf.a5a32d648c2879bb9c344f40f540aa59.jpg  \n",
            "  inflating: destination_folder/data-2/train/images/acne-184_jpg.rf.318f8f393e5e2ddd0b1f78531673ebd0.jpg  \n",
            "  inflating: destination_folder/data-2/train/images/acne-184_jpg.rf.68a55036b87dab28bd5152fa3b0be4df.jpg  \n",
            "  inflating: destination_folder/data-2/train/images/acne-184_jpg.rf.6d066efaae280add14b1ad11bfd69ee8.jpg  \n",
            "  inflating: destination_folder/data-2/train/images/acne-185_jpg.rf.10da71ba0aff1f523fe1c434307b4a58.jpg  \n",
            "  inflating: destination_folder/data-2/train/images/acne-185_jpg.rf.3bd7bc00f8d8f6e04e041a9a664f80e2.jpg  \n",
            "  inflating: destination_folder/data-2/train/images/acne-185_jpg.rf.3de0a75834e59f15738509f7c7bdeb1c.jpg  \n",
            "  inflating: destination_folder/data-2/train/images/acne-18_jpeg.rf.43644ffe9efa47e9892fa953e7384360.jpg  \n",
            "  inflating: destination_folder/data-2/train/images/acne-18_jpeg.rf.5b6c3916caae984b4e628466c6217dc7.jpg  \n",
            "  inflating: destination_folder/data-2/train/images/acne-18_jpeg.rf.e1d7462fae95a22cf821ff2dce74fe48.jpg  \n",
            "  inflating: destination_folder/data-2/train/images/acne-191_jpg.rf.a0c9751faf17b372142f143e58795b87.jpg  \n",
            "  inflating: destination_folder/data-2/train/images/acne-191_jpg.rf.a3f25509212676a658832b172df7d830.jpg  \n",
            "  inflating: destination_folder/data-2/train/images/acne-191_jpg.rf.a5434e10e4190dc91e8be25ba95e0057.jpg  \n",
            "  inflating: destination_folder/data-2/train/images/acne-193_jpg.rf.2ad0c8779ee966c9c6f99bc869192f68.jpg  \n",
            "  inflating: destination_folder/data-2/train/images/acne-193_jpg.rf.4cdb0fbc270b04b91fb4cf23478d5b75.jpg  \n",
            "  inflating: destination_folder/data-2/train/images/acne-193_jpg.rf.d56c00bf920d72a203d15f241d2a6155.jpg  \n",
            "  inflating: destination_folder/data-2/train/images/acne-195_jpg.rf.9ed1415752e5ab9b75789c48e2d79cfb.jpg  \n",
            "  inflating: destination_folder/data-2/train/images/acne-195_jpg.rf.b5c6f2b08bb2c091d26ea2dc2d0b8d8c.jpg  \n",
            "  inflating: destination_folder/data-2/train/images/acne-195_jpg.rf.bcfc34920b8aec75484cddfc069c343c.jpg  \n",
            "  inflating: destination_folder/data-2/train/images/acne-196_jpg.rf.1bbd0b777a3e6a95749dfae39c5d0db1.jpg  \n",
            "  inflating: destination_folder/data-2/train/images/acne-196_jpg.rf.9929863b00290abde1695ce445e5ab8d.jpg  \n",
            "  inflating: destination_folder/data-2/train/images/acne-196_jpg.rf.9fb85af642d154fba4f3ddaac45d98ba.jpg  \n",
            "  inflating: destination_folder/data-2/train/images/acne-197_jpg.rf.29fb0fcd25dc272564d20ea7e0c37357.jpg  \n",
            "  inflating: destination_folder/data-2/train/images/acne-197_jpg.rf.3e08f172ad3783593d3d6f09b5914df4.jpg  \n",
            "  inflating: destination_folder/data-2/train/images/acne-197_jpg.rf.b97d2d4715779a1d8e5126a412a80028.jpg  \n",
            "  inflating: destination_folder/data-2/train/images/acne-198_jpg.rf.0b2c649818aaa8e3b87b57cb86df5eef.jpg  \n",
            "  inflating: destination_folder/data-2/train/images/acne-198_jpg.rf.b908268208c2706886941b806856d5f7.jpg  \n",
            "  inflating: destination_folder/data-2/train/images/acne-198_jpg.rf.f46e69016e534491f9bd6a17cc24c414.jpg  \n",
            "  inflating: destination_folder/data-2/train/images/acne-199_jpg.rf.049f974ec6c0aab39706ea83ecd2a70a.jpg  \n",
            "  inflating: destination_folder/data-2/train/images/acne-199_jpg.rf.471efe501dd703c4c868b80f346eafb1.jpg  \n",
            "  inflating: destination_folder/data-2/train/images/acne-199_jpg.rf.bf429fe2c2ffc1d64092b101898b576e.jpg  \n",
            "  inflating: destination_folder/data-2/train/images/acne-19_jpeg.rf.08f442979a625bee5a09e346ab0f8185.jpg  \n",
            "  inflating: destination_folder/data-2/train/images/acne-19_jpeg.rf.c477f8a3fb32ce9d2d0c804f3124d662.jpg  \n",
            "  inflating: destination_folder/data-2/train/images/acne-19_jpeg.rf.fcd27e7983259ab41304042d0246e0ae.jpg  \n",
            "  inflating: destination_folder/data-2/train/images/acne-1_jpeg.rf.15f804a683ea47331a17edcd7f8e1a4d.jpg  \n",
            "  inflating: destination_folder/data-2/train/images/acne-1_jpeg.rf.19271021285a0573d9c1351cc0a39309.jpg  \n",
            "  inflating: destination_folder/data-2/train/images/acne-1_jpeg.rf.71d499580b387527ed6a3240b2b5773d.jpg  \n",
            "  inflating: destination_folder/data-2/train/images/acne-201_jpg.rf.3258e50cc995cbcac9d825ea00f33167.jpg  \n",
            "  inflating: destination_folder/data-2/train/images/acne-201_jpg.rf.33bf5a4589c45581c1f46b672db62414.jpg  \n",
            "  inflating: destination_folder/data-2/train/images/acne-201_jpg.rf.385b133794127449eb734db717cfeeaa.jpg  \n",
            "  inflating: destination_folder/data-2/train/images/acne-203_jpg.rf.81c85919943866f8e856d6724eae0c3b.jpg  \n",
            "  inflating: destination_folder/data-2/train/images/acne-203_jpg.rf.8205fac07a2a50ce7b656cfc7a60c1c6.jpg  \n",
            "  inflating: destination_folder/data-2/train/images/acne-203_jpg.rf.e63e6e1e90fa2af37fcdabea7cdefb41.jpg  \n",
            "  inflating: destination_folder/data-2/train/images/acne-207_jpg.rf.0adf2a68315ac19b5f0d8e9f3c00532d.jpg  \n",
            "  inflating: destination_folder/data-2/train/images/acne-207_jpg.rf.7598b31c83c3bf22d831a520ef1a906e.jpg  \n",
            "  inflating: destination_folder/data-2/train/images/acne-207_jpg.rf.8a60c3b59e4a9e0f1cad7e370dd77ea5.jpg  \n",
            "  inflating: destination_folder/data-2/train/images/acne-208_jpg.rf.35a3cef9fe70b179687816ff6948a8ca.jpg  \n",
            "  inflating: destination_folder/data-2/train/images/acne-208_jpg.rf.48edf57f079bcfbd20b3d9229f482459.jpg  \n",
            "  inflating: destination_folder/data-2/train/images/acne-208_jpg.rf.6a0543944c7ec0abf4d3420ef5a48789.jpg  \n",
            "  inflating: destination_folder/data-2/train/images/acne-210_jpg.rf.27376e50ec325caa3ee3a040244aeaa2.jpg  \n",
            "  inflating: destination_folder/data-2/train/images/acne-210_jpg.rf.ba41808779eefd711acb8449a1f57d80.jpg  \n",
            "  inflating: destination_folder/data-2/train/images/acne-210_jpg.rf.d8d38da83700ffe8f4204c9b98bfc48f.jpg  \n",
            "  inflating: destination_folder/data-2/train/images/acne-212_jpg.rf.48a1f98252e19ab9c0a2fa21cc2cf3dd.jpg  \n",
            "  inflating: destination_folder/data-2/train/images/acne-212_jpg.rf.7c6366f80f280c7946181a492194f128.jpg  \n",
            "  inflating: destination_folder/data-2/train/images/acne-212_jpg.rf.ecc2ffc6c00fedeff6f1570cd2595525.jpg  \n",
            "  inflating: destination_folder/data-2/train/images/acne-213_jpg.rf.34850e9489d91a3b8c38f872710a2753.jpg  \n",
            "  inflating: destination_folder/data-2/train/images/acne-213_jpg.rf.a5c1514f9c68cfe06f0f8e16b908c7bd.jpg  \n",
            "  inflating: destination_folder/data-2/train/images/acne-213_jpg.rf.e477f2ab61f8007e35213f2d19630dfe.jpg  \n",
            "  inflating: destination_folder/data-2/train/images/acne-215_jpg.rf.03e0070c1d7b1425afb2fa5e61365358.jpg  \n",
            "  inflating: destination_folder/data-2/train/images/acne-215_jpg.rf.8ba2225c358d32fff5022b3c5fef3b89.jpg  \n",
            "  inflating: destination_folder/data-2/train/images/acne-215_jpg.rf.a49ced323a6e167f764e2e2766026041.jpg  \n",
            "  inflating: destination_folder/data-2/train/images/acne-218_jpg.rf.4034c378c8c2766197d5800adfa2a8f4.jpg  \n",
            "  inflating: destination_folder/data-2/train/images/acne-218_jpg.rf.5b69f80528f623394b3e859163966e68.jpg  \n",
            "  inflating: destination_folder/data-2/train/images/acne-218_jpg.rf.ce804a2e4ef6d119d4e442112589453d.jpg  \n",
            "  inflating: destination_folder/data-2/train/images/acne-222_jpg.rf.19ebefd17c9d7278b70237d51272f4d7.jpg  \n",
            "  inflating: destination_folder/data-2/train/images/acne-222_jpg.rf.44895d625b19f3e5bf910dc52c985c50.jpg  \n",
            "  inflating: destination_folder/data-2/train/images/acne-222_jpg.rf.8fd19a2a303616c30747abc22a7b7e85.jpg  \n",
            "  inflating: destination_folder/data-2/train/images/acne-225_jpg.rf.20af853a017a915046884562cedb90fb.jpg  \n",
            "  inflating: destination_folder/data-2/train/images/acne-225_jpg.rf.33624bbd3381958397789ce04775a4e7.jpg  \n",
            "  inflating: destination_folder/data-2/train/images/acne-225_jpg.rf.86b4596072a51356712e842ba8adbe7e.jpg  \n",
            "  inflating: destination_folder/data-2/train/images/acne-226_jpg.rf.1e31fc7ac858cc36c9bf58575d0c5ca1.jpg  \n",
            "  inflating: destination_folder/data-2/train/images/acne-226_jpg.rf.266f732d5c4135545428b64a2e308ae5.jpg  \n",
            "  inflating: destination_folder/data-2/train/images/acne-226_jpg.rf.9a5e291ba12532858133526881c86eb5.jpg  \n",
            "  inflating: destination_folder/data-2/train/images/acne-227_jpg.rf.2471062ff72eff1fb050abd9673ce511.jpg  \n",
            "  inflating: destination_folder/data-2/train/images/acne-227_jpg.rf.b194f70aa07fec4da34ba2a7d1ab559b.jpg  \n",
            "  inflating: destination_folder/data-2/train/images/acne-227_jpg.rf.e7232e54671958546fa8bd8e76de323e.jpg  \n",
            "  inflating: destination_folder/data-2/train/images/acne-228_jpg.rf.129211e759bb8520e5d79be2e7135a91.jpg  \n",
            "  inflating: destination_folder/data-2/train/images/acne-228_jpg.rf.b7310fea7306adb3ad6a912cd30c35c6.jpg  \n",
            "  inflating: destination_folder/data-2/train/images/acne-228_jpg.rf.d85abe1dea887d8ee14c7967d38bfc7e.jpg  \n",
            "  inflating: destination_folder/data-2/train/images/acne-229_jpg.rf.15932dd8294747fbf846a03e0f82b5ac.jpg  \n",
            "  inflating: destination_folder/data-2/train/images/acne-229_jpg.rf.63c186939cc5628efd5febb1b7441b87.jpg  \n",
            "  inflating: destination_folder/data-2/train/images/acne-229_jpg.rf.8591496c5be08eade2f51c29fc778b16.jpg  \n",
            "  inflating: destination_folder/data-2/train/images/acne-231_jpg.rf.1cd2a3859515dc13d6a63b170955bb1a.jpg  \n",
            "  inflating: destination_folder/data-2/train/images/acne-231_jpg.rf.4ac75e257d40f76ffb01f2c7a8b414f3.jpg  \n",
            "  inflating: destination_folder/data-2/train/images/acne-231_jpg.rf.f9b0b42590fb64c5665447317c06c997.jpg  \n",
            "  inflating: destination_folder/data-2/train/images/acne-232_jpg.rf.a0d2522aa8b5f9a61f692c488394fc7b.jpg  \n",
            "  inflating: destination_folder/data-2/train/images/acne-232_jpg.rf.c675be6b07a6bf37519db31b5167e4c7.jpg  \n",
            "  inflating: destination_folder/data-2/train/images/acne-232_jpg.rf.dfc421bc3c14ce68a07ee757c071a0ab.jpg  \n",
            "  inflating: destination_folder/data-2/train/images/acne-233_jpg.rf.9dea716314f6337abf96cde4f779123f.jpg  \n",
            "  inflating: destination_folder/data-2/train/images/acne-233_jpg.rf.bc960d277ff83a8d84cfb37a6323455a.jpg  \n",
            "  inflating: destination_folder/data-2/train/images/acne-233_jpg.rf.def5958145685575eb337e5c599b5cf5.jpg  \n",
            "  inflating: destination_folder/data-2/train/images/acne-234_jpg.rf.40a36612561ebdd4f815d2868b3a19da.jpg  \n",
            "  inflating: destination_folder/data-2/train/images/acne-234_jpg.rf.d11b7694547229ae40b68f4f9a3486ad.jpg  \n",
            "  inflating: destination_folder/data-2/train/images/acne-234_jpg.rf.d6f9f966d1bf5799aa4d8b260cf1a07f.jpg  \n",
            "  inflating: destination_folder/data-2/train/images/acne-235_jpg.rf.2ef71aabbc8d65a4ec7a38e95b2c355a.jpg  \n",
            "  inflating: destination_folder/data-2/train/images/acne-235_jpg.rf.75e061e02231a1cce3fde16fb36b707c.jpg  \n",
            "  inflating: destination_folder/data-2/train/images/acne-235_jpg.rf.ddcc61451447d013bca45e397e90c1af.jpg  \n",
            "  inflating: destination_folder/data-2/train/images/acne-238_jpg.rf.71f5e25e5ac28ad76396f7a62f89ee84.jpg  \n",
            "  inflating: destination_folder/data-2/train/images/acne-238_jpg.rf.80f847a030394d5465ce92577e178e3d.jpg  \n",
            "  inflating: destination_folder/data-2/train/images/acne-238_jpg.rf.87930190461918c137e4496b995c318b.jpg  \n",
            "  inflating: destination_folder/data-2/train/images/acne-23_jpeg.rf.14c0b14b2e85e50c5acbb0b3b4bd90e1.jpg  \n",
            "  inflating: destination_folder/data-2/train/images/acne-23_jpeg.rf.49017ec32bbf42c7a6e18af4da3b267d.jpg  \n",
            "  inflating: destination_folder/data-2/train/images/acne-23_jpeg.rf.9b1966c79bed572c432113b6b3de912d.jpg  \n",
            "  inflating: destination_folder/data-2/train/images/acne-240_jpg.rf.db60c7b36784891f222f2e2defbb77bb.jpg  \n",
            "  inflating: destination_folder/data-2/train/images/acne-240_jpg.rf.e843d0318dbc2602b10d182fed2aac33.jpg  \n",
            "  inflating: destination_folder/data-2/train/images/acne-240_jpg.rf.f4e59c1cc25d5988f634396e23fa0745.jpg  \n",
            "  inflating: destination_folder/data-2/train/images/acne-241_jpg.rf.6315111a0caf2cc662e131b3dd0b294a.jpg  \n",
            "  inflating: destination_folder/data-2/train/images/acne-241_jpg.rf.9eeb9ff941f8813eb9c830bba65289f2.jpg  \n",
            "  inflating: destination_folder/data-2/train/images/acne-241_jpg.rf.de2bfe112d02fe95a39e2a5ff3fb4f06.jpg  \n",
            "  inflating: destination_folder/data-2/train/images/acne-242_jpg.rf.163bea139c1038429a67cdefdb3da7ed.jpg  \n",
            "  inflating: destination_folder/data-2/train/images/acne-242_jpg.rf.8901e40c234ee9f5c2e28d27b0de354e.jpg  \n",
            "  inflating: destination_folder/data-2/train/images/acne-242_jpg.rf.e8a6235ffe20050705548f7cadf05737.jpg  \n",
            "  inflating: destination_folder/data-2/train/images/acne-243_jpeg.rf.224276464dae0015106b49305689a71f.jpg  \n",
            "  inflating: destination_folder/data-2/train/images/acne-243_jpeg.rf.f3d5b38abbb217c911e3780085133be5.jpg  \n",
            "  inflating: destination_folder/data-2/train/images/acne-243_jpeg.rf.ff8b7eddd7999e473316b3c51c5d98fa.jpg  \n",
            "  inflating: destination_folder/data-2/train/images/acne-244_jpeg.rf.397fc919836ce234ec8b5a5d0fa686ce.jpg  \n",
            "  inflating: destination_folder/data-2/train/images/acne-244_jpeg.rf.3aa7181fc3fd8edee88d3579a514f142.jpg  \n",
            "  inflating: destination_folder/data-2/train/images/acne-244_jpeg.rf.c301c6f1c5b54fbe2210538f8f027be1.jpg  \n",
            "  inflating: destination_folder/data-2/train/images/acne-245_jpeg.rf.4396c4ac2d28d1b4f6de0bcc62d4f30c.jpg  \n",
            "  inflating: destination_folder/data-2/train/images/acne-245_jpeg.rf.716c1d56a9ef9e65968495aff2cb1915.jpg  \n",
            "  inflating: destination_folder/data-2/train/images/acne-245_jpeg.rf.fc6a867547b19a5ffacd58e95139d1cb.jpg  \n",
            "  inflating: destination_folder/data-2/train/images/acne-247_jpeg.rf.36e1a9fa30b36d245cfb72509a68db71.jpg  \n",
            "  inflating: destination_folder/data-2/train/images/acne-247_jpeg.rf.609bebea165a5d6ed959aaef11f3e708.jpg  \n",
            "  inflating: destination_folder/data-2/train/images/acne-247_jpeg.rf.8b927d007d985691e46eadbc19f04ca4.jpg  \n",
            "  inflating: destination_folder/data-2/train/images/acne-248_jpeg.rf.2a7a9fa6acf6a2ec559666cc56987bfa.jpg  \n",
            "  inflating: destination_folder/data-2/train/images/acne-248_jpeg.rf.9e4f57bbf4202a85b336503d3b358c40.jpg  \n",
            "  inflating: destination_folder/data-2/train/images/acne-248_jpeg.rf.ba3f7c48a04cf4cc9b0a9ac8a6ec58d0.jpg  \n",
            "  inflating: destination_folder/data-2/train/images/acne-249_jpeg.rf.0fab9e777d354aa5e63acdaef998679e.jpg  \n",
            "  inflating: destination_folder/data-2/train/images/acne-249_jpeg.rf.4060e71acec2c63b9a52b027c8efa9ac.jpg  \n",
            "  inflating: destination_folder/data-2/train/images/acne-249_jpeg.rf.74586fb9ccb9b2b9cd14569cf17e5866.jpg  \n",
            "  inflating: destination_folder/data-2/train/images/acne-24_jpeg.rf.baa0f5a4aeba2132b48dd958e6911b1a.jpg  \n",
            "  inflating: destination_folder/data-2/train/images/acne-24_jpeg.rf.d8d7cdb672a8c411c9822ed978d0f06b.jpg  \n",
            "  inflating: destination_folder/data-2/train/images/acne-24_jpeg.rf.e9277e4ceaa85466f5ef66341947b8e8.jpg  \n",
            "  inflating: destination_folder/data-2/train/images/acne-250_jpeg.rf.1685917ec76c978971bd9c1b32a19678.jpg  \n",
            "  inflating: destination_folder/data-2/train/images/acne-250_jpeg.rf.2b1fce5f13deb5d4c1483ee4d0ebadd6.jpg  \n",
            "  inflating: destination_folder/data-2/train/images/acne-250_jpeg.rf.6692d9b364eaea9ba7f70cf45ec4a68b.jpg  \n",
            "  inflating: destination_folder/data-2/train/images/acne-251_jpeg.rf.2a9f2c9b3c607680d42bfdaefb369f85.jpg  \n",
            "  inflating: destination_folder/data-2/train/images/acne-251_jpeg.rf.36071d927cffe148bde795307ecf352d.jpg  \n",
            "  inflating: destination_folder/data-2/train/images/acne-251_jpeg.rf.3ffc5e75a252fe9ed7ee8e2ff38bb378.jpg  \n",
            "  inflating: destination_folder/data-2/train/images/acne-252_jpeg.rf.02d3e4f593f97ac628edb768652d09bc.jpg  \n",
            "  inflating: destination_folder/data-2/train/images/acne-252_jpeg.rf.44d57ce03a6816d5db621664c52c4fce.jpg  \n",
            "  inflating: destination_folder/data-2/train/images/acne-252_jpeg.rf.98d057b590c7d2661a0c3baa1bd01187.jpg  \n",
            "  inflating: destination_folder/data-2/train/images/acne-253_jpeg.rf.0d8326d149e20928c2b1c1138e716a3d.jpg  \n",
            "  inflating: destination_folder/data-2/train/images/acne-253_jpeg.rf.7ac45e1686120921503191edd292aaf5.jpg  \n",
            "  inflating: destination_folder/data-2/train/images/acne-253_jpeg.rf.e154d63b84079d632df8e55caed9cfa9.jpg  \n",
            "  inflating: destination_folder/data-2/train/images/acne-254_jpeg.rf.3804dd6f10c511c2ec0763aaf55594a4.jpg  \n",
            "  inflating: destination_folder/data-2/train/images/acne-254_jpeg.rf.88cbc08ac5888b008a34030b7d82e2a4.jpg  \n",
            "  inflating: destination_folder/data-2/train/images/acne-254_jpeg.rf.e9349a9efaa9442bc374fccbded6ff60.jpg  \n",
            "  inflating: destination_folder/data-2/train/images/acne-255_jpeg.rf.9291c5262240f4fbda98110fa6ab6b1e.jpg  \n",
            "  inflating: destination_folder/data-2/train/images/acne-255_jpeg.rf.aa4f675a126ab3ecd31f53c8d9754976.jpg  \n",
            "  inflating: destination_folder/data-2/train/images/acne-255_jpeg.rf.d08fb6f41c766b708aca5e0df7021654.jpg  \n",
            "  inflating: destination_folder/data-2/train/images/acne-256_jpeg.rf.264048eed0beacf9b87715f34f5279a4.jpg  \n",
            "  inflating: destination_folder/data-2/train/images/acne-256_jpeg.rf.9b889ac65bb1c85b33a2c314284ad6be.jpg  \n",
            "  inflating: destination_folder/data-2/train/images/acne-256_jpeg.rf.c22c1638acc0a779fe97ebbb758cdd2d.jpg  \n",
            "  inflating: destination_folder/data-2/train/images/acne-258_jpeg.rf.1d696f16032fca31a79513c9331d5ed0.jpg  \n",
            "  inflating: destination_folder/data-2/train/images/acne-258_jpeg.rf.c6937ddeacbc12fceaba7a559a419cf0.jpg  \n",
            "  inflating: destination_folder/data-2/train/images/acne-258_jpeg.rf.c8c4a7a7a56b356380046d016e3c11f0.jpg  \n",
            "  inflating: destination_folder/data-2/train/images/acne-259_jpeg.rf.08339d4984a98c11ac6656873b322c50.jpg  \n",
            "  inflating: destination_folder/data-2/train/images/acne-259_jpeg.rf.77da9681a14010b5ac66fb38eef85c07.jpg  \n",
            "  inflating: destination_folder/data-2/train/images/acne-259_jpeg.rf.a8d0bd1f501bcaec124233bceb542373.jpg  \n",
            "  inflating: destination_folder/data-2/train/images/acne-260_jpeg.rf.56e7a9f22a7851f1b53be292fdb929c9.jpg  \n",
            "  inflating: destination_folder/data-2/train/images/acne-260_jpeg.rf.5c8e935a9fab3530d525cd1d89cd22ab.jpg  \n",
            "  inflating: destination_folder/data-2/train/images/acne-260_jpeg.rf.ece37464f2edf715db748266485a76f6.jpg  \n",
            "  inflating: destination_folder/data-2/train/images/acne-261_jpeg.rf.28f94e254d0dd7756dbce49f63ce2d97.jpg  \n",
            "  inflating: destination_folder/data-2/train/images/acne-261_jpeg.rf.2c09c204860acdd00631efedb161eaee.jpg  \n",
            "  inflating: destination_folder/data-2/train/images/acne-261_jpeg.rf.3df1d961af27dde5e7b5f68a8fa72494.jpg  \n",
            "  inflating: destination_folder/data-2/train/images/acne-262_jpeg.rf.36a982c9495a6f9378a19e9344bd6d09.jpg  \n",
            "  inflating: destination_folder/data-2/train/images/acne-262_jpeg.rf.5d09bed19804b673a2ac648102744558.jpg  \n",
            "  inflating: destination_folder/data-2/train/images/acne-262_jpeg.rf.afa37603fe5f54b8eace275167430729.jpg  \n",
            "  inflating: destination_folder/data-2/train/images/acne-263_jpeg.rf.05b2f4de9e3a20b040f1dfb8b74d2d1a.jpg  \n",
            "  inflating: destination_folder/data-2/train/images/acne-263_jpeg.rf.45f08e159b5752a86f7ed01459f7b4ed.jpg  \n",
            "  inflating: destination_folder/data-2/train/images/acne-263_jpeg.rf.fd0b33ee0dbe2fe0fc08d144d704d1ff.jpg  \n",
            "  inflating: destination_folder/data-2/train/images/acne-264_jpeg.rf.4ca425fecee74e503bca84463aab5cf7.jpg  \n",
            "  inflating: destination_folder/data-2/train/images/acne-264_jpeg.rf.c2f687a278fc20c5411577713e0f11a8.jpg  \n",
            "  inflating: destination_folder/data-2/train/images/acne-264_jpeg.rf.c9ef70d5db9441f96fbda14d7ee9fe92.jpg  \n",
            "  inflating: destination_folder/data-2/train/images/acne-265_jpeg.rf.221c9b831e6923d24de3460c49072b99.jpg  \n",
            "  inflating: destination_folder/data-2/train/images/acne-265_jpeg.rf.28dc1f89934291b26b04c66bcbf57be0.jpg  \n",
            "  inflating: destination_folder/data-2/train/images/acne-265_jpeg.rf.6d35e98ec4f69eb5a8012b50c7c2f608.jpg  \n",
            "  inflating: destination_folder/data-2/train/images/acne-266_jpeg.rf.28933fedfa8b3997cabeeec11f865667.jpg  \n",
            "  inflating: destination_folder/data-2/train/images/acne-266_jpeg.rf.8544320c91133e2f95af7c7512e06f19.jpg  \n",
            "  inflating: destination_folder/data-2/train/images/acne-266_jpeg.rf.f24013f661ebe46b8fcc302349ae81e2.jpg  \n",
            "  inflating: destination_folder/data-2/train/images/acne-268_jpeg.rf.5acc4a588a7bd16225522b12673f6f90.jpg  \n",
            "  inflating: destination_folder/data-2/train/images/acne-268_jpeg.rf.e5a4f44f0af800e8d58fe2c7ccbc39da.jpg  \n",
            "  inflating: destination_folder/data-2/train/images/acne-268_jpeg.rf.f5740bd4e859015e8d02ec408dc4aec2.jpg  \n",
            "  inflating: destination_folder/data-2/train/images/acne-269_jpeg.rf.3fdd24755d11661703669be0ca18a612.jpg  \n",
            "  inflating: destination_folder/data-2/train/images/acne-269_jpeg.rf.bbfda39f824b3e05daaa3f17cc28b2a8.jpg  \n",
            "  inflating: destination_folder/data-2/train/images/acne-269_jpeg.rf.e507376b24748624f92d3c0b37391e00.jpg  \n",
            "  inflating: destination_folder/data-2/train/images/acne-270_jpeg.rf.02b4b1d03ec73351a0ab15ea93028650.jpg  \n",
            "  inflating: destination_folder/data-2/train/images/acne-270_jpeg.rf.5cfa8c65b242d57a44805ffe812a01e5.jpg  \n",
            "  inflating: destination_folder/data-2/train/images/acne-270_jpeg.rf.b76440e3612c6a660c7e1932e81da7e4.jpg  \n",
            "  inflating: destination_folder/data-2/train/images/acne-272_jpeg.rf.8e771c50868bbb1091207a059ca3dca0.jpg  \n",
            "  inflating: destination_folder/data-2/train/images/acne-272_jpeg.rf.f2a52a5091e827195d89bb2e1adc68f2.jpg  \n",
            "  inflating: destination_folder/data-2/train/images/acne-272_jpeg.rf.f60235307b067bc131380ed6671437a4.jpg  \n",
            "  inflating: destination_folder/data-2/train/images/acne-273_jpeg.rf.2c96969d8a1f9e271106aa1845ae2c3d.jpg  \n",
            "  inflating: destination_folder/data-2/train/images/acne-273_jpeg.rf.e18dc566aa45fcabd5a200dd86074c60.jpg  \n",
            "  inflating: destination_folder/data-2/train/images/acne-273_jpeg.rf.f1b90cd6256ff39c393140634e65b4f5.jpg  \n",
            "  inflating: destination_folder/data-2/train/images/acne-274_jpeg.rf.18debabcc2bd570e8ba04deee7365362.jpg  \n",
            "  inflating: destination_folder/data-2/train/images/acne-274_jpeg.rf.6e5283ddb6357ba59b0df93ae4ae593e.jpg  \n",
            "  inflating: destination_folder/data-2/train/images/acne-274_jpeg.rf.b89c832c00d43006a473c082a676bf8a.jpg  \n",
            "  inflating: destination_folder/data-2/train/images/acne-275_jpeg.rf.962d3c2a351449de8f7a218c4a5f6cb0.jpg  \n",
            "  inflating: destination_folder/data-2/train/images/acne-275_jpeg.rf.bf7708c917e32843d1256126e9901939.jpg  \n",
            "  inflating: destination_folder/data-2/train/images/acne-275_jpeg.rf.f2994243e64d1c183465fb7d9141e955.jpg  \n",
            "  inflating: destination_folder/data-2/train/images/acne-277_jpeg.rf.22d440c4bcd4d50ed40790f3ee2d2fd4.jpg  \n",
            "  inflating: destination_folder/data-2/train/images/acne-277_jpeg.rf.9240ff1d70d0b4c8334f56855261ff92.jpg  \n",
            "  inflating: destination_folder/data-2/train/images/acne-277_jpeg.rf.c933b8a394f5fb21129277aff731ad04.jpg  \n",
            "  inflating: destination_folder/data-2/train/images/acne-278_jpeg.rf.3e21ea9cfde6b63b9819b6ba5f5ff54f.jpg  \n",
            "  inflating: destination_folder/data-2/train/images/acne-278_jpeg.rf.4204e0cf965d42b30ed06382b7499776.jpg  \n",
            "  inflating: destination_folder/data-2/train/images/acne-278_jpeg.rf.5cd572723b9c01814a9f32f79bb16fde.jpg  \n",
            "  inflating: destination_folder/data-2/train/images/acne-279_jpeg.rf.574135e32a8f9a735a8c0156b34fc33c.jpg  \n",
            "  inflating: destination_folder/data-2/train/images/acne-279_jpeg.rf.58a6424ac5746b92c772d2bc9a62b183.jpg  \n",
            "  inflating: destination_folder/data-2/train/images/acne-279_jpeg.rf.c93f53ae9fdc420e918ca3d523cb7699.jpg  \n",
            "  inflating: destination_folder/data-2/train/images/acne-280_jpeg.rf.043d7ff205e61574c18d1a51dbc8e528.jpg  \n",
            "  inflating: destination_folder/data-2/train/images/acne-280_jpeg.rf.2e05aec0290c93461730b485a4454f32.jpg  \n",
            "  inflating: destination_folder/data-2/train/images/acne-280_jpeg.rf.3fc1d746ee1d9ee8f94e5b8e13869c32.jpg  \n",
            "  inflating: destination_folder/data-2/train/images/acne-281_jpeg.rf.269c38281b84a2a86e0f987e62edc571.jpg  \n",
            "  inflating: destination_folder/data-2/train/images/acne-281_jpeg.rf.d8eabd19871f7dd2e7cffe7825a2fe01.jpg  \n",
            "  inflating: destination_folder/data-2/train/images/acne-281_jpeg.rf.f2072868eb678168f54f10187606759c.jpg  \n",
            "  inflating: destination_folder/data-2/train/images/acne-282_jpeg.rf.2b0cc8d72fc1111adda59750e815492e.jpg  \n",
            "  inflating: destination_folder/data-2/train/images/acne-282_jpeg.rf.a47b3c0ba41952cdbcf2e571490a4a7f.jpg  \n",
            "  inflating: destination_folder/data-2/train/images/acne-282_jpeg.rf.a7f5d7ac92b15c00f45b5d8d90e8e81c.jpg  \n",
            "  inflating: destination_folder/data-2/train/images/acne-283_jpeg.rf.682f2f5641c37539f30f61ba73192625.jpg  \n",
            "  inflating: destination_folder/data-2/train/images/acne-283_jpeg.rf.f08f5a8e3cdceeaba0bb98f188a7a3e0.jpg  \n",
            "  inflating: destination_folder/data-2/train/images/acne-283_jpeg.rf.f605ae91ce57e0d4138bdf279cc17397.jpg  \n",
            "  inflating: destination_folder/data-2/train/images/acne-285_jpeg.rf.2303ee48a34ad787cb483d5014cce61c.jpg  \n",
            "  inflating: destination_folder/data-2/train/images/acne-285_jpeg.rf.9e03cf2f6e78640d15671d542de12cac.jpg  \n",
            "  inflating: destination_folder/data-2/train/images/acne-285_jpeg.rf.d5899ab24f731625c88f2309bdf693d2.jpg  \n",
            "  inflating: destination_folder/data-2/train/images/acne-287_jpeg.rf.0e3351b30d0ffeee1c87427015114682.jpg  \n",
            "  inflating: destination_folder/data-2/train/images/acne-287_jpeg.rf.26a033f8acf312e5ae68de86a886be7a.jpg  \n",
            "  inflating: destination_folder/data-2/train/images/acne-287_jpeg.rf.2f8ab412b79cdc05c82405422d9da6fa.jpg  \n",
            "  inflating: destination_folder/data-2/train/images/acne-288_jpeg.rf.0ef9f5fbfd0cb74a936672dcc9c9ea7c.jpg  \n",
            "  inflating: destination_folder/data-2/train/images/acne-288_jpeg.rf.6bc0d3fb53c759d5318cf7f1658d817f.jpg  \n",
            "  inflating: destination_folder/data-2/train/images/acne-288_jpeg.rf.d391fc8b216dec340d6239c8174c5f80.jpg  \n",
            "  inflating: destination_folder/data-2/train/images/acne-289_jpeg.rf.667cb427eee802286bce9c6867829f9b.jpg  \n",
            "  inflating: destination_folder/data-2/train/images/acne-289_jpeg.rf.84b2a2a9e363095c3f506fe4b2cd98ad.jpg  \n",
            "  inflating: destination_folder/data-2/train/images/acne-289_jpeg.rf.d3defa0dc791248893efb70114f0744a.jpg  \n",
            "  inflating: destination_folder/data-2/train/images/acne-28_jpeg.rf.0779dcb29db01f05b5e55255fd894752.jpg  \n",
            "  inflating: destination_folder/data-2/train/images/acne-28_jpeg.rf.e49869b4920dbb3e623c1724bad853c6.jpg  \n",
            "  inflating: destination_folder/data-2/train/images/acne-28_jpeg.rf.ebdca88990f4baf196b8147e5d785fbe.jpg  \n",
            "  inflating: destination_folder/data-2/train/images/acne-293_jpeg.rf.4c57ffc9138c5c8ceb3f16e8f57431e4.jpg  \n",
            "  inflating: destination_folder/data-2/train/images/acne-293_jpeg.rf.b29d595aa8eb4598f5518af9f64e8ed1.jpg  \n",
            "  inflating: destination_folder/data-2/train/images/acne-293_jpeg.rf.b5a85b35c691244b87786afaa916d226.jpg  \n",
            "  inflating: destination_folder/data-2/train/images/acne-294_jpeg.rf.06965fed951caff14fdd95dcdb3fee1d.jpg  \n",
            "  inflating: destination_folder/data-2/train/images/acne-294_jpeg.rf.07555dc6d9d86c479ead2905b6ffa370.jpg  \n",
            "  inflating: destination_folder/data-2/train/images/acne-294_jpeg.rf.2fc2cae80fb6ad75143c3db3f73b5712.jpg  \n",
            "  inflating: destination_folder/data-2/train/images/acne-295_jpeg.rf.308ad47a267ea8383e5c26334a6d343b.jpg  \n",
            "  inflating: destination_folder/data-2/train/images/acne-295_jpeg.rf.e1794d40fb18dc5a76f22a2f93f57ed3.jpg  \n",
            "  inflating: destination_folder/data-2/train/images/acne-295_jpeg.rf.fbce78c91767f2528943f8a808c989d5.jpg  \n",
            "  inflating: destination_folder/data-2/train/images/acne-296_jpeg.rf.0c793eaa8ff4040f8f4773c85cbf0229.jpg  \n",
            "  inflating: destination_folder/data-2/train/images/acne-296_jpeg.rf.1305224378083f2a2a7325a85e529cd2.jpg  \n",
            "  inflating: destination_folder/data-2/train/images/acne-296_jpeg.rf.4b7a51eef9635e31d42f3cb2a86648c7.jpg  \n",
            "  inflating: destination_folder/data-2/train/images/acne-297_jpeg.rf.88dc8c0f4c7b088c16aade56961db50e.jpg  \n",
            "  inflating: destination_folder/data-2/train/images/acne-297_jpeg.rf.ad7f6811d6c985982b88fdacd9c3cdd0.jpg  \n",
            "  inflating: destination_folder/data-2/train/images/acne-297_jpeg.rf.fa66ef476c33461675c5b2296b901a6d.jpg  \n",
            "  inflating: destination_folder/data-2/train/images/acne-298_jpeg.rf.73b96de78ba1c2aa86eda297a5a7fb22.jpg  \n",
            "  inflating: destination_folder/data-2/train/images/acne-298_jpeg.rf.80a33e3d695ddd6b1552a5bce6e98d4e.jpg  \n",
            "  inflating: destination_folder/data-2/train/images/acne-298_jpeg.rf.8445c28ab2956fcd0168767b748c9b3f.jpg  \n",
            "  inflating: destination_folder/data-2/train/images/acne-299_jpeg.rf.110c3f91aa4758e9fd18fbe5975c1e38.jpg  \n",
            "  inflating: destination_folder/data-2/train/images/acne-299_jpeg.rf.193780200dffa83e6069b20d7eb65086.jpg  \n",
            "  inflating: destination_folder/data-2/train/images/acne-299_jpeg.rf.ec7aa0661240eaab8fc8fcbe05ad558b.jpg  \n",
            "  inflating: destination_folder/data-2/train/images/acne-29_jpeg.rf.707590656ec25deb88c16de37d21d7ed.jpg  \n",
            "  inflating: destination_folder/data-2/train/images/acne-29_jpeg.rf.a24f12e840936acca22493e5b9b680c4.jpg  \n",
            "  inflating: destination_folder/data-2/train/images/acne-29_jpeg.rf.b4046180aab488bb66e4526381a0bae1.jpg  \n",
            "  inflating: destination_folder/data-2/train/images/acne-300_jpeg.rf.0827844ebf261e9e2169581a6cb28874.jpg  \n",
            "  inflating: destination_folder/data-2/train/images/acne-300_jpeg.rf.1b253f89f597b1b2d4c6ca99bda30381.jpg  \n",
            "  inflating: destination_folder/data-2/train/images/acne-300_jpeg.rf.37d6ebe89a9258816b60beac5c432deb.jpg  \n",
            "  inflating: destination_folder/data-2/train/images/acne-301_jpeg.rf.3b8d86ba191dee67dc51b7e88356e287.jpg  \n",
            "  inflating: destination_folder/data-2/train/images/acne-301_jpeg.rf.70af8f642e9ad2bf27fe5684850ef40e.jpg  \n",
            "  inflating: destination_folder/data-2/train/images/acne-301_jpeg.rf.8106738a68360a3b4b44213002378a11.jpg  \n",
            "  inflating: destination_folder/data-2/train/images/acne-302_jpeg.rf.39d5cd7876a0868d79a972616a4f9453.jpg  \n",
            "  inflating: destination_folder/data-2/train/images/acne-302_jpeg.rf.4fb146c4ee39e5667172f7c560eb8f9a.jpg  \n",
            "  inflating: destination_folder/data-2/train/images/acne-302_jpeg.rf.695c4d95f41391fbee11021363a7c2cf.jpg  \n",
            "  inflating: destination_folder/data-2/train/images/acne-303_jpeg.rf.0afc7b236db9b4d5728bc61905f6a4ce.jpg  \n",
            "  inflating: destination_folder/data-2/train/images/acne-303_jpeg.rf.bf471d912e0f8f2114ca931bae2a5e95.jpg  \n",
            "  inflating: destination_folder/data-2/train/images/acne-303_jpeg.rf.e7c788b6515756a248c34066f097814d.jpg  \n",
            "  inflating: destination_folder/data-2/train/images/acne-304_jpeg.rf.77962a6df5f121604e80cbb050034066.jpg  \n",
            "  inflating: destination_folder/data-2/train/images/acne-304_jpeg.rf.ebbbd6ba2e236aa84216690eff37ec1d.jpg  \n",
            "  inflating: destination_folder/data-2/train/images/acne-304_jpeg.rf.f6dababa61a42441d668032b4577994e.jpg  \n",
            "  inflating: destination_folder/data-2/train/images/acne-305_jpeg.rf.2d1d279ddfea1b69eeefab989770cdd5.jpg  \n",
            "  inflating: destination_folder/data-2/train/images/acne-305_jpeg.rf.447a131eee08348db9b4f2aaf24b89eb.jpg  \n",
            "  inflating: destination_folder/data-2/train/images/acne-305_jpeg.rf.503758a0be691560a2e3d73ef1cc7695.jpg  \n",
            "  inflating: destination_folder/data-2/train/images/acne-306_jpeg.rf.28d407fc7715d99a7a6484ecec821353.jpg  \n",
            "  inflating: destination_folder/data-2/train/images/acne-306_jpeg.rf.40691f2c7cb3cd1adc01b94d628f07c2.jpg  \n",
            "  inflating: destination_folder/data-2/train/images/acne-306_jpeg.rf.93fbee6720c5a9b354b3453300bb3992.jpg  \n",
            "  inflating: destination_folder/data-2/train/images/acne-307_jpeg.rf.5297a008770db29598632a05048eba2b.jpg  \n",
            "  inflating: destination_folder/data-2/train/images/acne-307_jpeg.rf.94c2dc3718bb5ad2581945c0fffcaa57.jpg  \n",
            "  inflating: destination_folder/data-2/train/images/acne-307_jpeg.rf.ff4ac1e7b5ce5f6e0352711dfa73d20e.jpg  \n",
            "  inflating: destination_folder/data-2/train/images/acne-308_jpeg.rf.210139eceb1e20107337f66369fdffed.jpg  \n",
            "  inflating: destination_folder/data-2/train/images/acne-308_jpeg.rf.65b144d39627948716e4501a7076b315.jpg  \n",
            "  inflating: destination_folder/data-2/train/images/acne-308_jpeg.rf.d62319b7946355fa41a8ade9b8473a68.jpg  \n",
            "  inflating: destination_folder/data-2/train/images/acne-309_jpeg.rf.7e3da349c7bf40ef728a16e75e0d86de.jpg  \n",
            "  inflating: destination_folder/data-2/train/images/acne-309_jpeg.rf.c873de2e8d5769a1e9fbc1a8b7a507fd.jpg  \n",
            "  inflating: destination_folder/data-2/train/images/acne-309_jpeg.rf.ced4ac5492bed97773d915cca6c77df5.jpg  \n",
            "  inflating: destination_folder/data-2/train/images/acne-30_jpeg.rf.093be01147ffe73677435553b5ff88b3.jpg  \n",
            "  inflating: destination_folder/data-2/train/images/acne-30_jpeg.rf.323277384ff63e3204b6bdcdd1284356.jpg  \n",
            "  inflating: destination_folder/data-2/train/images/acne-30_jpeg.rf.a0496a290183a84f56100a623fe63a30.jpg  \n",
            "  inflating: destination_folder/data-2/train/images/acne-311_jpeg.rf.048b66cab5e30735f4e4d4293eeff8ea.jpg  \n",
            "  inflating: destination_folder/data-2/train/images/acne-311_jpeg.rf.ce8c9d5044c01272993412e48f44d625.jpg  \n",
            "  inflating: destination_folder/data-2/train/images/acne-311_jpeg.rf.f60d123b327f9ccf4a2fe23864562086.jpg  \n",
            "  inflating: destination_folder/data-2/train/images/acne-312_jpeg.rf.1af65ed498f64c5050d20705378da211.jpg  \n",
            "  inflating: destination_folder/data-2/train/images/acne-312_jpeg.rf.ccaded28aeb5d25f057ed31075e6a2e2.jpg  \n",
            "  inflating: destination_folder/data-2/train/images/acne-312_jpeg.rf.e6122630d600d32cdb7d18aa87a5c874.jpg  \n",
            "  inflating: destination_folder/data-2/train/images/acne-313_jpeg.rf.da7c72144244084311cce5cdee2d51ae.jpg  \n",
            "  inflating: destination_folder/data-2/train/images/acne-313_jpeg.rf.e1078f4c5f586767c81afb7d1eef16e6.jpg  \n",
            "  inflating: destination_folder/data-2/train/images/acne-313_jpeg.rf.ef7b83bf079670f7ffec2ba3b2dfd430.jpg  \n",
            "  inflating: destination_folder/data-2/train/images/acne-314_jpeg.rf.5c9e21128c365b6892211ab9be3e0626.jpg  \n",
            "  inflating: destination_folder/data-2/train/images/acne-314_jpeg.rf.e15998758f9ee99e20780a0ebbfc64f2.jpg  \n",
            "  inflating: destination_folder/data-2/train/images/acne-314_jpeg.rf.ed74ef46b15ca68c0888494ecc36802f.jpg  \n",
            "  inflating: destination_folder/data-2/train/images/acne-316_jpeg.rf.4d78682dca505e9a307dc9afee2c2a98.jpg  \n",
            "  inflating: destination_folder/data-2/train/images/acne-316_jpeg.rf.7269093f7038311d0134f6b370525859.jpg  \n",
            "  inflating: destination_folder/data-2/train/images/acne-316_jpeg.rf.d4e1b012f4a1d6b9e607a8ff4a5a0da9.jpg  \n",
            "  inflating: destination_folder/data-2/train/images/acne-317_jpeg.rf.46ed7951f87afb2e53a0f78fa5f783a4.jpg  \n",
            "  inflating: destination_folder/data-2/train/images/acne-317_jpeg.rf.67150dd365e3698fce482a944e674fde.jpg  \n",
            "  inflating: destination_folder/data-2/train/images/acne-317_jpeg.rf.7b7d3ede64a00397babad2c3fa9f8470.jpg  \n",
            "  inflating: destination_folder/data-2/train/images/acne-318_jpeg.rf.14b5537b3bf111c0a0ca9de9ccb85932.jpg  \n",
            "  inflating: destination_folder/data-2/train/images/acne-318_jpeg.rf.3019f1975e0d3ec5ebefef7472185f3b.jpg  \n",
            "  inflating: destination_folder/data-2/train/images/acne-318_jpeg.rf.cd2f729339f69140f92978c19e0664b0.jpg  \n",
            "  inflating: destination_folder/data-2/train/images/acne-321_jpeg.rf.74d6fa49eae2e7b016116113c68ba39f.jpg  \n",
            "  inflating: destination_folder/data-2/train/images/acne-321_jpeg.rf.8b746dd8e9fed6bdb3c9be0101076b71.jpg  \n",
            "  inflating: destination_folder/data-2/train/images/acne-321_jpeg.rf.e6bcc4a787ddac7730b017f3822ed082.jpg  \n",
            "  inflating: destination_folder/data-2/train/images/acne-323_jpeg.rf.6662d6674b7883fb77d247bb5fc7d2bf.jpg  \n",
            "  inflating: destination_folder/data-2/train/images/acne-323_jpeg.rf.c995a17e495945f640bc73d48b115fde.jpg  \n",
            "  inflating: destination_folder/data-2/train/images/acne-323_jpeg.rf.d32d7666e02adc1e58a966e9e22f1659.jpg  \n",
            "  inflating: destination_folder/data-2/train/images/acne-326_jpeg.rf.8d2d5e7518b1299974190173d0bcc106.jpg  \n",
            "  inflating: destination_folder/data-2/train/images/acne-326_jpeg.rf.a38294ebe371460887bf7faa766c446f.jpg  \n",
            "  inflating: destination_folder/data-2/train/images/acne-326_jpeg.rf.c66317ba3381c7eff5d1ea711859a3ba.jpg  \n",
            "  inflating: destination_folder/data-2/train/images/acne-327_jpeg.rf.19f5bff4fbba329b66f6d16ac0b427ef.jpg  \n",
            "  inflating: destination_folder/data-2/train/images/acne-327_jpeg.rf.1eab7e229c29431fef5a7a19b545a91a.jpg  \n",
            "  inflating: destination_folder/data-2/train/images/acne-327_jpeg.rf.6a337ae979a131b4e8c2c22f086bf878.jpg  \n",
            "  inflating: destination_folder/data-2/train/images/acne-330_jpeg.rf.4a9e71f79f3ac432d8f35fd5e4612a2b.jpg  \n",
            "  inflating: destination_folder/data-2/train/images/acne-330_jpeg.rf.8b1c55b99af06bebdd71a096203d4b2c.jpg  \n",
            "  inflating: destination_folder/data-2/train/images/acne-330_jpeg.rf.9e41e6f1e75e668a32459fed05b62a84.jpg  \n",
            "  inflating: destination_folder/data-2/train/images/acne-331_jpeg.rf.4f4b52de1ea6ef286b238e4c072dab59.jpg  \n",
            "  inflating: destination_folder/data-2/train/images/acne-331_jpeg.rf.83ec17dbb2505cc0b8a73dc469e6d85b.jpg  \n",
            "  inflating: destination_folder/data-2/train/images/acne-331_jpeg.rf.c5f8a3c6a50ee512374cad7ce38c9019.jpg  \n",
            "  inflating: destination_folder/data-2/train/images/acne-332_jpeg.rf.22c3007e8a110a4236fd307abb3b03ce.jpg  \n",
            "  inflating: destination_folder/data-2/train/images/acne-332_jpeg.rf.8d6f2cb10ab18da14224de1817cf989a.jpg  \n",
            "  inflating: destination_folder/data-2/train/images/acne-332_jpeg.rf.c818cc35005248abbf274b3469129aed.jpg  \n",
            "  inflating: destination_folder/data-2/train/images/acne-333_jpeg.rf.807cb4d0e4a9d0aa7400da03dc66c401.jpg  \n",
            "  inflating: destination_folder/data-2/train/images/acne-333_jpeg.rf.a6979bf8ff1a21dffd23ebe656977bf8.jpg  \n",
            "  inflating: destination_folder/data-2/train/images/acne-333_jpeg.rf.cf08829a4c2cafda406bea5993dfaf05.jpg  \n",
            "  inflating: destination_folder/data-2/train/images/acne-334_jpeg.rf.3ccb3cffd5806a38c4700d8f27cca524.jpg  \n",
            "  inflating: destination_folder/data-2/train/images/acne-334_jpeg.rf.704a6e2a57ec614231bd2683225afd07.jpg  \n",
            "  inflating: destination_folder/data-2/train/images/acne-334_jpeg.rf.b432e959fcbd94bc4567a10a4aa9e780.jpg  \n",
            "  inflating: destination_folder/data-2/train/images/acne-336_jpeg.rf.51e16db2ee65d5b1300fd9db14e2ff1c.jpg  \n",
            "  inflating: destination_folder/data-2/train/images/acne-336_jpeg.rf.cc2e7b94610e566c652bc75229846c70.jpg  \n",
            "  inflating: destination_folder/data-2/train/images/acne-336_jpeg.rf.d7614515f7b36a7257add178b373e812.jpg  \n",
            "  inflating: destination_folder/data-2/train/images/acne-339_jpeg.rf.89ead30b27764c9ff8f8b9c8fbd6d0d7.jpg  \n",
            "  inflating: destination_folder/data-2/train/images/acne-339_jpeg.rf.9da291f1d86c509cbf8aa00a3a6a0ea0.jpg  \n",
            "  inflating: destination_folder/data-2/train/images/acne-339_jpeg.rf.f36c32fba882a107b011b2c46bf12eef.jpg  \n",
            "  inflating: destination_folder/data-2/train/images/acne-340_jpeg.rf.af9ce04eaa77297fe319b3cde9050f77.jpg  \n",
            "  inflating: destination_folder/data-2/train/images/acne-340_jpeg.rf.c2980243aa844e28b4cc19b02b723df9.jpg  \n",
            "  inflating: destination_folder/data-2/train/images/acne-340_jpeg.rf.d4372441a50c0e449cf86fa871611b33.jpg  \n",
            "  inflating: destination_folder/data-2/train/images/acne-341_jpeg.rf.1210ec15ceba29fde6938260be20388a.jpg  \n",
            "  inflating: destination_folder/data-2/train/images/acne-341_jpeg.rf.4cb410fa46618338d9e935597ba6ad44.jpg  \n",
            "  inflating: destination_folder/data-2/train/images/acne-341_jpeg.rf.78cdff7ab2de2e37502eb5b412ebec9d.jpg  \n",
            "  inflating: destination_folder/data-2/train/images/acne-342_jpeg.rf.19517a7364089a0dc5d54bac00d9aba3.jpg  \n",
            "  inflating: destination_folder/data-2/train/images/acne-342_jpeg.rf.43983d45ed089d5aa6259bd8a75c8843.jpg  \n",
            "  inflating: destination_folder/data-2/train/images/acne-342_jpeg.rf.5249295520380096454ecc28c2fbab82.jpg  \n",
            "  inflating: destination_folder/data-2/train/images/acne-343_jpeg.rf.897705a3f7a11ef2e9cd8c29759c4ef9.jpg  \n",
            "  inflating: destination_folder/data-2/train/images/acne-343_jpeg.rf.b5da5bc6a8466e5838fbf838a63bb924.jpg  \n",
            "  inflating: destination_folder/data-2/train/images/acne-343_jpeg.rf.c85522764d47047f7affd2a3b0af4232.jpg  \n",
            "  inflating: destination_folder/data-2/train/images/acne-344_jpeg.rf.580e6a0e454cf49479d15b0ae2e3db00.jpg  \n",
            "  inflating: destination_folder/data-2/train/images/acne-344_jpeg.rf.b2452461f2e18c63e0f8ece22f7b3756.jpg  \n",
            "  inflating: destination_folder/data-2/train/images/acne-345_jpeg.rf.002b6d9c99b9d10198b110273259bb49.jpg  \n",
            "  inflating: destination_folder/data-2/train/images/acne-345_jpeg.rf.22014dcf795bae3cc2c179a784d8d03f.jpg  \n",
            "  inflating: destination_folder/data-2/train/images/acne-345_jpeg.rf.f59e715bacab2b4767e16e45c013017b.jpg  \n",
            "  inflating: destination_folder/data-2/train/images/acne-346_jpeg.rf.7f6664cf705339001d9b41d67ba7c719.jpg  \n",
            "  inflating: destination_folder/data-2/train/images/acne-346_jpeg.rf.c0c737144ba0f304ed14761968343e9f.jpg  \n",
            "  inflating: destination_folder/data-2/train/images/acne-346_jpeg.rf.cbaa650f00e504b096a8473f93c6468e.jpg  \n",
            "  inflating: destination_folder/data-2/train/images/acne-34_jpeg.rf.02b170dadf4cc50c7baf382e583e0a1c.jpg  \n",
            "  inflating: destination_folder/data-2/train/images/acne-34_jpeg.rf.d085cdfb42ef1e9e0d0ca356ae1346da.jpg  \n",
            "  inflating: destination_folder/data-2/train/images/acne-34_jpeg.rf.f9243484168f8c7fa6ecb6b210f268e9.jpg  \n",
            "  inflating: destination_folder/data-2/train/images/acne-353_jpeg.rf.625e559765bb0d76851d3f9e43bfa1d4.jpg  \n",
            "  inflating: destination_folder/data-2/train/images/acne-353_jpeg.rf.943e3a0e966f544a1f134bf29987a8af.jpg  \n",
            "  inflating: destination_folder/data-2/train/images/acne-353_jpeg.rf.edc35d597e58e570a2e3d663f4fab978.jpg  \n",
            "  inflating: destination_folder/data-2/train/images/acne-354_jpeg.rf.291540ec681427f8fe6ba4297d2908cc.jpg  \n",
            "  inflating: destination_folder/data-2/train/images/acne-354_jpeg.rf.731f027a45c6991d93d449116b814235.jpg  \n",
            "  inflating: destination_folder/data-2/train/images/acne-354_jpeg.rf.d19c094c725f0a1facba4f773d312cb2.jpg  \n",
            "  inflating: destination_folder/data-2/train/images/acne-356_jpeg.rf.5e4c20d1a3d6be4e876cc7e815fe2602.jpg  \n",
            "  inflating: destination_folder/data-2/train/images/acne-356_jpeg.rf.c5a00c8f947192ac42359b2f4a3f9a77.jpg  \n",
            "  inflating: destination_folder/data-2/train/images/acne-356_jpeg.rf.fa2076a41a23a162052ab9224e5a9ebd.jpg  \n",
            "  inflating: destination_folder/data-2/train/images/acne-357_jpeg.rf.2adf3a34d410d5882fbf70ca84b0e7d9.jpg  \n",
            "  inflating: destination_folder/data-2/train/images/acne-357_jpeg.rf.b3f4ff3704e5b2094016b11414bc810c.jpg  \n",
            "  inflating: destination_folder/data-2/train/images/acne-357_jpeg.rf.d1d86e145a090a3f4d28ea3ac43b9c7d.jpg  \n",
            "  inflating: destination_folder/data-2/train/images/acne-360_jpeg.rf.27ace4684843a0688aaecc8f6ca6a610.jpg  \n",
            "  inflating: destination_folder/data-2/train/images/acne-360_jpeg.rf.97c5aeaafafd3e572e30a626610d740e.jpg  \n",
            "  inflating: destination_folder/data-2/train/images/acne-361_jpeg.rf.1cade253a8aa63ca4fecbd580be1319f.jpg  \n",
            "  inflating: destination_folder/data-2/train/images/acne-361_jpeg.rf.aaa6535bc46e0c26197cfe4c51677388.jpg  \n",
            "  inflating: destination_folder/data-2/train/images/acne-361_jpeg.rf.cd9b17ea87f1fe36e9645dcfa026ae14.jpg  \n",
            "  inflating: destination_folder/data-2/train/images/acne-364_jpeg.rf.a341450b7e3d3acd62aedb85a1848dab.jpg  \n",
            "  inflating: destination_folder/data-2/train/images/acne-364_jpeg.rf.b7333e26e44e3ddcdd88e9ecc59978a0.jpg  \n",
            "  inflating: destination_folder/data-2/train/images/acne-364_jpeg.rf.c2863356b7847488b64a67e07eaf3454.jpg  \n",
            "  inflating: destination_folder/data-2/train/images/acne-365_jpeg.rf.10ae61ddb2eeac85cf9d66f68a66d18b.jpg  \n",
            "  inflating: destination_folder/data-2/train/images/acne-365_jpeg.rf.188e94b58976329aac72248d90241590.jpg  \n",
            "  inflating: destination_folder/data-2/train/images/acne-365_jpeg.rf.2427915dd60077bf47867e7c15da8fd2.jpg  \n",
            "  inflating: destination_folder/data-2/train/images/acne-366_jpeg.rf.21d4e73c4485e67d84fe19d9ea9a8470.jpg  \n",
            "  inflating: destination_folder/data-2/train/images/acne-366_jpeg.rf.2ef4dd175cc9cfb53d83d11aa1a0c0f8.jpg  \n",
            "  inflating: destination_folder/data-2/train/images/acne-366_jpeg.rf.d1a229459b6517204bb697e05b485f0c.jpg  \n",
            "  inflating: destination_folder/data-2/train/images/acne-367_jpeg.rf.0256023f81edf9a88db31978ece3be48.jpg  \n",
            "  inflating: destination_folder/data-2/train/images/acne-367_jpeg.rf.4f0b1a39330651e6d704ae0dbde2216a.jpg  \n",
            "  inflating: destination_folder/data-2/train/images/acne-367_jpeg.rf.7b7f404f68052dd966b7596480bcc2a3.jpg  \n",
            "  inflating: destination_folder/data-2/train/images/acne-368_jpeg.rf.0375c66d41b108dfaf27d36b7df29e06.jpg  \n",
            "  inflating: destination_folder/data-2/train/images/acne-368_jpeg.rf.4da0925effde916e57f433c8ceb39301.jpg  \n",
            "  inflating: destination_folder/data-2/train/images/acne-368_jpeg.rf.9b2d89d85c9c49bbaf1a3e6bdca6ae32.jpg  \n",
            "  inflating: destination_folder/data-2/train/images/acne-369_jpeg.rf.86b958fd5657d652169f3714ad97e608.jpg  \n",
            "  inflating: destination_folder/data-2/train/images/acne-369_jpeg.rf.9d16afa9ca997abc262d4fc53453d333.jpg  \n",
            "  inflating: destination_folder/data-2/train/images/acne-369_jpeg.rf.c2ff2e67d05d05952f4a40350f6ad3d0.jpg  \n",
            "  inflating: destination_folder/data-2/train/images/acne-36_jpeg.rf.4efdf2eaba4f4948913d0c7fc3884020.jpg  \n",
            "  inflating: destination_folder/data-2/train/images/acne-36_jpeg.rf.51cfb97155eea90115dbdb6dce03f79e.jpg  \n",
            "  inflating: destination_folder/data-2/train/images/acne-36_jpeg.rf.e6b1128ff2ada48b5247b7b83ce997e0.jpg  \n",
            "  inflating: destination_folder/data-2/train/images/acne-371_jpeg.rf.363bbc85d736aae294e6a79d7cd55ab4.jpg  \n",
            "  inflating: destination_folder/data-2/train/images/acne-371_jpeg.rf.aa86106fe5f4e3d64215502ad691ca30.jpg  \n",
            "  inflating: destination_folder/data-2/train/images/acne-371_jpeg.rf.c0c4d138c3773c1b5a6851993d716e86.jpg  \n",
            "  inflating: destination_folder/data-2/train/images/acne-372_jpeg.rf.26906e49c0b19ece96085c3c8afc6bea.jpg  \n",
            "  inflating: destination_folder/data-2/train/images/acne-372_jpeg.rf.8b720e3b82782272e18eab66f6dc2d32.jpg  \n",
            "  inflating: destination_folder/data-2/train/images/acne-372_jpeg.rf.f214dd2d34d52a467b0b217061c7aba4.jpg  \n",
            "  inflating: destination_folder/data-2/train/images/acne-374_jpeg.rf.56ed2601d7139e2d658aa201bde21116.jpg  \n",
            "  inflating: destination_folder/data-2/train/images/acne-374_jpeg.rf.8546e29127212242b6e5e7650390bd1e.jpg  \n",
            "  inflating: destination_folder/data-2/train/images/acne-374_jpeg.rf.9a7d17e0551efd45d5c0c0307d8e398f.jpg  \n",
            "  inflating: destination_folder/data-2/train/images/acne-375_jpeg.rf.77366ff6701d154088facaea479be255.jpg  \n",
            "  inflating: destination_folder/data-2/train/images/acne-375_jpeg.rf.9a09a23ae1d8e9426e9379e4d9ed1766.jpg  \n",
            "  inflating: destination_folder/data-2/train/images/acne-375_jpeg.rf.c54ccc9b0eb4117e004983c0698b3b03.jpg  \n",
            "  inflating: destination_folder/data-2/train/images/acne-376_jpeg.rf.7dbf19a32e30877ef3748eb9a80f6cfd.jpg  \n",
            "  inflating: destination_folder/data-2/train/images/acne-376_jpeg.rf.8f41eb02e99d94c7e498a1cd0bdbd44c.jpg  \n",
            "  inflating: destination_folder/data-2/train/images/acne-376_jpeg.rf.b9142ebd06a87987fde4b24845324332.jpg  \n",
            "  inflating: destination_folder/data-2/train/images/acne-377_jpeg.rf.09c3859ff50d3f864f8eed5ce8fff6b8.jpg  \n",
            "  inflating: destination_folder/data-2/train/images/acne-377_jpeg.rf.aa0d6fc1d052d267086e063af8d7440b.jpg  \n",
            "  inflating: destination_folder/data-2/train/images/acne-377_jpeg.rf.e2fbe6bd44370d9c27efb5f0c4fe6d43.jpg  \n",
            "  inflating: destination_folder/data-2/train/images/acne-378_jpeg.rf.2ced61875bc16008549fa48ac957ba18.jpg  \n",
            "  inflating: destination_folder/data-2/train/images/acne-378_jpeg.rf.779acc985a7b82aef9e0d51d158bd4b9.jpg  \n",
            "  inflating: destination_folder/data-2/train/images/acne-378_jpeg.rf.d98df002d2683a7c5cc5bb6a1fad32ec.jpg  \n",
            "  inflating: destination_folder/data-2/train/images/acne-379_jpeg.rf.15ab7bab8764a1deb304f2b054d207df.jpg  \n",
            "  inflating: destination_folder/data-2/train/images/acne-379_jpeg.rf.5eb351535b33612163f5c3adff327af8.jpg  \n",
            "  inflating: destination_folder/data-2/train/images/acne-379_jpeg.rf.c2e327c9b280b90da81f13c757f6a8f5.jpg  \n",
            "  inflating: destination_folder/data-2/train/images/acne-381_jpeg.rf.1aaeb5f712aa2284561ed8faae0b8bf4.jpg  \n",
            "  inflating: destination_folder/data-2/train/images/acne-381_jpeg.rf.ddafcb075cc9e3972b3f8d58535cca4b.jpg  \n",
            "  inflating: destination_folder/data-2/train/images/acne-381_jpeg.rf.f0bca72fdfd13c94a3940faf9e406fbf.jpg  \n",
            "  inflating: destination_folder/data-2/train/images/acne-382_jpeg.rf.985f679f84865a9fb015f6a23afc0184.jpg  \n",
            "  inflating: destination_folder/data-2/train/images/acne-382_jpeg.rf.aa3f9daabdc54d8e1aac724ac544591e.jpg  \n",
            "  inflating: destination_folder/data-2/train/images/acne-382_jpeg.rf.db55dbac46a156f1390e1bdd893ba56f.jpg  \n",
            "  inflating: destination_folder/data-2/train/images/acne-383_jpeg.rf.2fc9945d27a400e8b16b39f3a3abbb4f.jpg  \n",
            "  inflating: destination_folder/data-2/train/images/acne-383_jpeg.rf.315b9bc6b3197a159656043ddfbee731.jpg  \n",
            "  inflating: destination_folder/data-2/train/images/acne-383_jpeg.rf.5b5a6967d91a126d7adb9a60119c7588.jpg  \n",
            "  inflating: destination_folder/data-2/train/images/acne-384_jpeg.rf.99fb93bf0634aca34cad28d7c21398c1.jpg  \n",
            "  inflating: destination_folder/data-2/train/images/acne-384_jpeg.rf.9df376fbf19e3858685ee339291b6138.jpg  \n",
            "  inflating: destination_folder/data-2/train/images/acne-384_jpeg.rf.ec3231c38efb89c5d97f2acbd9cbcbc5.jpg  \n",
            "  inflating: destination_folder/data-2/train/images/acne-385_jpeg.rf.194b8fc89123b19866804286f91caff9.jpg  \n",
            "  inflating: destination_folder/data-2/train/images/acne-385_jpeg.rf.d5d01a898e065e15b4cd58ba3bcb2ef0.jpg  \n",
            "  inflating: destination_folder/data-2/train/images/acne-385_jpeg.rf.e1a34318a73237f196396303f2a49d59.jpg  \n",
            "  inflating: destination_folder/data-2/train/images/acne-386_jpeg.rf.391340962432958139ed9931c55dbe75.jpg  \n",
            "  inflating: destination_folder/data-2/train/images/acne-386_jpeg.rf.82c66c8594d3390a39652de3fa53d6ea.jpg  \n",
            "  inflating: destination_folder/data-2/train/images/acne-386_jpeg.rf.91769001c38658738afb1f0867bfd4e6.jpg  \n",
            "  inflating: destination_folder/data-2/train/images/acne-387_jpeg.rf.6d4869774d927eefd56a755e0963e417.jpg  \n",
            "  inflating: destination_folder/data-2/train/images/acne-387_jpeg.rf.c0a3072b5a1f185562e803f4c5da9e1b.jpg  \n",
            "  inflating: destination_folder/data-2/train/images/acne-387_jpeg.rf.ef8e3aa81ad00bf7693e4f54276afe01.jpg  \n",
            "  inflating: destination_folder/data-2/train/images/acne-388_jpeg.rf.00a70fe529d06c6ea14df96abd46ed6d.jpg  \n",
            "  inflating: destination_folder/data-2/train/images/acne-388_jpeg.rf.5ba4c31a95781b26c1a48dc7e5982ef5.jpg  \n",
            "  inflating: destination_folder/data-2/train/images/acne-388_jpeg.rf.b0b73e88c7e3f7ac1459b0fc341d05b1.jpg  \n",
            "  inflating: destination_folder/data-2/train/images/acne-390_jpeg.rf.3ba3ce0a3b71be501538e232e95d11a1.jpg  \n",
            "  inflating: destination_folder/data-2/train/images/acne-390_jpeg.rf.e10fc9bdc6c44c3fd81c97839dec6e6e.jpg  \n",
            "  inflating: destination_folder/data-2/train/images/acne-390_jpeg.rf.f87f3bff712355e1c36e45f4eeec197a.jpg  \n",
            "  inflating: destination_folder/data-2/train/images/acne-391_jpeg.rf.0574e9486dfd815a8721c013009643c4.jpg  \n",
            "  inflating: destination_folder/data-2/train/images/acne-391_jpeg.rf.73e446195045724a71326dbc90e5af2e.jpg  \n",
            "  inflating: destination_folder/data-2/train/images/acne-391_jpeg.rf.ccb0dda0db38d2c500f431d03c026535.jpg  \n",
            "  inflating: destination_folder/data-2/train/images/acne-392_jpeg.rf.0f1a6008b1cd953c23c148dc76e301b9.jpg  \n",
            "  inflating: destination_folder/data-2/train/images/acne-392_jpeg.rf.62dc248594532563b138685db37457e3.jpg  \n",
            "  inflating: destination_folder/data-2/train/images/acne-392_jpeg.rf.8b104cd68b0713735fc8cc2920f3c171.jpg  \n",
            "  inflating: destination_folder/data-2/train/images/acne-393_jpeg.rf.6e6398a10d41e29b78b290318af07fc3.jpg  \n",
            "  inflating: destination_folder/data-2/train/images/acne-393_jpeg.rf.aa0cd382b0657a0da99569093d75a81b.jpg  \n",
            "  inflating: destination_folder/data-2/train/images/acne-393_jpeg.rf.e22909f613d8c62bae6d1a9330ef4e95.jpg  \n",
            "  inflating: destination_folder/data-2/train/images/acne-394_jpeg.rf.6f9376793548ea02948af09cbccd5bd9.jpg  \n",
            "  inflating: destination_folder/data-2/train/images/acne-394_jpeg.rf.7977adb991f0f71c6a70d27d84c70acd.jpg  \n",
            "  inflating: destination_folder/data-2/train/images/acne-394_jpeg.rf.ff80d118ac89d5c1a63726e73abd80ab.jpg  \n",
            "  inflating: destination_folder/data-2/train/images/acne-395_jpeg.rf.8e488b38e5e5576a3ea1f0302d47da3a.jpg  \n",
            "  inflating: destination_folder/data-2/train/images/acne-395_jpeg.rf.a49c2366bd09e30b12904dfd64ba25a0.jpg  \n",
            "  inflating: destination_folder/data-2/train/images/acne-395_jpeg.rf.c84eced7d0c4f1ef1da0ae42af49a29b.jpg  \n",
            "  inflating: destination_folder/data-2/train/images/acne-397_jpeg.rf.135d00f347de4a3dc53439a1b743cab0.jpg  \n",
            "  inflating: destination_folder/data-2/train/images/acne-397_jpeg.rf.2cd37a7d64d4ed004840a13cf5dcd3ae.jpg  \n",
            "  inflating: destination_folder/data-2/train/images/acne-397_jpeg.rf.d234e389ecadbff5554b4b8aa6ebe768.jpg  \n",
            "  inflating: destination_folder/data-2/train/images/acne-398_jpeg.rf.505688f4b1f661eb1abef3ff962bc016.jpg  \n",
            "  inflating: destination_folder/data-2/train/images/acne-398_jpeg.rf.643fe2e633c0c27d4ef47df2d3e35167.jpg  \n",
            "  inflating: destination_folder/data-2/train/images/acne-398_jpeg.rf.808d1696055919e2d6214cbc66da18e3.jpg  \n",
            "  inflating: destination_folder/data-2/train/images/acne-399_jpeg.rf.1986fbdd6d6494360d60421a47ca8536.jpg  \n",
            "  inflating: destination_folder/data-2/train/images/acne-399_jpeg.rf.612e86dcb97d84f3808e22c1d73a8822.jpg  \n",
            "  inflating: destination_folder/data-2/train/images/acne-399_jpeg.rf.aa45a6ad4a79d4c3da26f62b83b77ea1.jpg  \n",
            "  inflating: destination_folder/data-2/train/images/acne-400_jpeg.rf.17f5bed14cb1f3577987b13e9cc02d59.jpg  \n",
            "  inflating: destination_folder/data-2/train/images/acne-400_jpeg.rf.6f6ceef01f7c3692c9aeaeb87166c0f9.jpg  \n",
            "  inflating: destination_folder/data-2/train/images/acne-400_jpeg.rf.8a5527f5b1873dd19b02c29dd9e693a3.jpg  \n",
            "  inflating: destination_folder/data-2/train/images/acne-401_jpeg.rf.530742a0a7770a493dbcdf6c5ce16fe1.jpg  \n",
            "  inflating: destination_folder/data-2/train/images/acne-401_jpeg.rf.82350b1230bd73cb7c58a25b02c71625.jpg  \n",
            "  inflating: destination_folder/data-2/train/images/acne-401_jpeg.rf.a3908ee69841a054d6c166d5fa018ff1.jpg  \n",
            "  inflating: destination_folder/data-2/train/images/acne-402_jpeg.rf.4d11bc7c1dc032855852dae4165b697f.jpg  \n",
            "  inflating: destination_folder/data-2/train/images/acne-402_jpeg.rf.506c2cd50fa906b41ac80f9dbbe5618e.jpg  \n",
            "  inflating: destination_folder/data-2/train/images/acne-402_jpeg.rf.6b9c991d6ae6983c8477efdac6e0a53a.jpg  \n",
            "  inflating: destination_folder/data-2/train/images/acne-403_jpeg.rf.137e5a1d3dfbfc106e99aaa5e8368891.jpg  \n",
            "  inflating: destination_folder/data-2/train/images/acne-403_jpeg.rf.43f7da9f9d69ae4ada3c909640b7ebf8.jpg  \n",
            "  inflating: destination_folder/data-2/train/images/acne-403_jpeg.rf.dc0fa68daf6ab1520af807ea9d7f62ec.jpg  \n",
            "  inflating: destination_folder/data-2/train/images/acne-405_jpeg.rf.3c0894066212ba42330649c242e0508b.jpg  \n",
            "  inflating: destination_folder/data-2/train/images/acne-405_jpeg.rf.5927cc2573154ea6a64e8e181aece8e8.jpg  \n",
            "  inflating: destination_folder/data-2/train/images/acne-405_jpeg.rf.7a67cd6a34f7a9012adfa87d4727f3a1.jpg  \n",
            "  inflating: destination_folder/data-2/train/images/acne-406_jpeg.rf.046be6251368f2122cac81637d5e0603.jpg  \n",
            "  inflating: destination_folder/data-2/train/images/acne-406_jpeg.rf.0d510f52400fbe7e5d13472db0f051f5.jpg  \n",
            "  inflating: destination_folder/data-2/train/images/acne-406_jpeg.rf.8614cb6779208ea080fb9369c56b6a16.jpg  \n",
            "  inflating: destination_folder/data-2/train/images/acne-408_jpeg.rf.83a16019cae0dad54bbadd1e63e863f5.jpg  \n",
            "  inflating: destination_folder/data-2/train/images/acne-408_jpeg.rf.9e83a95814251aa25b03bdd121fc63e1.jpg  \n",
            "  inflating: destination_folder/data-2/train/images/acne-408_jpeg.rf.d272a99439c261a332732dcf882a40ee.jpg  \n",
            "  inflating: destination_folder/data-2/train/images/acne-409_jpeg.rf.60942100639bfe3294a969b6f1687e60.jpg  \n",
            "  inflating: destination_folder/data-2/train/images/acne-409_jpeg.rf.6c849b9ab9d249335ef9982f47be98b6.jpg  \n",
            "  inflating: destination_folder/data-2/train/images/acne-409_jpeg.rf.de36768b426b2176e489c7bc3ad974cb.jpg  \n",
            "  inflating: destination_folder/data-2/train/images/acne-410_jpeg.rf.166675b190d3d9d7e19084e675cd6a0b.jpg  \n",
            "  inflating: destination_folder/data-2/train/images/acne-410_jpeg.rf.37ffe2355a639dec42916f056b306826.jpg  \n",
            "  inflating: destination_folder/data-2/train/images/acne-410_jpeg.rf.caced8b70846cbfe696a0a075af50549.jpg  \n",
            "  inflating: destination_folder/data-2/train/images/acne-411_jpeg.rf.4aa1cacc5b7ed8a3130d134336d83080.jpg  \n",
            "  inflating: destination_folder/data-2/train/images/acne-411_jpeg.rf.7d019ce4b6775c6e3b91b618dcc6b7ec.jpg  \n",
            "  inflating: destination_folder/data-2/train/images/acne-411_jpeg.rf.a862c397f8142672533ee2bdf117a748.jpg  \n",
            "  inflating: destination_folder/data-2/train/images/acne-412_jpeg.rf.3d70c0bfec74e985db5dc829ffc4c69a.jpg  \n",
            "  inflating: destination_folder/data-2/train/images/acne-412_jpeg.rf.63c28862cc0cce70f243bd58d887b69b.jpg  \n",
            "  inflating: destination_folder/data-2/train/images/acne-412_jpeg.rf.dbb3259893ec5ad43a9dcf0266aae515.jpg  \n",
            "  inflating: destination_folder/data-2/train/images/acne-413_jpeg.rf.1daf1fe138da68a4f08a94d1cefb27b9.jpg  \n",
            "  inflating: destination_folder/data-2/train/images/acne-413_jpeg.rf.6ef8475c0f6bce6817a636453b783f48.jpg  \n",
            "  inflating: destination_folder/data-2/train/images/acne-413_jpeg.rf.ab61e2dbd0045c08b528d4bf76fb88ca.jpg  \n",
            "  inflating: destination_folder/data-2/train/images/acne-414_jpeg.rf.71827a785203417d1653d0483f51b99d.jpg  \n",
            "  inflating: destination_folder/data-2/train/images/acne-414_jpeg.rf.7a84ee4e9da558c2e0292a6c5398c211.jpg  \n",
            "  inflating: destination_folder/data-2/train/images/acne-414_jpeg.rf.88b35b1d8242020ac040642e54a44127.jpg  \n",
            "  inflating: destination_folder/data-2/train/images/acne-415_jpeg.rf.05c9e8697889c3a2f3485c7071c3750f.jpg  \n",
            "  inflating: destination_folder/data-2/train/images/acne-415_jpeg.rf.3cb0a68f9f428b1dd3d08c3b62a0ddb6.jpg  \n",
            "  inflating: destination_folder/data-2/train/images/acne-415_jpeg.rf.863c0b4959a108b7e4c536518ffea261.jpg  \n",
            "  inflating: destination_folder/data-2/train/images/acne-416_jpeg.rf.58165474fa5b984361eb851426671d1c.jpg  \n",
            "  inflating: destination_folder/data-2/train/images/acne-416_jpeg.rf.b4487ce29c14c65f263e00dd7d01c99f.jpg  \n",
            "  inflating: destination_folder/data-2/train/images/acne-416_jpeg.rf.d5ba37365bb40265d4702b5d70c716d1.jpg  \n",
            "  inflating: destination_folder/data-2/train/images/acne-418_jpeg.rf.8c366e283cf5fe69ce8ec5416983f1ba.jpg  \n",
            "  inflating: destination_folder/data-2/train/images/acne-418_jpeg.rf.9e0fb71ff475a35be628c485674844af.jpg  \n",
            "  inflating: destination_folder/data-2/train/images/acne-418_jpeg.rf.babdb73015373233846d99bc65d93a97.jpg  \n",
            "  inflating: destination_folder/data-2/train/images/acne-419_jpeg.rf.22e2e44393ce5049c1163fcb407ce2c0.jpg  \n",
            "  inflating: destination_folder/data-2/train/images/acne-419_jpeg.rf.6d16351fad44830bb43a170a6d11a152.jpg  \n",
            "  inflating: destination_folder/data-2/train/images/acne-419_jpeg.rf.8c086224dd459289ac6d873326f94c81.jpg  \n",
            "  inflating: destination_folder/data-2/train/images/acne-41_jpeg.rf.0a5af3c72cbda564daf5fa35de6f9c3d.jpg  \n",
            "  inflating: destination_folder/data-2/train/images/acne-41_jpeg.rf.fd599c1d4532e89b3aa4847093e7183b.jpg  \n",
            "  inflating: destination_folder/data-2/train/images/acne-41_jpeg.rf.fecc9ecbd5f31afb770a6dd1f2d22756.jpg  \n",
            "  inflating: destination_folder/data-2/train/images/acne-421_jpeg.rf.44ea91770555c25240d95db7a5a4c054.jpg  \n",
            "  inflating: destination_folder/data-2/train/images/acne-421_jpeg.rf.80cd99aebc7819b2fbd8da4997c305c8.jpg  \n",
            "  inflating: destination_folder/data-2/train/images/acne-421_jpeg.rf.fd897905e2eed90fa51a98955b6f1aef.jpg  \n",
            "  inflating: destination_folder/data-2/train/images/acne-423_jpeg.rf.12ace9ed601c657e03d589552513381f.jpg  \n",
            "  inflating: destination_folder/data-2/train/images/acne-423_jpeg.rf.3e941f6d0ee02a2ef7d2cce78ad7ad1d.jpg  \n",
            "  inflating: destination_folder/data-2/train/images/acne-423_jpeg.rf.4eb7b5df4ad75115bf9f463d8a74a675.jpg  \n",
            "  inflating: destination_folder/data-2/train/images/acne-425_jpeg.rf.2e6f60571679aa98c5e34bfde3524c08.jpg  \n",
            "  inflating: destination_folder/data-2/train/images/acne-425_jpeg.rf.a75481672426a9921005da4e3c94847e.jpg  \n",
            "  inflating: destination_folder/data-2/train/images/acne-425_jpeg.rf.aa082445f392b37d4cf968080fc451a3.jpg  \n",
            "  inflating: destination_folder/data-2/train/images/acne-426_jpeg.rf.32f7d6eb515c5f5ec7fe0e5bd07bfbc3.jpg  \n",
            "  inflating: destination_folder/data-2/train/images/acne-426_jpeg.rf.43beb99a3d900dd220cdddbeeb87adf1.jpg  \n",
            "  inflating: destination_folder/data-2/train/images/acne-426_jpeg.rf.c6cf511ebfc862bf24a087df1ac10bfd.jpg  \n",
            "  inflating: destination_folder/data-2/train/images/acne-427_jpeg.rf.2da783e959b0fa739da2747fcddad57b.jpg  \n",
            "  inflating: destination_folder/data-2/train/images/acne-427_jpeg.rf.33dfe8c24bba32680676375b9ab21758.jpg  \n",
            "  inflating: destination_folder/data-2/train/images/acne-427_jpeg.rf.f1aec5024b10be1da7f19132dc2f333d.jpg  \n",
            "  inflating: destination_folder/data-2/train/images/acne-428_jpeg.rf.1898c119b4a900ea95fc2e1f61f63633.jpg  \n",
            "  inflating: destination_folder/data-2/train/images/acne-428_jpeg.rf.6bcda835356ebdd45db844bedf582937.jpg  \n",
            "  inflating: destination_folder/data-2/train/images/acne-428_jpeg.rf.d5027004ee479bc1f0fa6f0ed953b254.jpg  \n",
            "  inflating: destination_folder/data-2/train/images/acne-429_jpeg.rf.07d3876e4906567c86e04d02a8fd5430.jpg  \n",
            "  inflating: destination_folder/data-2/train/images/acne-429_jpeg.rf.d90e994f0e6b570071ecb7ea7c1665a1.jpg  \n",
            "  inflating: destination_folder/data-2/train/images/acne-429_jpeg.rf.de91db9b06b86077a563bc6bfcac3bd9.jpg  \n",
            "  inflating: destination_folder/data-2/train/images/acne-431_jpeg.rf.55d9d8dba088d4ed41257ebd578f1cbd.jpg  \n",
            "  inflating: destination_folder/data-2/train/images/acne-431_jpeg.rf.730f40513562fc09b465662c3682c322.jpg  \n",
            "  inflating: destination_folder/data-2/train/images/acne-431_jpeg.rf.b6af8da016d65c420d4d43ccc19921f8.jpg  \n",
            "  inflating: destination_folder/data-2/train/images/acne-435_jpeg.rf.25b6a8e1d564205acd5a72693c2ae356.jpg  \n",
            "  inflating: destination_folder/data-2/train/images/acne-435_jpeg.rf.51be96ecdcc5a997a065b54e79992003.jpg  \n",
            "  inflating: destination_folder/data-2/train/images/acne-435_jpeg.rf.6949c57f3f1009e7126f92202408ad33.jpg  \n",
            "  inflating: destination_folder/data-2/train/images/acne-436_jpeg.rf.5081a57d9c48e608347afff4b798183d.jpg  \n",
            "  inflating: destination_folder/data-2/train/images/acne-436_jpeg.rf.da0a6c94fc959f7b274efd39aff66b86.jpg  \n",
            "  inflating: destination_folder/data-2/train/images/acne-436_jpeg.rf.ec3a421adc32e6d1ea2ebfecae40cad1.jpg  \n",
            "  inflating: destination_folder/data-2/train/images/acne-439_jpeg.rf.09e3f1d8ee5f2c8210105f6e0b1ee7ff.jpg  \n",
            "  inflating: destination_folder/data-2/train/images/acne-439_jpeg.rf.739b9e7b2550b900462320a9b086ce79.jpg  \n",
            "  inflating: destination_folder/data-2/train/images/acne-439_jpeg.rf.c007f11f2d18b68b3d07fbda36372e84.jpg  \n",
            "  inflating: destination_folder/data-2/train/images/acne-441_jpeg.rf.11e4ecfbce81071580a4c488c55359a1.jpg  \n",
            "  inflating: destination_folder/data-2/train/images/acne-441_jpeg.rf.7a3d88de2f38742e4e8d74e7dd913db4.jpg  \n",
            "  inflating: destination_folder/data-2/train/images/acne-441_jpeg.rf.c3cbb13cbe7d7d28976c0bf7ad8a4c9b.jpg  \n",
            "  inflating: destination_folder/data-2/train/images/acne-442_jpeg.rf.4039828c5825e56a2d965eff337a1c49.jpg  \n",
            "  inflating: destination_folder/data-2/train/images/acne-442_jpeg.rf.98fbd79029b796a6a769cb3d7cf6a2e4.jpg  \n",
            "  inflating: destination_folder/data-2/train/images/acne-442_jpeg.rf.aac25ee86644e0903055548cc75b7f5b.jpg  \n",
            "  inflating: destination_folder/data-2/train/images/acne-443_jpeg.rf.035df980e217425cf3c01c69db4e3ca8.jpg  \n",
            "  inflating: destination_folder/data-2/train/images/acne-443_jpeg.rf.66cc2f0992d43d40395e8abb53eea948.jpg  \n",
            "  inflating: destination_folder/data-2/train/images/acne-443_jpeg.rf.8c394880dafd8027d992dec008402504.jpg  \n",
            "  inflating: destination_folder/data-2/train/images/acne-444_jpeg.rf.17c710e4ae97046a1b75f237e00c4083.jpg  \n",
            "  inflating: destination_folder/data-2/train/images/acne-444_jpeg.rf.8a759876b570b709bc7a0c4d360cfbc4.jpg  \n",
            "  inflating: destination_folder/data-2/train/images/acne-444_jpeg.rf.e04558fc0798fa5a6dfa4a0c1f263089.jpg  \n",
            "  inflating: destination_folder/data-2/train/images/acne-445_jpeg.rf.b348a4570ab35b40f38fdcd815110cbf.jpg  \n",
            "  inflating: destination_folder/data-2/train/images/acne-445_jpeg.rf.c7521e2afbdc65191944790d4f54d698.jpg  \n",
            "  inflating: destination_folder/data-2/train/images/acne-445_jpeg.rf.ea1f44c1548bc922b805a8cf9baed35e.jpg  \n",
            "  inflating: destination_folder/data-2/train/images/acne-446_jpeg.rf.49502eeca55f583370ab57a6d2365e13.jpg  \n",
            "  inflating: destination_folder/data-2/train/images/acne-446_jpeg.rf.8e74b2de9ae5b231b4555619d7774e6f.jpg  \n",
            "  inflating: destination_folder/data-2/train/images/acne-446_jpeg.rf.aa12a3b18ac56343efb41e92c3963f39.jpg  \n",
            "  inflating: destination_folder/data-2/train/images/acne-447_jpeg.rf.40589a71ed621a0a4d23df9fbdedda3c.jpg  \n",
            "  inflating: destination_folder/data-2/train/images/acne-447_jpeg.rf.8d3240599fd26dadbdc57d31b9f2318c.jpg  \n",
            "  inflating: destination_folder/data-2/train/images/acne-447_jpeg.rf.b73cd997b638eae09b73b418d144f910.jpg  \n",
            "  inflating: destination_folder/data-2/train/images/acne-448_jpeg.rf.0c01fb516e04b00e61075c48afceff22.jpg  \n",
            "  inflating: destination_folder/data-2/train/images/acne-448_jpeg.rf.906408064849796e0760c3a1cf3f70f3.jpg  \n",
            "  inflating: destination_folder/data-2/train/images/acne-448_jpeg.rf.b021d1dcd56ff06db8c09d314cffc4f5.jpg  \n",
            "  inflating: destination_folder/data-2/train/images/acne-44_jpeg.rf.3a5b1e28ea39743db33f48b46ecb2e67.jpg  \n",
            "  inflating: destination_folder/data-2/train/images/acne-44_jpeg.rf.a09a06ca7108949a3862881a898eb952.jpg  \n",
            "  inflating: destination_folder/data-2/train/images/acne-44_jpeg.rf.ceace1986fb65ad6aea01b6f6f7359a1.jpg  \n",
            "  inflating: destination_folder/data-2/train/images/acne-450_jpeg.rf.4e11d9dcb7bf02787f418a02bdb00c35.jpg  \n",
            "  inflating: destination_folder/data-2/train/images/acne-450_jpeg.rf.c4287e4b16e7dc4edd06e51bfe683938.jpg  \n",
            "  inflating: destination_folder/data-2/train/images/acne-450_jpeg.rf.fec6ed23117910c8617e32059de6dad4.jpg  \n",
            "  inflating: destination_folder/data-2/train/images/acne-451_jpeg.rf.4ba336e1fa676e528d21aa03d76537dc.jpg  \n",
            "  inflating: destination_folder/data-2/train/images/acne-451_jpeg.rf.5d0cea48cdeab0d4da0e1bcc7be09971.jpg  \n",
            "  inflating: destination_folder/data-2/train/images/acne-451_jpeg.rf.ab9da0a0f97f4a3049d0e45b3cf1fff9.jpg  \n",
            "  inflating: destination_folder/data-2/train/images/acne-452_jpeg.rf.90a41e051b49c5770d82a466f442d4df.jpg  \n",
            "  inflating: destination_folder/data-2/train/images/acne-452_jpeg.rf.ac2086e4a2f90cb2cfb6c37f8cb51216.jpg  \n",
            "  inflating: destination_folder/data-2/train/images/acne-452_jpeg.rf.f6a32aff2fdc688217551d797a2afdf6.jpg  \n",
            "  inflating: destination_folder/data-2/train/images/acne-453_jpeg.rf.4421c608bb7ad4edc58efb540f096440.jpg  \n",
            "  inflating: destination_folder/data-2/train/images/acne-453_jpeg.rf.599343d9d86bdff8f2ef1b12c5f3eaac.jpg  \n",
            "  inflating: destination_folder/data-2/train/images/acne-453_jpeg.rf.ad700325bcaac6e54c001d0ed4afaa53.jpg  \n",
            "  inflating: destination_folder/data-2/train/images/acne-455_jpeg.rf.6304d18d7053e41b42da83d22d54643f.jpg  \n",
            "  inflating: destination_folder/data-2/train/images/acne-455_jpeg.rf.c700c1e657da094907796972c60b5d46.jpg  \n",
            "  inflating: destination_folder/data-2/train/images/acne-455_jpeg.rf.ed1d75be36cf2d6565bb23195140fe87.jpg  \n",
            "  inflating: destination_folder/data-2/train/images/acne-456_jpeg.rf.130dc43a9283d658f345f81c13d24430.jpg  \n",
            "  inflating: destination_folder/data-2/train/images/acne-456_jpeg.rf.6cc4a816dfceacefee97f07b0317e977.jpg  \n",
            "  inflating: destination_folder/data-2/train/images/acne-456_jpeg.rf.ebd4ad4ae2390d49bd8739f325fff0b4.jpg  \n",
            "  inflating: destination_folder/data-2/train/images/acne-458_jpeg.rf.1800044c39a5a7bf3ad6c8ee9e9621e9.jpg  \n",
            "  inflating: destination_folder/data-2/train/images/acne-458_jpeg.rf.4a519fee2deeac56b21862117fcd42e3.jpg  \n",
            "  inflating: destination_folder/data-2/train/images/acne-458_jpeg.rf.9dfc3f4adb87460f23c8a99cbf268976.jpg  \n",
            "  inflating: destination_folder/data-2/train/images/acne-48_jpeg.rf.3acdab521ecb10062309943f51c0ec77.jpg  \n",
            "  inflating: destination_folder/data-2/train/images/acne-48_jpeg.rf.4cc8afaf5b4f5e5328775578bf9ce06b.jpg  \n",
            "  inflating: destination_folder/data-2/train/images/acne-48_jpeg.rf.a9ded7072548a490e04644cb2735776d.jpg  \n",
            "  inflating: destination_folder/data-2/train/images/acne-4_jpeg.rf.0b2ca4b5f24346064e0f11154950d2d0.jpg  \n",
            "  inflating: destination_folder/data-2/train/images/acne-4_jpeg.rf.23d05b5c692fea21d34eaf769ffa107c.jpg  \n",
            "  inflating: destination_folder/data-2/train/images/acne-4_jpeg.rf.c438a57664dacd9816090039d5522ded.jpg  \n",
            "  inflating: destination_folder/data-2/train/images/acne-52_jpeg.rf.463ca01427ced8b75e8ad555f6562c85.jpg  \n",
            "  inflating: destination_folder/data-2/train/images/acne-52_jpeg.rf.4ba5bae739485794ad01d6ddb2713b31.jpg  \n",
            "  inflating: destination_folder/data-2/train/images/acne-52_jpeg.rf.9ff829362776e6e93a0380c5ae10dce0.jpg  \n",
            "  inflating: destination_folder/data-2/train/images/acne-53_jpeg.rf.309209351017f3c3f758c34a4f03066d.jpg  \n",
            "  inflating: destination_folder/data-2/train/images/acne-53_jpeg.rf.5e313e36b6a2cdb16036ecfca7bd8ce4.jpg  \n",
            "  inflating: destination_folder/data-2/train/images/acne-53_jpeg.rf.f17c4fe2332f052e5a1d6d2a12edf11b.jpg  \n",
            "  inflating: destination_folder/data-2/train/images/acne-54_jpeg.rf.28ba6467b58feb5da045ed75c4437955.jpg  \n",
            "  inflating: destination_folder/data-2/train/images/acne-54_jpeg.rf.f42808ceac9b99026647fefa6ad40097.jpg  \n",
            "  inflating: destination_folder/data-2/train/images/acne-54_jpeg.rf.fd50ab764a000a713e4213d603feba8a.jpg  \n",
            "  inflating: destination_folder/data-2/train/images/acne-55_jpeg.rf.52d59d05e0557577fad9f5ad4a556b2b.jpg  \n",
            "  inflating: destination_folder/data-2/train/images/acne-55_jpeg.rf.58295d18f65b714284f8b196289592fd.jpg  \n",
            "  inflating: destination_folder/data-2/train/images/acne-55_jpeg.rf.63cbfdb90a0985cf988c074a247c3a38.jpg  \n",
            "  inflating: destination_folder/data-2/train/images/acne-58_jpeg.rf.11b322ab2b7e405a9c44cfa85bb24791.jpg  \n",
            "  inflating: destination_folder/data-2/train/images/acne-58_jpeg.rf.28bfba3d8e2101849e282cb1272be2cf.jpg  \n",
            "  inflating: destination_folder/data-2/train/images/acne-58_jpeg.rf.6a41f6b35e99676c1aa71a5b4184a19a.jpg  \n",
            "  inflating: destination_folder/data-2/train/images/acne-61_jpeg.rf.28209abd219eaf358e32f3e41c368760.jpg  \n",
            "  inflating: destination_folder/data-2/train/images/acne-61_jpeg.rf.44491ade9b975ab6df0431537edb6408.jpg  \n",
            "  inflating: destination_folder/data-2/train/images/acne-61_jpeg.rf.b2138da2b11d668db560197ed1cf225f.jpg  \n",
            "  inflating: destination_folder/data-2/train/images/acne-62_jpeg.rf.476a0dea19e8c7fd1055e2d591005890.jpg  \n",
            "  inflating: destination_folder/data-2/train/images/acne-62_jpeg.rf.70605cf17da5ed58c8681dd07fdd767c.jpg  \n",
            "  inflating: destination_folder/data-2/train/images/acne-62_jpeg.rf.ac3f35c21b2fe5ca0ce4aff6bd348c3b.jpg  \n",
            "  inflating: destination_folder/data-2/train/images/acne-64_jpeg.rf.4186cc3c011874e31e65851c7adff713.jpg  \n",
            "  inflating: destination_folder/data-2/train/images/acne-64_jpeg.rf.860c354c1fe371bc92037186e7531cd0.jpg  \n",
            "  inflating: destination_folder/data-2/train/images/acne-64_jpeg.rf.e3d8ffbbbbde870a7ea825cce556e735.jpg  \n",
            "  inflating: destination_folder/data-2/train/images/acne-71_jpeg.rf.2e67c7ebe6aab3f851e49dd0fc355414.jpg  \n",
            "  inflating: destination_folder/data-2/train/images/acne-71_jpeg.rf.40804f9e8cb069ec301b171bc702fdba.jpg  \n",
            "  inflating: destination_folder/data-2/train/images/acne-71_jpeg.rf.b5adf33b1b35b9ac7d025477efa13bb6.jpg  \n",
            "  inflating: destination_folder/data-2/train/images/acne-73_jpeg.rf.2703f4793f2d5044e08486eff454f0d9.jpg  \n",
            "  inflating: destination_folder/data-2/train/images/acne-73_jpeg.rf.416e2a071e15c7c6c421e8f9c9cbf362.jpg  \n",
            "  inflating: destination_folder/data-2/train/images/acne-73_jpeg.rf.5e196b2c1898b81493da5ffa1cf84ce5.jpg  \n",
            "  inflating: destination_folder/data-2/train/images/acne-74_jpeg.rf.6315f5e2b1dc637f7a0a8cf42381279f.jpg  \n",
            "  inflating: destination_folder/data-2/train/images/acne-74_jpeg.rf.67eee3b2d55309b3ace1df0c70afd9e2.jpg  \n",
            "  inflating: destination_folder/data-2/train/images/acne-74_jpeg.rf.74c00cc08cb76e29f6036261a2dd7596.jpg  \n",
            "  inflating: destination_folder/data-2/train/images/acne-76_jpeg.rf.61a13e5af10b4ecf110131f40b6edf13.jpg  \n",
            "  inflating: destination_folder/data-2/train/images/acne-76_jpeg.rf.9aa5cc4527dc97bbba01df0d453cca88.jpg  \n",
            "  inflating: destination_folder/data-2/train/images/acne-76_jpeg.rf.f3f5114dc7c2c85ae4a52a8faa9165e2.jpg  \n",
            "  inflating: destination_folder/data-2/train/images/acne-79_jpeg.rf.3d89356c593f4a13796c84584f1ebae1.jpg  \n",
            "  inflating: destination_folder/data-2/train/images/acne-79_jpeg.rf.8b03b6494f67a31e4e066213e42f485f.jpg  \n",
            "  inflating: destination_folder/data-2/train/images/acne-79_jpeg.rf.f04fa53e2ca424f3df254c55036cd948.jpg  \n",
            "  inflating: destination_folder/data-2/train/images/acne-80_jpeg.rf.8aea20e2a9046ae3aa7056f9e36052c2.jpg  \n",
            "  inflating: destination_folder/data-2/train/images/acne-80_jpeg.rf.9c64dd4983987dfc7070ff0f35c2eddd.jpg  \n",
            "  inflating: destination_folder/data-2/train/images/acne-80_jpeg.rf.9f84fde7496074c93b503a03de510157.jpg  \n",
            "  inflating: destination_folder/data-2/train/images/acne-81_jpeg.rf.2dcb28c8853605958defd883944aa4cb.jpg  \n",
            "  inflating: destination_folder/data-2/train/images/acne-81_jpeg.rf.40b99f71bb9313696f8e5910e3a845b8.jpg  \n",
            "  inflating: destination_folder/data-2/train/images/acne-81_jpeg.rf.e47065c54dfdd4d5b60a6ae86c82b7eb.jpg  \n",
            "  inflating: destination_folder/data-2/train/images/acne-82_jpeg.rf.58aa128cb89c7440c298ad87ba810f87.jpg  \n",
            "  inflating: destination_folder/data-2/train/images/acne-82_jpeg.rf.74054dbecba236793043b917b0373df6.jpg  \n",
            "  inflating: destination_folder/data-2/train/images/acne-82_jpeg.rf.995da97ae453da87bbc95d23d6e576fa.jpg  \n",
            "  inflating: destination_folder/data-2/train/images/acne-85_jpeg.rf.4954c7005be728243d7e261bb54c7676.jpg  \n",
            "  inflating: destination_folder/data-2/train/images/acne-85_jpeg.rf.ad62617f33028383d5f54a9e96e18f02.jpg  \n",
            "  inflating: destination_folder/data-2/train/images/acne-85_jpeg.rf.f0191760e52e64aeff4a6fa4c3902954.jpg  \n",
            "  inflating: destination_folder/data-2/train/images/acne-87_jpeg.rf.2e7547d12cc90cc178e5a5f54a4361bc.jpg  \n",
            "  inflating: destination_folder/data-2/train/images/acne-87_jpeg.rf.697e9bbaee187193b6500d76711aec34.jpg  \n",
            "  inflating: destination_folder/data-2/train/images/acne-87_jpeg.rf.6b37c6168d53f3f4c81497908a042d88.jpg  \n",
            "  inflating: destination_folder/data-2/train/images/acne-88_jpeg.rf.8c883d0064c9b8b4c12b51f800f35667.jpg  \n",
            "  inflating: destination_folder/data-2/train/images/acne-88_jpeg.rf.a89b4136948caebee438f2859e2c84c1.jpg  \n",
            "  inflating: destination_folder/data-2/train/images/acne-88_jpeg.rf.e5c76005b5292fefddca0e753aee38d1.jpg  \n",
            "  inflating: destination_folder/data-2/train/images/acne-89_jpeg.rf.2d6e99b7acb34ac110655a0129c6f6ff.jpg  \n",
            "  inflating: destination_folder/data-2/train/images/acne-89_jpeg.rf.6b8f0ac57a6528a269583fad16ddb741.jpg  \n",
            "  inflating: destination_folder/data-2/train/images/acne-89_jpeg.rf.773df8d1638ee1ab24ec4f35e9ff7e8b.jpg  \n",
            "  inflating: destination_folder/data-2/train/images/acne-8_jpeg.rf.294cb3bcf0d442b8ad6de0145c53d5ea.jpg  \n",
            "  inflating: destination_folder/data-2/train/images/acne-8_jpeg.rf.3e2cc57abd0219b8c5c54c70125d2ff2.jpg  \n",
            "  inflating: destination_folder/data-2/train/images/acne-8_jpeg.rf.846909f42bc6ab7c2271191b9847b310.jpg  \n",
            "  inflating: destination_folder/data-2/train/images/acne-93_jpeg.rf.30dd3c2dd35c187c279f81197894c65e.jpg  \n",
            "  inflating: destination_folder/data-2/train/images/acne-93_jpeg.rf.8ed4d65382cf14da62dad08e938e414e.jpg  \n",
            "  inflating: destination_folder/data-2/train/images/acne-93_jpeg.rf.f003ed34f9cfc0452a68fd5bd66fa82a.jpg  \n",
            "  inflating: destination_folder/data-2/train/images/acne-94_jpeg.rf.026ec8c717a07c643717eece6f67175a.jpg  \n",
            "  inflating: destination_folder/data-2/train/images/acne-94_jpeg.rf.0e74b52e9ba5c22c361c725fc97cd7d5.jpg  \n",
            "  inflating: destination_folder/data-2/train/images/acne-94_jpeg.rf.c64f8962172091d296b522d43b8e2958.jpg  \n",
            "  inflating: destination_folder/data-2/train/images/acne-96_jpeg.rf.044346d9ee35ca61da01a4fb2f7ac9f9.jpg  \n",
            "  inflating: destination_folder/data-2/train/images/acne-96_jpeg.rf.f41b28fa92fa839f053bce9a3ec1637e.jpg  \n",
            "  inflating: destination_folder/data-2/train/images/acne-96_jpeg.rf.ff885bfd24e5fd4322f0189e98ade0ac.jpg  \n",
            "  inflating: destination_folder/data-2/train/images/acne-9_jpeg.rf.212c446a5902af3d2c20c95e80c2fe14.jpg  \n",
            "  inflating: destination_folder/data-2/train/images/acne-9_jpeg.rf.af8b7f78342611641a751fbacd838415.jpg  \n",
            "  inflating: destination_folder/data-2/train/images/acne-9_jpeg.rf.f4c2ca2d6212d212b29a6a9644d997db.jpg  \n",
            "   creating: destination_folder/data-2/train/labels/\n",
            "  inflating: destination_folder/data-2/train/labels/acne-101_jpeg.rf.af45ba09bf2981ed7cc4af94b54aae48.txt  \n",
            "  inflating: destination_folder/data-2/train/labels/acne-101_jpeg.rf.d13d618fff02c3133aac95c6b0c7b5fb.txt  \n",
            "  inflating: destination_folder/data-2/train/labels/acne-101_jpeg.rf.dd5c14cef0a2ba13b110f05a520f00c0.txt  \n",
            "  inflating: destination_folder/data-2/train/labels/acne-104_jpeg.rf.049f40b91f49dd3554b929ab004aa10e.txt  \n",
            "  inflating: destination_folder/data-2/train/labels/acne-104_jpeg.rf.5b7dbce5a05426ce03d20ea30f8614ad.txt  \n",
            "  inflating: destination_folder/data-2/train/labels/acne-104_jpeg.rf.854a06c90fd544c3418d6931d1a5c92b.txt  \n",
            "  inflating: destination_folder/data-2/train/labels/acne-106_jpeg.rf.078f5194805c1882a8e63cea008410a7.txt  \n",
            "  inflating: destination_folder/data-2/train/labels/acne-106_jpeg.rf.8ed823543e5ad3b616c3286f7bec0fb5.txt  \n",
            "  inflating: destination_folder/data-2/train/labels/acne-106_jpeg.rf.fe8d695cc950d5cfd33cd1d0aee4730e.txt  \n",
            "  inflating: destination_folder/data-2/train/labels/acne-107_jpeg.rf.4e21baf3b6d77c05024f07b3cca0c498.txt  \n",
            "  inflating: destination_folder/data-2/train/labels/acne-107_jpeg.rf.9a0d1f16966910fc2d1351f8c218e971.txt  \n",
            "  inflating: destination_folder/data-2/train/labels/acne-107_jpeg.rf.fe9873a17fa31389536ca33faca813c4.txt  \n",
            "  inflating: destination_folder/data-2/train/labels/acne-109_jpeg.rf.09c25c7027db07e930a3501960cafbc4.txt  \n",
            "  inflating: destination_folder/data-2/train/labels/acne-109_jpeg.rf.71c01ec227c54f3d2134264c523a5c38.txt  \n",
            "  inflating: destination_folder/data-2/train/labels/acne-109_jpeg.rf.f1dfe70192f63b0f7f3c60c34f989502.txt  \n",
            "  inflating: destination_folder/data-2/train/labels/acne-10_jpeg.rf.1a5742dc70d2abc4799e0ce84795741b.txt  \n",
            "  inflating: destination_folder/data-2/train/labels/acne-10_jpeg.rf.a47703e8c466062380bdd7cda41fae2b.txt  \n",
            "  inflating: destination_folder/data-2/train/labels/acne-10_jpeg.rf.f27748da2520545eba9ebcd7e0dc6482.txt  \n",
            "  inflating: destination_folder/data-2/train/labels/acne-110_jpeg.rf.30388309b832a1dbcd9f74e88a6d80c7.txt  \n",
            "  inflating: destination_folder/data-2/train/labels/acne-110_jpeg.rf.ac46f2b20c3b01cd908ca6e33f7c8b0a.txt  \n",
            "  inflating: destination_folder/data-2/train/labels/acne-110_jpeg.rf.b2e331d513bdc74cab2a514eb157444c.txt  \n",
            "  inflating: destination_folder/data-2/train/labels/acne-111_jpeg.rf.5305be8df8fc4bac0f9d4473e75ce446.txt  \n",
            "  inflating: destination_folder/data-2/train/labels/acne-111_jpeg.rf.5898ddc66916835400974fe91faa2127.txt  \n",
            "  inflating: destination_folder/data-2/train/labels/acne-111_jpeg.rf.d2f96fc4bb37d79f182ff62b6c21203f.txt  \n",
            "  inflating: destination_folder/data-2/train/labels/acne-114_jpeg.rf.05500969621c6ec1a2720c8113a7f730.txt  \n",
            "  inflating: destination_folder/data-2/train/labels/acne-114_jpeg.rf.8886a0bfd6aae22e7a0d23fa689f93e0.txt  \n",
            "  inflating: destination_folder/data-2/train/labels/acne-114_jpeg.rf.faab857cd0fe501cd0ee008b2d5e5d8d.txt  \n",
            "  inflating: destination_folder/data-2/train/labels/acne-117_jpeg.rf.5fca45225c32ea524aa8635eeaca17da.txt  \n",
            "  inflating: destination_folder/data-2/train/labels/acne-117_jpeg.rf.86e15ada642e029c7a3adf6e3abd3165.txt  \n",
            "  inflating: destination_folder/data-2/train/labels/acne-117_jpeg.rf.fdd8632240a042f20703a454d7ca8c49.txt  \n",
            "  inflating: destination_folder/data-2/train/labels/acne-118_jpg.rf.2146315fc7eedcc8269c3855a055f362.txt  \n",
            "  inflating: destination_folder/data-2/train/labels/acne-118_jpg.rf.5ac494ffe6003d136d78802a2e018b93.txt  \n",
            "  inflating: destination_folder/data-2/train/labels/acne-118_jpg.rf.a950e2e85bfac5233bc29a1409733d67.txt  \n",
            "  inflating: destination_folder/data-2/train/labels/acne-120_jpg.rf.05d2df98b09a59455e77d06fb330a261.txt  \n",
            "  inflating: destination_folder/data-2/train/labels/acne-120_jpg.rf.59864fcc325d7c476b1d4276551aa0dd.txt  \n",
            "  inflating: destination_folder/data-2/train/labels/acne-120_jpg.rf.83c70d65304fb3bac6fe6e3451d957e7.txt  \n",
            "  inflating: destination_folder/data-2/train/labels/acne-122_jpg.rf.457449f3ea61b059c8755a833cba36e4.txt  \n",
            "  inflating: destination_folder/data-2/train/labels/acne-122_jpg.rf.79832d3e5a9fd4a65ababe273ed29bf1.txt  \n",
            "  inflating: destination_folder/data-2/train/labels/acne-122_jpg.rf.a860a2e44e12167136417be251d78f13.txt  \n",
            "  inflating: destination_folder/data-2/train/labels/acne-123_jpg.rf.094991fa4eca4fe9d2414c139380c767.txt  \n",
            "  inflating: destination_folder/data-2/train/labels/acne-123_jpg.rf.29fdc29e00ae4036bda03345c84e75ec.txt  \n",
            "  inflating: destination_folder/data-2/train/labels/acne-123_jpg.rf.2cb8c9deb32b0e5378694e4bc095b86a.txt  \n",
            "  inflating: destination_folder/data-2/train/labels/acne-124_jpg.rf.73ff92c9fdf0de6950c164b655222df2.txt  \n",
            "  inflating: destination_folder/data-2/train/labels/acne-124_jpg.rf.a52e9bb1cd7855d1372d7dd0813be8e1.txt  \n",
            "  inflating: destination_folder/data-2/train/labels/acne-124_jpg.rf.bbcd091cc245577f49f472276987041e.txt  \n",
            "  inflating: destination_folder/data-2/train/labels/acne-125_jpg.rf.2612211b3bedfab30f3c1917dba2de98.txt  \n",
            "  inflating: destination_folder/data-2/train/labels/acne-125_jpg.rf.5514716e1ee3faa1692e38c275afe7a1.txt  \n",
            "  inflating: destination_folder/data-2/train/labels/acne-125_jpg.rf.dc9c441370bb9fdb7c992c7e422c8003.txt  \n",
            "  inflating: destination_folder/data-2/train/labels/acne-126_jpg.rf.5b0e9e4d04ae70075efeaee8971a48aa.txt  \n",
            "  inflating: destination_folder/data-2/train/labels/acne-126_jpg.rf.efe7936850eb9c5f1327b1a589d5ed43.txt  \n",
            "  inflating: destination_folder/data-2/train/labels/acne-126_jpg.rf.fbdc0b939629752826f95b54f75a9eb0.txt  \n",
            "  inflating: destination_folder/data-2/train/labels/acne-127_jpg.rf.6626a950f608a09a2ffcb87fd5922402.txt  \n",
            "  inflating: destination_folder/data-2/train/labels/acne-127_jpg.rf.d3d5ce301ca715b9f7d0987c5493a249.txt  \n",
            "  inflating: destination_folder/data-2/train/labels/acne-127_jpg.rf.f448d7470b4d04d0576302eefabed949.txt  \n",
            "  inflating: destination_folder/data-2/train/labels/acne-129_jpg.rf.27d7bc358ff1e9d29a12c68dfec19376.txt  \n",
            "  inflating: destination_folder/data-2/train/labels/acne-129_jpg.rf.85ebf681f94e9d884aa5fffd377c2546.txt  \n",
            "  inflating: destination_folder/data-2/train/labels/acne-129_jpg.rf.d6c0893bc17939313d41a77c07d116dd.txt  \n",
            "  inflating: destination_folder/data-2/train/labels/acne-12_jpeg.rf.105ac91692b51b2e48ac949a5f0ef9a0.txt  \n",
            "  inflating: destination_folder/data-2/train/labels/acne-12_jpeg.rf.28444ad5ce2ac27bc0ce6ed17f8e6ec0.txt  \n",
            "  inflating: destination_folder/data-2/train/labels/acne-12_jpeg.rf.a8b0e9276a6914edc03a7e3def427bf2.txt  \n",
            "  inflating: destination_folder/data-2/train/labels/acne-132_jpg.rf.c9f114843c7af28e5632ae8fe25baf67.txt  \n",
            "  inflating: destination_folder/data-2/train/labels/acne-132_jpg.rf.f63fe21b456337795ceeaba4913f7bae.txt  \n",
            "  inflating: destination_folder/data-2/train/labels/acne-132_jpg.rf.fd88a44d5548b168dd391f49079d5c81.txt  \n",
            "  inflating: destination_folder/data-2/train/labels/acne-133_jpg.rf.6db7d5e9aba6f4de4253e2100ab6ffbc.txt  \n",
            "  inflating: destination_folder/data-2/train/labels/acne-133_jpg.rf.a36b84143c4c700d8160a3283f498c03.txt  \n",
            "  inflating: destination_folder/data-2/train/labels/acne-133_jpg.rf.d5a2596cbb19ae009ce2659b3104dba1.txt  \n",
            "  inflating: destination_folder/data-2/train/labels/acne-136_jpg.rf.3e73b4689794a339be8e23f11d08fc37.txt  \n",
            "  inflating: destination_folder/data-2/train/labels/acne-136_jpg.rf.b329d76c1d4f9f0d1d68526134fe04c6.txt  \n",
            "  inflating: destination_folder/data-2/train/labels/acne-136_jpg.rf.bcf7437fb066a95c7f159436df6c7c27.txt  \n",
            "  inflating: destination_folder/data-2/train/labels/acne-13_jpeg.rf.430d2e3c8e293872afb2dbaa8ff80c66.txt  \n",
            "  inflating: destination_folder/data-2/train/labels/acne-13_jpeg.rf.6bccdd195b2e284d78717dccf8333266.txt  \n",
            "  inflating: destination_folder/data-2/train/labels/acne-13_jpeg.rf.a5f9a647b82ba14238855de41ce76a2f.txt  \n",
            "  inflating: destination_folder/data-2/train/labels/acne-141_jpg.rf.056aa3399307f077aa37f49ff94c27f4.txt  \n",
            "  inflating: destination_folder/data-2/train/labels/acne-141_jpg.rf.cbd1d13c72ff4f3e3b8f23419526f5df.txt  \n",
            "  inflating: destination_folder/data-2/train/labels/acne-141_jpg.rf.fb1199324075ca9348337d6357f172de.txt  \n",
            "  inflating: destination_folder/data-2/train/labels/acne-146_jpg.rf.3e4e3a8e1eb143a51e83f89d27a89523.txt  \n",
            "  inflating: destination_folder/data-2/train/labels/acne-146_jpg.rf.ad8dd4f3dbbff83b7a2081bfbf2fee4e.txt  \n",
            "  inflating: destination_folder/data-2/train/labels/acne-146_jpg.rf.d16e73f57f12a54ebed2f820032498a9.txt  \n",
            "  inflating: destination_folder/data-2/train/labels/acne-147_jpg.rf.7ab83e752d29e1cb1efc428fb26f4b62.txt  \n",
            "  inflating: destination_folder/data-2/train/labels/acne-147_jpg.rf.b9bc95a6617b86d57c6fa510d8be42ce.txt  \n",
            "  inflating: destination_folder/data-2/train/labels/acne-147_jpg.rf.df99460615cf952c2e4a9a73f970be69.txt  \n",
            "  inflating: destination_folder/data-2/train/labels/acne-14_jpeg.rf.147d68756bf7b24c32159f65a026346d.txt  \n",
            "  inflating: destination_folder/data-2/train/labels/acne-14_jpeg.rf.5bf6350d3c711ff63cde1f6b9a203518.txt  \n",
            "  inflating: destination_folder/data-2/train/labels/acne-14_jpeg.rf.ce37e344b5f0d2c1aeed3f330eaf47f7.txt  \n",
            "  inflating: destination_folder/data-2/train/labels/acne-153_jpg.rf.26750acfcfc53810f96cae56aa2c4462.txt  \n",
            "  inflating: destination_folder/data-2/train/labels/acne-153_jpg.rf.8210a6358070fc5da9611aac95957b0f.txt  \n",
            "  inflating: destination_folder/data-2/train/labels/acne-153_jpg.rf.e8973f33679d67ebfc2384a4d92d41b2.txt  \n",
            "  inflating: destination_folder/data-2/train/labels/acne-154_jpg.rf.2c23312611bde8ff91dba18be75c8584.txt  \n",
            "  inflating: destination_folder/data-2/train/labels/acne-154_jpg.rf.3a3be14df7e5a70b268d664010e1383e.txt  \n",
            "  inflating: destination_folder/data-2/train/labels/acne-154_jpg.rf.aa10f14b351652c5646e22544670738c.txt  \n",
            "  inflating: destination_folder/data-2/train/labels/acne-157_jpg.rf.89ce37476eb116348c9be25774e30727.txt  \n",
            "  inflating: destination_folder/data-2/train/labels/acne-157_jpg.rf.cc6a50c4ff1337782a2ddf5e7f7bfc32.txt  \n",
            "  inflating: destination_folder/data-2/train/labels/acne-157_jpg.rf.ef7e9923abad787cede0228467c8924a.txt  \n",
            "  inflating: destination_folder/data-2/train/labels/acne-159_jpg.rf.0c98a05944768d0fcb2e6ac369394f30.txt  \n",
            "  inflating: destination_folder/data-2/train/labels/acne-159_jpg.rf.1e5a07658d750d8ba5461046e276e5f0.txt  \n",
            "  inflating: destination_folder/data-2/train/labels/acne-159_jpg.rf.b2c4300722f40c860f40d0f710ce9fd5.txt  \n",
            "  inflating: destination_folder/data-2/train/labels/acne-165_jpg.rf.5638c1e3c95295ddca0f268ec7287553.txt  \n",
            "  inflating: destination_folder/data-2/train/labels/acne-165_jpg.rf.68256b3b8febcb6314e4ab36bb6375f5.txt  \n",
            "  inflating: destination_folder/data-2/train/labels/acne-165_jpg.rf.f89853f8ff0431d5d4f3e64be0275aa5.txt  \n",
            "  inflating: destination_folder/data-2/train/labels/acne-169_jpg.rf.62e380e19804577ee193ff7a379afca0.txt  \n",
            "  inflating: destination_folder/data-2/train/labels/acne-169_jpg.rf.8dbf52d31c7234fa6616be58e4c10cce.txt  \n",
            "  inflating: destination_folder/data-2/train/labels/acne-169_jpg.rf.cc770617347b77cbf96905c6139f8098.txt  \n",
            "  inflating: destination_folder/data-2/train/labels/acne-16_jpeg.rf.6c53ab16807806bbb5941b31f9a46f57.txt  \n",
            "  inflating: destination_folder/data-2/train/labels/acne-16_jpeg.rf.8a203a8e0514ebc66c79ff58b8fb8fca.txt  \n",
            "  inflating: destination_folder/data-2/train/labels/acne-16_jpeg.rf.bfdbd387028d27478766a3819de88a1b.txt  \n",
            "  inflating: destination_folder/data-2/train/labels/acne-174_jpg.rf.2d2e25b5d60f61c775266df80d4d4cca.txt  \n",
            "  inflating: destination_folder/data-2/train/labels/acne-174_jpg.rf.df4de09ebf38d94532fdf09bddc96b39.txt  \n",
            "  inflating: destination_folder/data-2/train/labels/acne-174_jpg.rf.e4db3022680a7d83a8564032513c394f.txt  \n",
            "  inflating: destination_folder/data-2/train/labels/acne-175_jpg.rf.612b817fa477d486d22e0f2fb61e01b3.txt  \n",
            "  inflating: destination_folder/data-2/train/labels/acne-175_jpg.rf.92d6c6bc280f868472612c909d7401b5.txt  \n",
            "  inflating: destination_folder/data-2/train/labels/acne-175_jpg.rf.dacb7ead4056283b79f7d7be33f4cec3.txt  \n",
            "  inflating: destination_folder/data-2/train/labels/acne-178_jpg.rf.3c2c36e281c650dd6a48b45bde2a3767.txt  \n",
            "  inflating: destination_folder/data-2/train/labels/acne-178_jpg.rf.70e5d5ef09dd6bcae4b1580c229c9f46.txt  \n",
            "  inflating: destination_folder/data-2/train/labels/acne-178_jpg.rf.ac87bffd9abfaa365be22b9bfef13f2c.txt  \n",
            "  inflating: destination_folder/data-2/train/labels/acne-179_jpg.rf.301829a1a85597f07c7a67eb38ee1970.txt  \n",
            "  inflating: destination_folder/data-2/train/labels/acne-179_jpg.rf.b3bde7c655fccb9590b3dcfd338ea42f.txt  \n",
            "  inflating: destination_folder/data-2/train/labels/acne-179_jpg.rf.dd6e0d30ba2d751438a0a2a9cf34b6cf.txt  \n",
            "  inflating: destination_folder/data-2/train/labels/acne-17_jpeg.rf.51057c9fd58430da022fe8b8e54cbfce.txt  \n",
            "  inflating: destination_folder/data-2/train/labels/acne-17_jpeg.rf.b9922046ba7af5c9296c5568c1f3b8c6.txt  \n",
            "  inflating: destination_folder/data-2/train/labels/acne-17_jpeg.rf.d8a8858216295393c1acc6282c217654.txt  \n",
            " extracting: destination_folder/data-2/train/labels/acne-182_jpg.rf.003ad78b62a47fe0c61d19fd1df199b5.txt  \n",
            " extracting: destination_folder/data-2/train/labels/acne-182_jpg.rf.7c2e3699a804e6c8aa7910f55b5ca1d5.txt  \n",
            " extracting: destination_folder/data-2/train/labels/acne-182_jpg.rf.a5a32d648c2879bb9c344f40f540aa59.txt  \n",
            "  inflating: destination_folder/data-2/train/labels/acne-184_jpg.rf.318f8f393e5e2ddd0b1f78531673ebd0.txt  \n",
            "  inflating: destination_folder/data-2/train/labels/acne-184_jpg.rf.68a55036b87dab28bd5152fa3b0be4df.txt  \n",
            "  inflating: destination_folder/data-2/train/labels/acne-184_jpg.rf.6d066efaae280add14b1ad11bfd69ee8.txt  \n",
            "  inflating: destination_folder/data-2/train/labels/acne-185_jpg.rf.10da71ba0aff1f523fe1c434307b4a58.txt  \n",
            "  inflating: destination_folder/data-2/train/labels/acne-185_jpg.rf.3bd7bc00f8d8f6e04e041a9a664f80e2.txt  \n",
            "  inflating: destination_folder/data-2/train/labels/acne-185_jpg.rf.3de0a75834e59f15738509f7c7bdeb1c.txt  \n",
            "  inflating: destination_folder/data-2/train/labels/acne-18_jpeg.rf.43644ffe9efa47e9892fa953e7384360.txt  \n",
            "  inflating: destination_folder/data-2/train/labels/acne-18_jpeg.rf.5b6c3916caae984b4e628466c6217dc7.txt  \n",
            "  inflating: destination_folder/data-2/train/labels/acne-18_jpeg.rf.e1d7462fae95a22cf821ff2dce74fe48.txt  \n",
            "  inflating: destination_folder/data-2/train/labels/acne-191_jpg.rf.a0c9751faf17b372142f143e58795b87.txt  \n",
            "  inflating: destination_folder/data-2/train/labels/acne-191_jpg.rf.a3f25509212676a658832b172df7d830.txt  \n",
            "  inflating: destination_folder/data-2/train/labels/acne-191_jpg.rf.a5434e10e4190dc91e8be25ba95e0057.txt  \n",
            "  inflating: destination_folder/data-2/train/labels/acne-193_jpg.rf.2ad0c8779ee966c9c6f99bc869192f68.txt  \n",
            "  inflating: destination_folder/data-2/train/labels/acne-193_jpg.rf.4cdb0fbc270b04b91fb4cf23478d5b75.txt  \n",
            "  inflating: destination_folder/data-2/train/labels/acne-193_jpg.rf.d56c00bf920d72a203d15f241d2a6155.txt  \n",
            "  inflating: destination_folder/data-2/train/labels/acne-195_jpg.rf.9ed1415752e5ab9b75789c48e2d79cfb.txt  \n",
            "  inflating: destination_folder/data-2/train/labels/acne-195_jpg.rf.b5c6f2b08bb2c091d26ea2dc2d0b8d8c.txt  \n",
            "  inflating: destination_folder/data-2/train/labels/acne-195_jpg.rf.bcfc34920b8aec75484cddfc069c343c.txt  \n",
            "  inflating: destination_folder/data-2/train/labels/acne-196_jpg.rf.1bbd0b777a3e6a95749dfae39c5d0db1.txt  \n",
            "  inflating: destination_folder/data-2/train/labels/acne-196_jpg.rf.9929863b00290abde1695ce445e5ab8d.txt  \n",
            "  inflating: destination_folder/data-2/train/labels/acne-196_jpg.rf.9fb85af642d154fba4f3ddaac45d98ba.txt  \n",
            "  inflating: destination_folder/data-2/train/labels/acne-197_jpg.rf.29fb0fcd25dc272564d20ea7e0c37357.txt  \n",
            "  inflating: destination_folder/data-2/train/labels/acne-197_jpg.rf.3e08f172ad3783593d3d6f09b5914df4.txt  \n",
            "  inflating: destination_folder/data-2/train/labels/acne-197_jpg.rf.b97d2d4715779a1d8e5126a412a80028.txt  \n",
            "  inflating: destination_folder/data-2/train/labels/acne-198_jpg.rf.0b2c649818aaa8e3b87b57cb86df5eef.txt  \n",
            "  inflating: destination_folder/data-2/train/labels/acne-198_jpg.rf.b908268208c2706886941b806856d5f7.txt  \n",
            "  inflating: destination_folder/data-2/train/labels/acne-198_jpg.rf.f46e69016e534491f9bd6a17cc24c414.txt  \n",
            "  inflating: destination_folder/data-2/train/labels/acne-199_jpg.rf.049f974ec6c0aab39706ea83ecd2a70a.txt  \n",
            "  inflating: destination_folder/data-2/train/labels/acne-199_jpg.rf.471efe501dd703c4c868b80f346eafb1.txt  \n",
            "  inflating: destination_folder/data-2/train/labels/acne-199_jpg.rf.bf429fe2c2ffc1d64092b101898b576e.txt  \n",
            "  inflating: destination_folder/data-2/train/labels/acne-19_jpeg.rf.08f442979a625bee5a09e346ab0f8185.txt  \n",
            "  inflating: destination_folder/data-2/train/labels/acne-19_jpeg.rf.c477f8a3fb32ce9d2d0c804f3124d662.txt  \n",
            "  inflating: destination_folder/data-2/train/labels/acne-19_jpeg.rf.fcd27e7983259ab41304042d0246e0ae.txt  \n",
            "  inflating: destination_folder/data-2/train/labels/acne-1_jpeg.rf.15f804a683ea47331a17edcd7f8e1a4d.txt  \n",
            "  inflating: destination_folder/data-2/train/labels/acne-1_jpeg.rf.19271021285a0573d9c1351cc0a39309.txt  \n",
            "  inflating: destination_folder/data-2/train/labels/acne-1_jpeg.rf.71d499580b387527ed6a3240b2b5773d.txt  \n",
            "  inflating: destination_folder/data-2/train/labels/acne-201_jpg.rf.3258e50cc995cbcac9d825ea00f33167.txt  \n",
            "  inflating: destination_folder/data-2/train/labels/acne-201_jpg.rf.33bf5a4589c45581c1f46b672db62414.txt  \n",
            "  inflating: destination_folder/data-2/train/labels/acne-201_jpg.rf.385b133794127449eb734db717cfeeaa.txt  \n",
            "  inflating: destination_folder/data-2/train/labels/acne-203_jpg.rf.81c85919943866f8e856d6724eae0c3b.txt  \n",
            "  inflating: destination_folder/data-2/train/labels/acne-203_jpg.rf.8205fac07a2a50ce7b656cfc7a60c1c6.txt  \n",
            "  inflating: destination_folder/data-2/train/labels/acne-203_jpg.rf.e63e6e1e90fa2af37fcdabea7cdefb41.txt  \n",
            "  inflating: destination_folder/data-2/train/labels/acne-207_jpg.rf.0adf2a68315ac19b5f0d8e9f3c00532d.txt  \n",
            "  inflating: destination_folder/data-2/train/labels/acne-207_jpg.rf.7598b31c83c3bf22d831a520ef1a906e.txt  \n",
            "  inflating: destination_folder/data-2/train/labels/acne-207_jpg.rf.8a60c3b59e4a9e0f1cad7e370dd77ea5.txt  \n",
            "  inflating: destination_folder/data-2/train/labels/acne-208_jpg.rf.35a3cef9fe70b179687816ff6948a8ca.txt  \n",
            "  inflating: destination_folder/data-2/train/labels/acne-208_jpg.rf.48edf57f079bcfbd20b3d9229f482459.txt  \n",
            "  inflating: destination_folder/data-2/train/labels/acne-208_jpg.rf.6a0543944c7ec0abf4d3420ef5a48789.txt  \n",
            "  inflating: destination_folder/data-2/train/labels/acne-210_jpg.rf.27376e50ec325caa3ee3a040244aeaa2.txt  \n",
            "  inflating: destination_folder/data-2/train/labels/acne-210_jpg.rf.ba41808779eefd711acb8449a1f57d80.txt  \n",
            "  inflating: destination_folder/data-2/train/labels/acne-210_jpg.rf.d8d38da83700ffe8f4204c9b98bfc48f.txt  \n",
            "  inflating: destination_folder/data-2/train/labels/acne-212_jpg.rf.48a1f98252e19ab9c0a2fa21cc2cf3dd.txt  \n",
            "  inflating: destination_folder/data-2/train/labels/acne-212_jpg.rf.7c6366f80f280c7946181a492194f128.txt  \n",
            "  inflating: destination_folder/data-2/train/labels/acne-212_jpg.rf.ecc2ffc6c00fedeff6f1570cd2595525.txt  \n",
            "  inflating: destination_folder/data-2/train/labels/acne-213_jpg.rf.34850e9489d91a3b8c38f872710a2753.txt  \n",
            "  inflating: destination_folder/data-2/train/labels/acne-213_jpg.rf.a5c1514f9c68cfe06f0f8e16b908c7bd.txt  \n",
            "  inflating: destination_folder/data-2/train/labels/acne-213_jpg.rf.e477f2ab61f8007e35213f2d19630dfe.txt  \n",
            "  inflating: destination_folder/data-2/train/labels/acne-215_jpg.rf.03e0070c1d7b1425afb2fa5e61365358.txt  \n",
            "  inflating: destination_folder/data-2/train/labels/acne-215_jpg.rf.8ba2225c358d32fff5022b3c5fef3b89.txt  \n",
            "  inflating: destination_folder/data-2/train/labels/acne-215_jpg.rf.a49ced323a6e167f764e2e2766026041.txt  \n",
            "  inflating: destination_folder/data-2/train/labels/acne-218_jpg.rf.4034c378c8c2766197d5800adfa2a8f4.txt  \n",
            "  inflating: destination_folder/data-2/train/labels/acne-218_jpg.rf.5b69f80528f623394b3e859163966e68.txt  \n",
            "  inflating: destination_folder/data-2/train/labels/acne-218_jpg.rf.ce804a2e4ef6d119d4e442112589453d.txt  \n",
            "  inflating: destination_folder/data-2/train/labels/acne-222_jpg.rf.19ebefd17c9d7278b70237d51272f4d7.txt  \n",
            "  inflating: destination_folder/data-2/train/labels/acne-222_jpg.rf.44895d625b19f3e5bf910dc52c985c50.txt  \n",
            "  inflating: destination_folder/data-2/train/labels/acne-222_jpg.rf.8fd19a2a303616c30747abc22a7b7e85.txt  \n",
            "  inflating: destination_folder/data-2/train/labels/acne-225_jpg.rf.20af853a017a915046884562cedb90fb.txt  \n",
            "  inflating: destination_folder/data-2/train/labels/acne-225_jpg.rf.33624bbd3381958397789ce04775a4e7.txt  \n",
            "  inflating: destination_folder/data-2/train/labels/acne-225_jpg.rf.86b4596072a51356712e842ba8adbe7e.txt  \n",
            "  inflating: destination_folder/data-2/train/labels/acne-226_jpg.rf.1e31fc7ac858cc36c9bf58575d0c5ca1.txt  \n",
            "  inflating: destination_folder/data-2/train/labels/acne-226_jpg.rf.266f732d5c4135545428b64a2e308ae5.txt  \n",
            "  inflating: destination_folder/data-2/train/labels/acne-226_jpg.rf.9a5e291ba12532858133526881c86eb5.txt  \n",
            "  inflating: destination_folder/data-2/train/labels/acne-227_jpg.rf.2471062ff72eff1fb050abd9673ce511.txt  \n",
            "  inflating: destination_folder/data-2/train/labels/acne-227_jpg.rf.b194f70aa07fec4da34ba2a7d1ab559b.txt  \n",
            "  inflating: destination_folder/data-2/train/labels/acne-227_jpg.rf.e7232e54671958546fa8bd8e76de323e.txt  \n",
            "  inflating: destination_folder/data-2/train/labels/acne-228_jpg.rf.129211e759bb8520e5d79be2e7135a91.txt  \n",
            "  inflating: destination_folder/data-2/train/labels/acne-228_jpg.rf.b7310fea7306adb3ad6a912cd30c35c6.txt  \n",
            "  inflating: destination_folder/data-2/train/labels/acne-228_jpg.rf.d85abe1dea887d8ee14c7967d38bfc7e.txt  \n",
            "  inflating: destination_folder/data-2/train/labels/acne-229_jpg.rf.15932dd8294747fbf846a03e0f82b5ac.txt  \n",
            "  inflating: destination_folder/data-2/train/labels/acne-229_jpg.rf.63c186939cc5628efd5febb1b7441b87.txt  \n",
            "  inflating: destination_folder/data-2/train/labels/acne-229_jpg.rf.8591496c5be08eade2f51c29fc778b16.txt  \n",
            "  inflating: destination_folder/data-2/train/labels/acne-231_jpg.rf.1cd2a3859515dc13d6a63b170955bb1a.txt  \n",
            "  inflating: destination_folder/data-2/train/labels/acne-231_jpg.rf.4ac75e257d40f76ffb01f2c7a8b414f3.txt  \n",
            "  inflating: destination_folder/data-2/train/labels/acne-231_jpg.rf.f9b0b42590fb64c5665447317c06c997.txt  \n",
            "  inflating: destination_folder/data-2/train/labels/acne-232_jpg.rf.a0d2522aa8b5f9a61f692c488394fc7b.txt  \n",
            "  inflating: destination_folder/data-2/train/labels/acne-232_jpg.rf.c675be6b07a6bf37519db31b5167e4c7.txt  \n",
            "  inflating: destination_folder/data-2/train/labels/acne-232_jpg.rf.dfc421bc3c14ce68a07ee757c071a0ab.txt  \n",
            "  inflating: destination_folder/data-2/train/labels/acne-233_jpg.rf.9dea716314f6337abf96cde4f779123f.txt  \n",
            "  inflating: destination_folder/data-2/train/labels/acne-233_jpg.rf.bc960d277ff83a8d84cfb37a6323455a.txt  \n",
            "  inflating: destination_folder/data-2/train/labels/acne-233_jpg.rf.def5958145685575eb337e5c599b5cf5.txt  \n",
            "  inflating: destination_folder/data-2/train/labels/acne-234_jpg.rf.40a36612561ebdd4f815d2868b3a19da.txt  \n",
            "  inflating: destination_folder/data-2/train/labels/acne-234_jpg.rf.d11b7694547229ae40b68f4f9a3486ad.txt  \n",
            "  inflating: destination_folder/data-2/train/labels/acne-234_jpg.rf.d6f9f966d1bf5799aa4d8b260cf1a07f.txt  \n",
            "  inflating: destination_folder/data-2/train/labels/acne-235_jpg.rf.2ef71aabbc8d65a4ec7a38e95b2c355a.txt  \n",
            "  inflating: destination_folder/data-2/train/labels/acne-235_jpg.rf.75e061e02231a1cce3fde16fb36b707c.txt  \n",
            "  inflating: destination_folder/data-2/train/labels/acne-235_jpg.rf.ddcc61451447d013bca45e397e90c1af.txt  \n",
            "  inflating: destination_folder/data-2/train/labels/acne-238_jpg.rf.71f5e25e5ac28ad76396f7a62f89ee84.txt  \n",
            "  inflating: destination_folder/data-2/train/labels/acne-238_jpg.rf.80f847a030394d5465ce92577e178e3d.txt  \n",
            "  inflating: destination_folder/data-2/train/labels/acne-238_jpg.rf.87930190461918c137e4496b995c318b.txt  \n",
            "  inflating: destination_folder/data-2/train/labels/acne-23_jpeg.rf.14c0b14b2e85e50c5acbb0b3b4bd90e1.txt  \n",
            "  inflating: destination_folder/data-2/train/labels/acne-23_jpeg.rf.49017ec32bbf42c7a6e18af4da3b267d.txt  \n",
            "  inflating: destination_folder/data-2/train/labels/acne-23_jpeg.rf.9b1966c79bed572c432113b6b3de912d.txt  \n",
            "  inflating: destination_folder/data-2/train/labels/acne-240_jpg.rf.db60c7b36784891f222f2e2defbb77bb.txt  \n",
            "  inflating: destination_folder/data-2/train/labels/acne-240_jpg.rf.e843d0318dbc2602b10d182fed2aac33.txt  \n",
            "  inflating: destination_folder/data-2/train/labels/acne-240_jpg.rf.f4e59c1cc25d5988f634396e23fa0745.txt  \n",
            "  inflating: destination_folder/data-2/train/labels/acne-241_jpg.rf.6315111a0caf2cc662e131b3dd0b294a.txt  \n",
            "  inflating: destination_folder/data-2/train/labels/acne-241_jpg.rf.9eeb9ff941f8813eb9c830bba65289f2.txt  \n",
            "  inflating: destination_folder/data-2/train/labels/acne-241_jpg.rf.de2bfe112d02fe95a39e2a5ff3fb4f06.txt  \n",
            "  inflating: destination_folder/data-2/train/labels/acne-242_jpg.rf.163bea139c1038429a67cdefdb3da7ed.txt  \n",
            "  inflating: destination_folder/data-2/train/labels/acne-242_jpg.rf.8901e40c234ee9f5c2e28d27b0de354e.txt  \n",
            "  inflating: destination_folder/data-2/train/labels/acne-242_jpg.rf.e8a6235ffe20050705548f7cadf05737.txt  \n",
            "  inflating: destination_folder/data-2/train/labels/acne-243_jpeg.rf.224276464dae0015106b49305689a71f.txt  \n",
            "  inflating: destination_folder/data-2/train/labels/acne-243_jpeg.rf.f3d5b38abbb217c911e3780085133be5.txt  \n",
            "  inflating: destination_folder/data-2/train/labels/acne-243_jpeg.rf.ff8b7eddd7999e473316b3c51c5d98fa.txt  \n",
            "  inflating: destination_folder/data-2/train/labels/acne-244_jpeg.rf.397fc919836ce234ec8b5a5d0fa686ce.txt  \n",
            "  inflating: destination_folder/data-2/train/labels/acne-244_jpeg.rf.3aa7181fc3fd8edee88d3579a514f142.txt  \n",
            "  inflating: destination_folder/data-2/train/labels/acne-244_jpeg.rf.c301c6f1c5b54fbe2210538f8f027be1.txt  \n",
            "  inflating: destination_folder/data-2/train/labels/acne-245_jpeg.rf.4396c4ac2d28d1b4f6de0bcc62d4f30c.txt  \n",
            "  inflating: destination_folder/data-2/train/labels/acne-245_jpeg.rf.716c1d56a9ef9e65968495aff2cb1915.txt  \n",
            "  inflating: destination_folder/data-2/train/labels/acne-245_jpeg.rf.fc6a867547b19a5ffacd58e95139d1cb.txt  \n",
            "  inflating: destination_folder/data-2/train/labels/acne-247_jpeg.rf.36e1a9fa30b36d245cfb72509a68db71.txt  \n",
            "  inflating: destination_folder/data-2/train/labels/acne-247_jpeg.rf.609bebea165a5d6ed959aaef11f3e708.txt  \n",
            "  inflating: destination_folder/data-2/train/labels/acne-247_jpeg.rf.8b927d007d985691e46eadbc19f04ca4.txt  \n",
            "  inflating: destination_folder/data-2/train/labels/acne-248_jpeg.rf.2a7a9fa6acf6a2ec559666cc56987bfa.txt  \n",
            "  inflating: destination_folder/data-2/train/labels/acne-248_jpeg.rf.9e4f57bbf4202a85b336503d3b358c40.txt  \n",
            "  inflating: destination_folder/data-2/train/labels/acne-248_jpeg.rf.ba3f7c48a04cf4cc9b0a9ac8a6ec58d0.txt  \n",
            "  inflating: destination_folder/data-2/train/labels/acne-249_jpeg.rf.0fab9e777d354aa5e63acdaef998679e.txt  \n",
            "  inflating: destination_folder/data-2/train/labels/acne-249_jpeg.rf.4060e71acec2c63b9a52b027c8efa9ac.txt  \n",
            "  inflating: destination_folder/data-2/train/labels/acne-249_jpeg.rf.74586fb9ccb9b2b9cd14569cf17e5866.txt  \n",
            "  inflating: destination_folder/data-2/train/labels/acne-24_jpeg.rf.baa0f5a4aeba2132b48dd958e6911b1a.txt  \n",
            "  inflating: destination_folder/data-2/train/labels/acne-24_jpeg.rf.d8d7cdb672a8c411c9822ed978d0f06b.txt  \n",
            "  inflating: destination_folder/data-2/train/labels/acne-24_jpeg.rf.e9277e4ceaa85466f5ef66341947b8e8.txt  \n",
            "  inflating: destination_folder/data-2/train/labels/acne-250_jpeg.rf.1685917ec76c978971bd9c1b32a19678.txt  \n",
            "  inflating: destination_folder/data-2/train/labels/acne-250_jpeg.rf.2b1fce5f13deb5d4c1483ee4d0ebadd6.txt  \n",
            "  inflating: destination_folder/data-2/train/labels/acne-250_jpeg.rf.6692d9b364eaea9ba7f70cf45ec4a68b.txt  \n",
            "  inflating: destination_folder/data-2/train/labels/acne-251_jpeg.rf.2a9f2c9b3c607680d42bfdaefb369f85.txt  \n",
            "  inflating: destination_folder/data-2/train/labels/acne-251_jpeg.rf.36071d927cffe148bde795307ecf352d.txt  \n",
            "  inflating: destination_folder/data-2/train/labels/acne-251_jpeg.rf.3ffc5e75a252fe9ed7ee8e2ff38bb378.txt  \n",
            "  inflating: destination_folder/data-2/train/labels/acne-252_jpeg.rf.02d3e4f593f97ac628edb768652d09bc.txt  \n",
            "  inflating: destination_folder/data-2/train/labels/acne-252_jpeg.rf.44d57ce03a6816d5db621664c52c4fce.txt  \n",
            "  inflating: destination_folder/data-2/train/labels/acne-252_jpeg.rf.98d057b590c7d2661a0c3baa1bd01187.txt  \n",
            "  inflating: destination_folder/data-2/train/labels/acne-253_jpeg.rf.0d8326d149e20928c2b1c1138e716a3d.txt  \n",
            "  inflating: destination_folder/data-2/train/labels/acne-253_jpeg.rf.7ac45e1686120921503191edd292aaf5.txt  \n",
            "  inflating: destination_folder/data-2/train/labels/acne-253_jpeg.rf.e154d63b84079d632df8e55caed9cfa9.txt  \n",
            "  inflating: destination_folder/data-2/train/labels/acne-254_jpeg.rf.3804dd6f10c511c2ec0763aaf55594a4.txt  \n",
            "  inflating: destination_folder/data-2/train/labels/acne-254_jpeg.rf.88cbc08ac5888b008a34030b7d82e2a4.txt  \n",
            "  inflating: destination_folder/data-2/train/labels/acne-254_jpeg.rf.e9349a9efaa9442bc374fccbded6ff60.txt  \n",
            "  inflating: destination_folder/data-2/train/labels/acne-255_jpeg.rf.9291c5262240f4fbda98110fa6ab6b1e.txt  \n",
            "  inflating: destination_folder/data-2/train/labels/acne-255_jpeg.rf.aa4f675a126ab3ecd31f53c8d9754976.txt  \n",
            "  inflating: destination_folder/data-2/train/labels/acne-255_jpeg.rf.d08fb6f41c766b708aca5e0df7021654.txt  \n",
            "  inflating: destination_folder/data-2/train/labels/acne-256_jpeg.rf.264048eed0beacf9b87715f34f5279a4.txt  \n",
            "  inflating: destination_folder/data-2/train/labels/acne-256_jpeg.rf.9b889ac65bb1c85b33a2c314284ad6be.txt  \n",
            "  inflating: destination_folder/data-2/train/labels/acne-256_jpeg.rf.c22c1638acc0a779fe97ebbb758cdd2d.txt  \n",
            "  inflating: destination_folder/data-2/train/labels/acne-258_jpeg.rf.1d696f16032fca31a79513c9331d5ed0.txt  \n",
            "  inflating: destination_folder/data-2/train/labels/acne-258_jpeg.rf.c6937ddeacbc12fceaba7a559a419cf0.txt  \n",
            "  inflating: destination_folder/data-2/train/labels/acne-258_jpeg.rf.c8c4a7a7a56b356380046d016e3c11f0.txt  \n",
            "  inflating: destination_folder/data-2/train/labels/acne-259_jpeg.rf.08339d4984a98c11ac6656873b322c50.txt  \n",
            "  inflating: destination_folder/data-2/train/labels/acne-259_jpeg.rf.77da9681a14010b5ac66fb38eef85c07.txt  \n",
            "  inflating: destination_folder/data-2/train/labels/acne-259_jpeg.rf.a8d0bd1f501bcaec124233bceb542373.txt  \n",
            "  inflating: destination_folder/data-2/train/labels/acne-260_jpeg.rf.56e7a9f22a7851f1b53be292fdb929c9.txt  \n",
            "  inflating: destination_folder/data-2/train/labels/acne-260_jpeg.rf.5c8e935a9fab3530d525cd1d89cd22ab.txt  \n",
            "  inflating: destination_folder/data-2/train/labels/acne-260_jpeg.rf.ece37464f2edf715db748266485a76f6.txt  \n",
            "  inflating: destination_folder/data-2/train/labels/acne-261_jpeg.rf.28f94e254d0dd7756dbce49f63ce2d97.txt  \n",
            "  inflating: destination_folder/data-2/train/labels/acne-261_jpeg.rf.2c09c204860acdd00631efedb161eaee.txt  \n",
            "  inflating: destination_folder/data-2/train/labels/acne-261_jpeg.rf.3df1d961af27dde5e7b5f68a8fa72494.txt  \n",
            "  inflating: destination_folder/data-2/train/labels/acne-262_jpeg.rf.36a982c9495a6f9378a19e9344bd6d09.txt  \n",
            "  inflating: destination_folder/data-2/train/labels/acne-262_jpeg.rf.5d09bed19804b673a2ac648102744558.txt  \n",
            "  inflating: destination_folder/data-2/train/labels/acne-262_jpeg.rf.afa37603fe5f54b8eace275167430729.txt  \n",
            "  inflating: destination_folder/data-2/train/labels/acne-263_jpeg.rf.05b2f4de9e3a20b040f1dfb8b74d2d1a.txt  \n",
            "  inflating: destination_folder/data-2/train/labels/acne-263_jpeg.rf.45f08e159b5752a86f7ed01459f7b4ed.txt  \n",
            "  inflating: destination_folder/data-2/train/labels/acne-263_jpeg.rf.fd0b33ee0dbe2fe0fc08d144d704d1ff.txt  \n",
            "  inflating: destination_folder/data-2/train/labels/acne-264_jpeg.rf.4ca425fecee74e503bca84463aab5cf7.txt  \n",
            "  inflating: destination_folder/data-2/train/labels/acne-264_jpeg.rf.c2f687a278fc20c5411577713e0f11a8.txt  \n",
            "  inflating: destination_folder/data-2/train/labels/acne-264_jpeg.rf.c9ef70d5db9441f96fbda14d7ee9fe92.txt  \n",
            "  inflating: destination_folder/data-2/train/labels/acne-265_jpeg.rf.221c9b831e6923d24de3460c49072b99.txt  \n",
            "  inflating: destination_folder/data-2/train/labels/acne-265_jpeg.rf.28dc1f89934291b26b04c66bcbf57be0.txt  \n",
            "  inflating: destination_folder/data-2/train/labels/acne-265_jpeg.rf.6d35e98ec4f69eb5a8012b50c7c2f608.txt  \n",
            "  inflating: destination_folder/data-2/train/labels/acne-266_jpeg.rf.28933fedfa8b3997cabeeec11f865667.txt  \n",
            "  inflating: destination_folder/data-2/train/labels/acne-266_jpeg.rf.8544320c91133e2f95af7c7512e06f19.txt  \n",
            "  inflating: destination_folder/data-2/train/labels/acne-266_jpeg.rf.f24013f661ebe46b8fcc302349ae81e2.txt  \n",
            "  inflating: destination_folder/data-2/train/labels/acne-268_jpeg.rf.5acc4a588a7bd16225522b12673f6f90.txt  \n",
            "  inflating: destination_folder/data-2/train/labels/acne-268_jpeg.rf.e5a4f44f0af800e8d58fe2c7ccbc39da.txt  \n",
            "  inflating: destination_folder/data-2/train/labels/acne-268_jpeg.rf.f5740bd4e859015e8d02ec408dc4aec2.txt  \n",
            "  inflating: destination_folder/data-2/train/labels/acne-269_jpeg.rf.3fdd24755d11661703669be0ca18a612.txt  \n",
            "  inflating: destination_folder/data-2/train/labels/acne-269_jpeg.rf.bbfda39f824b3e05daaa3f17cc28b2a8.txt  \n",
            "  inflating: destination_folder/data-2/train/labels/acne-269_jpeg.rf.e507376b24748624f92d3c0b37391e00.txt  \n",
            "  inflating: destination_folder/data-2/train/labels/acne-270_jpeg.rf.02b4b1d03ec73351a0ab15ea93028650.txt  \n",
            "  inflating: destination_folder/data-2/train/labels/acne-270_jpeg.rf.5cfa8c65b242d57a44805ffe812a01e5.txt  \n",
            "  inflating: destination_folder/data-2/train/labels/acne-270_jpeg.rf.b76440e3612c6a660c7e1932e81da7e4.txt  \n",
            "  inflating: destination_folder/data-2/train/labels/acne-272_jpeg.rf.8e771c50868bbb1091207a059ca3dca0.txt  \n",
            "  inflating: destination_folder/data-2/train/labels/acne-272_jpeg.rf.f2a52a5091e827195d89bb2e1adc68f2.txt  \n",
            "  inflating: destination_folder/data-2/train/labels/acne-272_jpeg.rf.f60235307b067bc131380ed6671437a4.txt  \n",
            "  inflating: destination_folder/data-2/train/labels/acne-273_jpeg.rf.2c96969d8a1f9e271106aa1845ae2c3d.txt  \n",
            "  inflating: destination_folder/data-2/train/labels/acne-273_jpeg.rf.e18dc566aa45fcabd5a200dd86074c60.txt  \n",
            "  inflating: destination_folder/data-2/train/labels/acne-273_jpeg.rf.f1b90cd6256ff39c393140634e65b4f5.txt  \n",
            "  inflating: destination_folder/data-2/train/labels/acne-274_jpeg.rf.18debabcc2bd570e8ba04deee7365362.txt  \n",
            "  inflating: destination_folder/data-2/train/labels/acne-274_jpeg.rf.6e5283ddb6357ba59b0df93ae4ae593e.txt  \n",
            "  inflating: destination_folder/data-2/train/labels/acne-274_jpeg.rf.b89c832c00d43006a473c082a676bf8a.txt  \n",
            "  inflating: destination_folder/data-2/train/labels/acne-275_jpeg.rf.962d3c2a351449de8f7a218c4a5f6cb0.txt  \n",
            "  inflating: destination_folder/data-2/train/labels/acne-275_jpeg.rf.bf7708c917e32843d1256126e9901939.txt  \n",
            "  inflating: destination_folder/data-2/train/labels/acne-275_jpeg.rf.f2994243e64d1c183465fb7d9141e955.txt  \n",
            "  inflating: destination_folder/data-2/train/labels/acne-277_jpeg.rf.22d440c4bcd4d50ed40790f3ee2d2fd4.txt  \n",
            "  inflating: destination_folder/data-2/train/labels/acne-277_jpeg.rf.9240ff1d70d0b4c8334f56855261ff92.txt  \n",
            "  inflating: destination_folder/data-2/train/labels/acne-277_jpeg.rf.c933b8a394f5fb21129277aff731ad04.txt  \n",
            "  inflating: destination_folder/data-2/train/labels/acne-278_jpeg.rf.3e21ea9cfde6b63b9819b6ba5f5ff54f.txt  \n",
            "  inflating: destination_folder/data-2/train/labels/acne-278_jpeg.rf.4204e0cf965d42b30ed06382b7499776.txt  \n",
            "  inflating: destination_folder/data-2/train/labels/acne-278_jpeg.rf.5cd572723b9c01814a9f32f79bb16fde.txt  \n",
            "  inflating: destination_folder/data-2/train/labels/acne-279_jpeg.rf.574135e32a8f9a735a8c0156b34fc33c.txt  \n",
            "  inflating: destination_folder/data-2/train/labels/acne-279_jpeg.rf.58a6424ac5746b92c772d2bc9a62b183.txt  \n",
            "  inflating: destination_folder/data-2/train/labels/acne-279_jpeg.rf.c93f53ae9fdc420e918ca3d523cb7699.txt  \n",
            "  inflating: destination_folder/data-2/train/labels/acne-280_jpeg.rf.043d7ff205e61574c18d1a51dbc8e528.txt  \n",
            "  inflating: destination_folder/data-2/train/labels/acne-280_jpeg.rf.2e05aec0290c93461730b485a4454f32.txt  \n",
            "  inflating: destination_folder/data-2/train/labels/acne-280_jpeg.rf.3fc1d746ee1d9ee8f94e5b8e13869c32.txt  \n",
            "  inflating: destination_folder/data-2/train/labels/acne-281_jpeg.rf.269c38281b84a2a86e0f987e62edc571.txt  \n",
            "  inflating: destination_folder/data-2/train/labels/acne-281_jpeg.rf.d8eabd19871f7dd2e7cffe7825a2fe01.txt  \n",
            "  inflating: destination_folder/data-2/train/labels/acne-281_jpeg.rf.f2072868eb678168f54f10187606759c.txt  \n",
            "  inflating: destination_folder/data-2/train/labels/acne-282_jpeg.rf.2b0cc8d72fc1111adda59750e815492e.txt  \n",
            "  inflating: destination_folder/data-2/train/labels/acne-282_jpeg.rf.a47b3c0ba41952cdbcf2e571490a4a7f.txt  \n",
            "  inflating: destination_folder/data-2/train/labels/acne-282_jpeg.rf.a7f5d7ac92b15c00f45b5d8d90e8e81c.txt  \n",
            "  inflating: destination_folder/data-2/train/labels/acne-283_jpeg.rf.682f2f5641c37539f30f61ba73192625.txt  \n",
            "  inflating: destination_folder/data-2/train/labels/acne-283_jpeg.rf.f08f5a8e3cdceeaba0bb98f188a7a3e0.txt  \n",
            "  inflating: destination_folder/data-2/train/labels/acne-283_jpeg.rf.f605ae91ce57e0d4138bdf279cc17397.txt  \n",
            "  inflating: destination_folder/data-2/train/labels/acne-285_jpeg.rf.2303ee48a34ad787cb483d5014cce61c.txt  \n",
            "  inflating: destination_folder/data-2/train/labels/acne-285_jpeg.rf.9e03cf2f6e78640d15671d542de12cac.txt  \n",
            "  inflating: destination_folder/data-2/train/labels/acne-285_jpeg.rf.d5899ab24f731625c88f2309bdf693d2.txt  \n",
            " extracting: destination_folder/data-2/train/labels/acne-287_jpeg.rf.0e3351b30d0ffeee1c87427015114682.txt  \n",
            " extracting: destination_folder/data-2/train/labels/acne-287_jpeg.rf.26a033f8acf312e5ae68de86a886be7a.txt  \n",
            " extracting: destination_folder/data-2/train/labels/acne-287_jpeg.rf.2f8ab412b79cdc05c82405422d9da6fa.txt  \n",
            "  inflating: destination_folder/data-2/train/labels/acne-288_jpeg.rf.0ef9f5fbfd0cb74a936672dcc9c9ea7c.txt  \n",
            "  inflating: destination_folder/data-2/train/labels/acne-288_jpeg.rf.6bc0d3fb53c759d5318cf7f1658d817f.txt  \n",
            "  inflating: destination_folder/data-2/train/labels/acne-288_jpeg.rf.d391fc8b216dec340d6239c8174c5f80.txt  \n",
            "  inflating: destination_folder/data-2/train/labels/acne-289_jpeg.rf.667cb427eee802286bce9c6867829f9b.txt  \n",
            "  inflating: destination_folder/data-2/train/labels/acne-289_jpeg.rf.84b2a2a9e363095c3f506fe4b2cd98ad.txt  \n",
            "  inflating: destination_folder/data-2/train/labels/acne-289_jpeg.rf.d3defa0dc791248893efb70114f0744a.txt  \n",
            "  inflating: destination_folder/data-2/train/labels/acne-28_jpeg.rf.0779dcb29db01f05b5e55255fd894752.txt  \n",
            "  inflating: destination_folder/data-2/train/labels/acne-28_jpeg.rf.e49869b4920dbb3e623c1724bad853c6.txt  \n",
            "  inflating: destination_folder/data-2/train/labels/acne-28_jpeg.rf.ebdca88990f4baf196b8147e5d785fbe.txt  \n",
            "  inflating: destination_folder/data-2/train/labels/acne-293_jpeg.rf.4c57ffc9138c5c8ceb3f16e8f57431e4.txt  \n",
            "  inflating: destination_folder/data-2/train/labels/acne-293_jpeg.rf.b29d595aa8eb4598f5518af9f64e8ed1.txt  \n",
            "  inflating: destination_folder/data-2/train/labels/acne-293_jpeg.rf.b5a85b35c691244b87786afaa916d226.txt  \n",
            "  inflating: destination_folder/data-2/train/labels/acne-294_jpeg.rf.06965fed951caff14fdd95dcdb3fee1d.txt  \n",
            "  inflating: destination_folder/data-2/train/labels/acne-294_jpeg.rf.07555dc6d9d86c479ead2905b6ffa370.txt  \n",
            "  inflating: destination_folder/data-2/train/labels/acne-294_jpeg.rf.2fc2cae80fb6ad75143c3db3f73b5712.txt  \n",
            "  inflating: destination_folder/data-2/train/labels/acne-295_jpeg.rf.308ad47a267ea8383e5c26334a6d343b.txt  \n",
            "  inflating: destination_folder/data-2/train/labels/acne-295_jpeg.rf.e1794d40fb18dc5a76f22a2f93f57ed3.txt  \n",
            "  inflating: destination_folder/data-2/train/labels/acne-295_jpeg.rf.fbce78c91767f2528943f8a808c989d5.txt  \n",
            "  inflating: destination_folder/data-2/train/labels/acne-296_jpeg.rf.0c793eaa8ff4040f8f4773c85cbf0229.txt  \n",
            "  inflating: destination_folder/data-2/train/labels/acne-296_jpeg.rf.1305224378083f2a2a7325a85e529cd2.txt  \n",
            "  inflating: destination_folder/data-2/train/labels/acne-296_jpeg.rf.4b7a51eef9635e31d42f3cb2a86648c7.txt  \n",
            "  inflating: destination_folder/data-2/train/labels/acne-297_jpeg.rf.88dc8c0f4c7b088c16aade56961db50e.txt  \n",
            "  inflating: destination_folder/data-2/train/labels/acne-297_jpeg.rf.ad7f6811d6c985982b88fdacd9c3cdd0.txt  \n",
            "  inflating: destination_folder/data-2/train/labels/acne-297_jpeg.rf.fa66ef476c33461675c5b2296b901a6d.txt  \n",
            "  inflating: destination_folder/data-2/train/labels/acne-298_jpeg.rf.73b96de78ba1c2aa86eda297a5a7fb22.txt  \n",
            "  inflating: destination_folder/data-2/train/labels/acne-298_jpeg.rf.80a33e3d695ddd6b1552a5bce6e98d4e.txt  \n",
            "  inflating: destination_folder/data-2/train/labels/acne-298_jpeg.rf.8445c28ab2956fcd0168767b748c9b3f.txt  \n",
            "  inflating: destination_folder/data-2/train/labels/acne-299_jpeg.rf.110c3f91aa4758e9fd18fbe5975c1e38.txt  \n",
            "  inflating: destination_folder/data-2/train/labels/acne-299_jpeg.rf.193780200dffa83e6069b20d7eb65086.txt  \n",
            "  inflating: destination_folder/data-2/train/labels/acne-299_jpeg.rf.ec7aa0661240eaab8fc8fcbe05ad558b.txt  \n",
            "  inflating: destination_folder/data-2/train/labels/acne-29_jpeg.rf.707590656ec25deb88c16de37d21d7ed.txt  \n",
            "  inflating: destination_folder/data-2/train/labels/acne-29_jpeg.rf.a24f12e840936acca22493e5b9b680c4.txt  \n",
            "  inflating: destination_folder/data-2/train/labels/acne-29_jpeg.rf.b4046180aab488bb66e4526381a0bae1.txt  \n",
            "  inflating: destination_folder/data-2/train/labels/acne-300_jpeg.rf.0827844ebf261e9e2169581a6cb28874.txt  \n",
            "  inflating: destination_folder/data-2/train/labels/acne-300_jpeg.rf.1b253f89f597b1b2d4c6ca99bda30381.txt  \n",
            "  inflating: destination_folder/data-2/train/labels/acne-300_jpeg.rf.37d6ebe89a9258816b60beac5c432deb.txt  \n",
            "  inflating: destination_folder/data-2/train/labels/acne-301_jpeg.rf.3b8d86ba191dee67dc51b7e88356e287.txt  \n",
            "  inflating: destination_folder/data-2/train/labels/acne-301_jpeg.rf.70af8f642e9ad2bf27fe5684850ef40e.txt  \n",
            "  inflating: destination_folder/data-2/train/labels/acne-301_jpeg.rf.8106738a68360a3b4b44213002378a11.txt  \n",
            "  inflating: destination_folder/data-2/train/labels/acne-302_jpeg.rf.39d5cd7876a0868d79a972616a4f9453.txt  \n",
            "  inflating: destination_folder/data-2/train/labels/acne-302_jpeg.rf.4fb146c4ee39e5667172f7c560eb8f9a.txt  \n",
            "  inflating: destination_folder/data-2/train/labels/acne-302_jpeg.rf.695c4d95f41391fbee11021363a7c2cf.txt  \n",
            "  inflating: destination_folder/data-2/train/labels/acne-303_jpeg.rf.0afc7b236db9b4d5728bc61905f6a4ce.txt  \n",
            "  inflating: destination_folder/data-2/train/labels/acne-303_jpeg.rf.bf471d912e0f8f2114ca931bae2a5e95.txt  \n",
            "  inflating: destination_folder/data-2/train/labels/acne-303_jpeg.rf.e7c788b6515756a248c34066f097814d.txt  \n",
            "  inflating: destination_folder/data-2/train/labels/acne-304_jpeg.rf.77962a6df5f121604e80cbb050034066.txt  \n",
            "  inflating: destination_folder/data-2/train/labels/acne-304_jpeg.rf.ebbbd6ba2e236aa84216690eff37ec1d.txt  \n",
            "  inflating: destination_folder/data-2/train/labels/acne-304_jpeg.rf.f6dababa61a42441d668032b4577994e.txt  \n",
            "  inflating: destination_folder/data-2/train/labels/acne-305_jpeg.rf.2d1d279ddfea1b69eeefab989770cdd5.txt  \n",
            "  inflating: destination_folder/data-2/train/labels/acne-305_jpeg.rf.447a131eee08348db9b4f2aaf24b89eb.txt  \n",
            "  inflating: destination_folder/data-2/train/labels/acne-305_jpeg.rf.503758a0be691560a2e3d73ef1cc7695.txt  \n",
            "  inflating: destination_folder/data-2/train/labels/acne-306_jpeg.rf.28d407fc7715d99a7a6484ecec821353.txt  \n",
            "  inflating: destination_folder/data-2/train/labels/acne-306_jpeg.rf.40691f2c7cb3cd1adc01b94d628f07c2.txt  \n",
            "  inflating: destination_folder/data-2/train/labels/acne-306_jpeg.rf.93fbee6720c5a9b354b3453300bb3992.txt  \n",
            "  inflating: destination_folder/data-2/train/labels/acne-307_jpeg.rf.5297a008770db29598632a05048eba2b.txt  \n",
            "  inflating: destination_folder/data-2/train/labels/acne-307_jpeg.rf.94c2dc3718bb5ad2581945c0fffcaa57.txt  \n",
            "  inflating: destination_folder/data-2/train/labels/acne-307_jpeg.rf.ff4ac1e7b5ce5f6e0352711dfa73d20e.txt  \n",
            "  inflating: destination_folder/data-2/train/labels/acne-308_jpeg.rf.210139eceb1e20107337f66369fdffed.txt  \n",
            "  inflating: destination_folder/data-2/train/labels/acne-308_jpeg.rf.65b144d39627948716e4501a7076b315.txt  \n",
            "  inflating: destination_folder/data-2/train/labels/acne-308_jpeg.rf.d62319b7946355fa41a8ade9b8473a68.txt  \n",
            "  inflating: destination_folder/data-2/train/labels/acne-309_jpeg.rf.7e3da349c7bf40ef728a16e75e0d86de.txt  \n",
            "  inflating: destination_folder/data-2/train/labels/acne-309_jpeg.rf.c873de2e8d5769a1e9fbc1a8b7a507fd.txt  \n",
            "  inflating: destination_folder/data-2/train/labels/acne-309_jpeg.rf.ced4ac5492bed97773d915cca6c77df5.txt  \n",
            "  inflating: destination_folder/data-2/train/labels/acne-30_jpeg.rf.093be01147ffe73677435553b5ff88b3.txt  \n",
            "  inflating: destination_folder/data-2/train/labels/acne-30_jpeg.rf.323277384ff63e3204b6bdcdd1284356.txt  \n",
            "  inflating: destination_folder/data-2/train/labels/acne-30_jpeg.rf.a0496a290183a84f56100a623fe63a30.txt  \n",
            "  inflating: destination_folder/data-2/train/labels/acne-311_jpeg.rf.048b66cab5e30735f4e4d4293eeff8ea.txt  \n",
            "  inflating: destination_folder/data-2/train/labels/acne-311_jpeg.rf.ce8c9d5044c01272993412e48f44d625.txt  \n",
            "  inflating: destination_folder/data-2/train/labels/acne-311_jpeg.rf.f60d123b327f9ccf4a2fe23864562086.txt  \n",
            "  inflating: destination_folder/data-2/train/labels/acne-312_jpeg.rf.1af65ed498f64c5050d20705378da211.txt  \n",
            "  inflating: destination_folder/data-2/train/labels/acne-312_jpeg.rf.ccaded28aeb5d25f057ed31075e6a2e2.txt  \n",
            "  inflating: destination_folder/data-2/train/labels/acne-312_jpeg.rf.e6122630d600d32cdb7d18aa87a5c874.txt  \n",
            "  inflating: destination_folder/data-2/train/labels/acne-313_jpeg.rf.da7c72144244084311cce5cdee2d51ae.txt  \n",
            "  inflating: destination_folder/data-2/train/labels/acne-313_jpeg.rf.e1078f4c5f586767c81afb7d1eef16e6.txt  \n",
            "  inflating: destination_folder/data-2/train/labels/acne-313_jpeg.rf.ef7b83bf079670f7ffec2ba3b2dfd430.txt  \n",
            "  inflating: destination_folder/data-2/train/labels/acne-314_jpeg.rf.5c9e21128c365b6892211ab9be3e0626.txt  \n",
            "  inflating: destination_folder/data-2/train/labels/acne-314_jpeg.rf.e15998758f9ee99e20780a0ebbfc64f2.txt  \n",
            "  inflating: destination_folder/data-2/train/labels/acne-314_jpeg.rf.ed74ef46b15ca68c0888494ecc36802f.txt  \n",
            "  inflating: destination_folder/data-2/train/labels/acne-316_jpeg.rf.4d78682dca505e9a307dc9afee2c2a98.txt  \n",
            "  inflating: destination_folder/data-2/train/labels/acne-316_jpeg.rf.7269093f7038311d0134f6b370525859.txt  \n",
            "  inflating: destination_folder/data-2/train/labels/acne-316_jpeg.rf.d4e1b012f4a1d6b9e607a8ff4a5a0da9.txt  \n",
            " extracting: destination_folder/data-2/train/labels/acne-317_jpeg.rf.46ed7951f87afb2e53a0f78fa5f783a4.txt  \n",
            " extracting: destination_folder/data-2/train/labels/acne-317_jpeg.rf.67150dd365e3698fce482a944e674fde.txt  \n",
            " extracting: destination_folder/data-2/train/labels/acne-317_jpeg.rf.7b7d3ede64a00397babad2c3fa9f8470.txt  \n",
            "  inflating: destination_folder/data-2/train/labels/acne-318_jpeg.rf.14b5537b3bf111c0a0ca9de9ccb85932.txt  \n",
            "  inflating: destination_folder/data-2/train/labels/acne-318_jpeg.rf.3019f1975e0d3ec5ebefef7472185f3b.txt  \n",
            "  inflating: destination_folder/data-2/train/labels/acne-318_jpeg.rf.cd2f729339f69140f92978c19e0664b0.txt  \n",
            "  inflating: destination_folder/data-2/train/labels/acne-321_jpeg.rf.74d6fa49eae2e7b016116113c68ba39f.txt  \n",
            "  inflating: destination_folder/data-2/train/labels/acne-321_jpeg.rf.8b746dd8e9fed6bdb3c9be0101076b71.txt  \n",
            "  inflating: destination_folder/data-2/train/labels/acne-321_jpeg.rf.e6bcc4a787ddac7730b017f3822ed082.txt  \n",
            "  inflating: destination_folder/data-2/train/labels/acne-323_jpeg.rf.6662d6674b7883fb77d247bb5fc7d2bf.txt  \n",
            "  inflating: destination_folder/data-2/train/labels/acne-323_jpeg.rf.c995a17e495945f640bc73d48b115fde.txt  \n",
            "  inflating: destination_folder/data-2/train/labels/acne-323_jpeg.rf.d32d7666e02adc1e58a966e9e22f1659.txt  \n",
            "  inflating: destination_folder/data-2/train/labels/acne-326_jpeg.rf.8d2d5e7518b1299974190173d0bcc106.txt  \n",
            "  inflating: destination_folder/data-2/train/labels/acne-326_jpeg.rf.a38294ebe371460887bf7faa766c446f.txt  \n",
            "  inflating: destination_folder/data-2/train/labels/acne-326_jpeg.rf.c66317ba3381c7eff5d1ea711859a3ba.txt  \n",
            "  inflating: destination_folder/data-2/train/labels/acne-327_jpeg.rf.19f5bff4fbba329b66f6d16ac0b427ef.txt  \n",
            "  inflating: destination_folder/data-2/train/labels/acne-327_jpeg.rf.1eab7e229c29431fef5a7a19b545a91a.txt  \n",
            "  inflating: destination_folder/data-2/train/labels/acne-327_jpeg.rf.6a337ae979a131b4e8c2c22f086bf878.txt  \n",
            "  inflating: destination_folder/data-2/train/labels/acne-330_jpeg.rf.4a9e71f79f3ac432d8f35fd5e4612a2b.txt  \n",
            "  inflating: destination_folder/data-2/train/labels/acne-330_jpeg.rf.8b1c55b99af06bebdd71a096203d4b2c.txt  \n",
            "  inflating: destination_folder/data-2/train/labels/acne-330_jpeg.rf.9e41e6f1e75e668a32459fed05b62a84.txt  \n",
            "  inflating: destination_folder/data-2/train/labels/acne-331_jpeg.rf.4f4b52de1ea6ef286b238e4c072dab59.txt  \n",
            "  inflating: destination_folder/data-2/train/labels/acne-331_jpeg.rf.83ec17dbb2505cc0b8a73dc469e6d85b.txt  \n",
            "  inflating: destination_folder/data-2/train/labels/acne-331_jpeg.rf.c5f8a3c6a50ee512374cad7ce38c9019.txt  \n",
            "  inflating: destination_folder/data-2/train/labels/acne-332_jpeg.rf.22c3007e8a110a4236fd307abb3b03ce.txt  \n",
            "  inflating: destination_folder/data-2/train/labels/acne-332_jpeg.rf.8d6f2cb10ab18da14224de1817cf989a.txt  \n",
            "  inflating: destination_folder/data-2/train/labels/acne-332_jpeg.rf.c818cc35005248abbf274b3469129aed.txt  \n",
            "  inflating: destination_folder/data-2/train/labels/acne-333_jpeg.rf.807cb4d0e4a9d0aa7400da03dc66c401.txt  \n",
            "  inflating: destination_folder/data-2/train/labels/acne-333_jpeg.rf.a6979bf8ff1a21dffd23ebe656977bf8.txt  \n",
            "  inflating: destination_folder/data-2/train/labels/acne-333_jpeg.rf.cf08829a4c2cafda406bea5993dfaf05.txt  \n",
            "  inflating: destination_folder/data-2/train/labels/acne-334_jpeg.rf.3ccb3cffd5806a38c4700d8f27cca524.txt  \n",
            "  inflating: destination_folder/data-2/train/labels/acne-334_jpeg.rf.704a6e2a57ec614231bd2683225afd07.txt  \n",
            "  inflating: destination_folder/data-2/train/labels/acne-334_jpeg.rf.b432e959fcbd94bc4567a10a4aa9e780.txt  \n",
            "  inflating: destination_folder/data-2/train/labels/acne-336_jpeg.rf.51e16db2ee65d5b1300fd9db14e2ff1c.txt  \n",
            "  inflating: destination_folder/data-2/train/labels/acne-336_jpeg.rf.cc2e7b94610e566c652bc75229846c70.txt  \n",
            "  inflating: destination_folder/data-2/train/labels/acne-336_jpeg.rf.d7614515f7b36a7257add178b373e812.txt  \n",
            "  inflating: destination_folder/data-2/train/labels/acne-339_jpeg.rf.89ead30b27764c9ff8f8b9c8fbd6d0d7.txt  \n",
            "  inflating: destination_folder/data-2/train/labels/acne-339_jpeg.rf.9da291f1d86c509cbf8aa00a3a6a0ea0.txt  \n",
            "  inflating: destination_folder/data-2/train/labels/acne-339_jpeg.rf.f36c32fba882a107b011b2c46bf12eef.txt  \n",
            "  inflating: destination_folder/data-2/train/labels/acne-340_jpeg.rf.af9ce04eaa77297fe319b3cde9050f77.txt  \n",
            "  inflating: destination_folder/data-2/train/labels/acne-340_jpeg.rf.c2980243aa844e28b4cc19b02b723df9.txt  \n",
            "  inflating: destination_folder/data-2/train/labels/acne-340_jpeg.rf.d4372441a50c0e449cf86fa871611b33.txt  \n",
            "  inflating: destination_folder/data-2/train/labels/acne-341_jpeg.rf.1210ec15ceba29fde6938260be20388a.txt  \n",
            "  inflating: destination_folder/data-2/train/labels/acne-341_jpeg.rf.4cb410fa46618338d9e935597ba6ad44.txt  \n",
            "  inflating: destination_folder/data-2/train/labels/acne-341_jpeg.rf.78cdff7ab2de2e37502eb5b412ebec9d.txt  \n",
            "  inflating: destination_folder/data-2/train/labels/acne-342_jpeg.rf.19517a7364089a0dc5d54bac00d9aba3.txt  \n",
            "  inflating: destination_folder/data-2/train/labels/acne-342_jpeg.rf.43983d45ed089d5aa6259bd8a75c8843.txt  \n",
            "  inflating: destination_folder/data-2/train/labels/acne-342_jpeg.rf.5249295520380096454ecc28c2fbab82.txt  \n",
            "  inflating: destination_folder/data-2/train/labels/acne-343_jpeg.rf.897705a3f7a11ef2e9cd8c29759c4ef9.txt  \n",
            "  inflating: destination_folder/data-2/train/labels/acne-343_jpeg.rf.b5da5bc6a8466e5838fbf838a63bb924.txt  \n",
            "  inflating: destination_folder/data-2/train/labels/acne-343_jpeg.rf.c85522764d47047f7affd2a3b0af4232.txt  \n",
            "  inflating: destination_folder/data-2/train/labels/acne-344_jpeg.rf.580e6a0e454cf49479d15b0ae2e3db00.txt  \n",
            "  inflating: destination_folder/data-2/train/labels/acne-344_jpeg.rf.b2452461f2e18c63e0f8ece22f7b3756.txt  \n",
            "  inflating: destination_folder/data-2/train/labels/acne-345_jpeg.rf.002b6d9c99b9d10198b110273259bb49.txt  \n",
            "  inflating: destination_folder/data-2/train/labels/acne-345_jpeg.rf.22014dcf795bae3cc2c179a784d8d03f.txt  \n",
            "  inflating: destination_folder/data-2/train/labels/acne-345_jpeg.rf.f59e715bacab2b4767e16e45c013017b.txt  \n",
            "  inflating: destination_folder/data-2/train/labels/acne-346_jpeg.rf.7f6664cf705339001d9b41d67ba7c719.txt  \n",
            "  inflating: destination_folder/data-2/train/labels/acne-346_jpeg.rf.c0c737144ba0f304ed14761968343e9f.txt  \n",
            "  inflating: destination_folder/data-2/train/labels/acne-346_jpeg.rf.cbaa650f00e504b096a8473f93c6468e.txt  \n",
            "  inflating: destination_folder/data-2/train/labels/acne-34_jpeg.rf.02b170dadf4cc50c7baf382e583e0a1c.txt  \n",
            "  inflating: destination_folder/data-2/train/labels/acne-34_jpeg.rf.d085cdfb42ef1e9e0d0ca356ae1346da.txt  \n",
            "  inflating: destination_folder/data-2/train/labels/acne-34_jpeg.rf.f9243484168f8c7fa6ecb6b210f268e9.txt  \n",
            "  inflating: destination_folder/data-2/train/labels/acne-353_jpeg.rf.625e559765bb0d76851d3f9e43bfa1d4.txt  \n",
            "  inflating: destination_folder/data-2/train/labels/acne-353_jpeg.rf.943e3a0e966f544a1f134bf29987a8af.txt  \n",
            "  inflating: destination_folder/data-2/train/labels/acne-353_jpeg.rf.edc35d597e58e570a2e3d663f4fab978.txt  \n",
            "  inflating: destination_folder/data-2/train/labels/acne-354_jpeg.rf.291540ec681427f8fe6ba4297d2908cc.txt  \n",
            "  inflating: destination_folder/data-2/train/labels/acne-354_jpeg.rf.731f027a45c6991d93d449116b814235.txt  \n",
            "  inflating: destination_folder/data-2/train/labels/acne-354_jpeg.rf.d19c094c725f0a1facba4f773d312cb2.txt  \n",
            "  inflating: destination_folder/data-2/train/labels/acne-356_jpeg.rf.5e4c20d1a3d6be4e876cc7e815fe2602.txt  \n",
            "  inflating: destination_folder/data-2/train/labels/acne-356_jpeg.rf.c5a00c8f947192ac42359b2f4a3f9a77.txt  \n",
            "  inflating: destination_folder/data-2/train/labels/acne-356_jpeg.rf.fa2076a41a23a162052ab9224e5a9ebd.txt  \n",
            "  inflating: destination_folder/data-2/train/labels/acne-357_jpeg.rf.2adf3a34d410d5882fbf70ca84b0e7d9.txt  \n",
            "  inflating: destination_folder/data-2/train/labels/acne-357_jpeg.rf.b3f4ff3704e5b2094016b11414bc810c.txt  \n",
            "  inflating: destination_folder/data-2/train/labels/acne-357_jpeg.rf.d1d86e145a090a3f4d28ea3ac43b9c7d.txt  \n",
            "  inflating: destination_folder/data-2/train/labels/acne-360_jpeg.rf.27ace4684843a0688aaecc8f6ca6a610.txt  \n",
            "  inflating: destination_folder/data-2/train/labels/acne-360_jpeg.rf.97c5aeaafafd3e572e30a626610d740e.txt  \n",
            "  inflating: destination_folder/data-2/train/labels/acne-361_jpeg.rf.1cade253a8aa63ca4fecbd580be1319f.txt  \n",
            "  inflating: destination_folder/data-2/train/labels/acne-361_jpeg.rf.aaa6535bc46e0c26197cfe4c51677388.txt  \n",
            "  inflating: destination_folder/data-2/train/labels/acne-361_jpeg.rf.cd9b17ea87f1fe36e9645dcfa026ae14.txt  \n",
            "  inflating: destination_folder/data-2/train/labels/acne-364_jpeg.rf.a341450b7e3d3acd62aedb85a1848dab.txt  \n",
            "  inflating: destination_folder/data-2/train/labels/acne-364_jpeg.rf.b7333e26e44e3ddcdd88e9ecc59978a0.txt  \n",
            "  inflating: destination_folder/data-2/train/labels/acne-364_jpeg.rf.c2863356b7847488b64a67e07eaf3454.txt  \n",
            "  inflating: destination_folder/data-2/train/labels/acne-365_jpeg.rf.10ae61ddb2eeac85cf9d66f68a66d18b.txt  \n",
            "  inflating: destination_folder/data-2/train/labels/acne-365_jpeg.rf.188e94b58976329aac72248d90241590.txt  \n",
            "  inflating: destination_folder/data-2/train/labels/acne-365_jpeg.rf.2427915dd60077bf47867e7c15da8fd2.txt  \n",
            "  inflating: destination_folder/data-2/train/labels/acne-366_jpeg.rf.21d4e73c4485e67d84fe19d9ea9a8470.txt  \n",
            "  inflating: destination_folder/data-2/train/labels/acne-366_jpeg.rf.2ef4dd175cc9cfb53d83d11aa1a0c0f8.txt  \n",
            "  inflating: destination_folder/data-2/train/labels/acne-366_jpeg.rf.d1a229459b6517204bb697e05b485f0c.txt  \n",
            "  inflating: destination_folder/data-2/train/labels/acne-367_jpeg.rf.0256023f81edf9a88db31978ece3be48.txt  \n",
            "  inflating: destination_folder/data-2/train/labels/acne-367_jpeg.rf.4f0b1a39330651e6d704ae0dbde2216a.txt  \n",
            "  inflating: destination_folder/data-2/train/labels/acne-367_jpeg.rf.7b7f404f68052dd966b7596480bcc2a3.txt  \n",
            "  inflating: destination_folder/data-2/train/labels/acne-368_jpeg.rf.0375c66d41b108dfaf27d36b7df29e06.txt  \n",
            "  inflating: destination_folder/data-2/train/labels/acne-368_jpeg.rf.4da0925effde916e57f433c8ceb39301.txt  \n",
            "  inflating: destination_folder/data-2/train/labels/acne-368_jpeg.rf.9b2d89d85c9c49bbaf1a3e6bdca6ae32.txt  \n",
            "  inflating: destination_folder/data-2/train/labels/acne-369_jpeg.rf.86b958fd5657d652169f3714ad97e608.txt  \n",
            "  inflating: destination_folder/data-2/train/labels/acne-369_jpeg.rf.9d16afa9ca997abc262d4fc53453d333.txt  \n",
            "  inflating: destination_folder/data-2/train/labels/acne-369_jpeg.rf.c2ff2e67d05d05952f4a40350f6ad3d0.txt  \n",
            "  inflating: destination_folder/data-2/train/labels/acne-36_jpeg.rf.4efdf2eaba4f4948913d0c7fc3884020.txt  \n",
            "  inflating: destination_folder/data-2/train/labels/acne-36_jpeg.rf.51cfb97155eea90115dbdb6dce03f79e.txt  \n",
            "  inflating: destination_folder/data-2/train/labels/acne-36_jpeg.rf.e6b1128ff2ada48b5247b7b83ce997e0.txt  \n",
            " extracting: destination_folder/data-2/train/labels/acne-371_jpeg.rf.363bbc85d736aae294e6a79d7cd55ab4.txt  \n",
            " extracting: destination_folder/data-2/train/labels/acne-371_jpeg.rf.aa86106fe5f4e3d64215502ad691ca30.txt  \n",
            " extracting: destination_folder/data-2/train/labels/acne-371_jpeg.rf.c0c4d138c3773c1b5a6851993d716e86.txt  \n",
            "  inflating: destination_folder/data-2/train/labels/acne-372_jpeg.rf.26906e49c0b19ece96085c3c8afc6bea.txt  \n",
            "  inflating: destination_folder/data-2/train/labels/acne-372_jpeg.rf.8b720e3b82782272e18eab66f6dc2d32.txt  \n",
            "  inflating: destination_folder/data-2/train/labels/acne-372_jpeg.rf.f214dd2d34d52a467b0b217061c7aba4.txt  \n",
            "  inflating: destination_folder/data-2/train/labels/acne-374_jpeg.rf.56ed2601d7139e2d658aa201bde21116.txt  \n",
            "  inflating: destination_folder/data-2/train/labels/acne-374_jpeg.rf.8546e29127212242b6e5e7650390bd1e.txt  \n",
            "  inflating: destination_folder/data-2/train/labels/acne-374_jpeg.rf.9a7d17e0551efd45d5c0c0307d8e398f.txt  \n",
            "  inflating: destination_folder/data-2/train/labels/acne-375_jpeg.rf.77366ff6701d154088facaea479be255.txt  \n",
            "  inflating: destination_folder/data-2/train/labels/acne-375_jpeg.rf.9a09a23ae1d8e9426e9379e4d9ed1766.txt  \n",
            "  inflating: destination_folder/data-2/train/labels/acne-375_jpeg.rf.c54ccc9b0eb4117e004983c0698b3b03.txt  \n",
            "  inflating: destination_folder/data-2/train/labels/acne-376_jpeg.rf.7dbf19a32e30877ef3748eb9a80f6cfd.txt  \n",
            "  inflating: destination_folder/data-2/train/labels/acne-376_jpeg.rf.8f41eb02e99d94c7e498a1cd0bdbd44c.txt  \n",
            "  inflating: destination_folder/data-2/train/labels/acne-376_jpeg.rf.b9142ebd06a87987fde4b24845324332.txt  \n",
            "  inflating: destination_folder/data-2/train/labels/acne-377_jpeg.rf.09c3859ff50d3f864f8eed5ce8fff6b8.txt  \n",
            "  inflating: destination_folder/data-2/train/labels/acne-377_jpeg.rf.aa0d6fc1d052d267086e063af8d7440b.txt  \n",
            "  inflating: destination_folder/data-2/train/labels/acne-377_jpeg.rf.e2fbe6bd44370d9c27efb5f0c4fe6d43.txt  \n",
            "  inflating: destination_folder/data-2/train/labels/acne-378_jpeg.rf.2ced61875bc16008549fa48ac957ba18.txt  \n",
            "  inflating: destination_folder/data-2/train/labels/acne-378_jpeg.rf.779acc985a7b82aef9e0d51d158bd4b9.txt  \n",
            "  inflating: destination_folder/data-2/train/labels/acne-378_jpeg.rf.d98df002d2683a7c5cc5bb6a1fad32ec.txt  \n",
            "  inflating: destination_folder/data-2/train/labels/acne-379_jpeg.rf.15ab7bab8764a1deb304f2b054d207df.txt  \n",
            "  inflating: destination_folder/data-2/train/labels/acne-379_jpeg.rf.5eb351535b33612163f5c3adff327af8.txt  \n",
            "  inflating: destination_folder/data-2/train/labels/acne-379_jpeg.rf.c2e327c9b280b90da81f13c757f6a8f5.txt  \n",
            "  inflating: destination_folder/data-2/train/labels/acne-381_jpeg.rf.1aaeb5f712aa2284561ed8faae0b8bf4.txt  \n",
            "  inflating: destination_folder/data-2/train/labels/acne-381_jpeg.rf.ddafcb075cc9e3972b3f8d58535cca4b.txt  \n",
            "  inflating: destination_folder/data-2/train/labels/acne-381_jpeg.rf.f0bca72fdfd13c94a3940faf9e406fbf.txt  \n",
            "  inflating: destination_folder/data-2/train/labels/acne-382_jpeg.rf.985f679f84865a9fb015f6a23afc0184.txt  \n",
            "  inflating: destination_folder/data-2/train/labels/acne-382_jpeg.rf.aa3f9daabdc54d8e1aac724ac544591e.txt  \n",
            "  inflating: destination_folder/data-2/train/labels/acne-382_jpeg.rf.db55dbac46a156f1390e1bdd893ba56f.txt  \n",
            "  inflating: destination_folder/data-2/train/labels/acne-383_jpeg.rf.2fc9945d27a400e8b16b39f3a3abbb4f.txt  \n",
            "  inflating: destination_folder/data-2/train/labels/acne-383_jpeg.rf.315b9bc6b3197a159656043ddfbee731.txt  \n",
            "  inflating: destination_folder/data-2/train/labels/acne-383_jpeg.rf.5b5a6967d91a126d7adb9a60119c7588.txt  \n",
            "  inflating: destination_folder/data-2/train/labels/acne-384_jpeg.rf.99fb93bf0634aca34cad28d7c21398c1.txt  \n",
            "  inflating: destination_folder/data-2/train/labels/acne-384_jpeg.rf.9df376fbf19e3858685ee339291b6138.txt  \n",
            "  inflating: destination_folder/data-2/train/labels/acne-384_jpeg.rf.ec3231c38efb89c5d97f2acbd9cbcbc5.txt  \n",
            "  inflating: destination_folder/data-2/train/labels/acne-385_jpeg.rf.194b8fc89123b19866804286f91caff9.txt  \n",
            "  inflating: destination_folder/data-2/train/labels/acne-385_jpeg.rf.d5d01a898e065e15b4cd58ba3bcb2ef0.txt  \n",
            "  inflating: destination_folder/data-2/train/labels/acne-385_jpeg.rf.e1a34318a73237f196396303f2a49d59.txt  \n",
            "  inflating: destination_folder/data-2/train/labels/acne-386_jpeg.rf.391340962432958139ed9931c55dbe75.txt  \n",
            "  inflating: destination_folder/data-2/train/labels/acne-386_jpeg.rf.82c66c8594d3390a39652de3fa53d6ea.txt  \n",
            "  inflating: destination_folder/data-2/train/labels/acne-386_jpeg.rf.91769001c38658738afb1f0867bfd4e6.txt  \n",
            "  inflating: destination_folder/data-2/train/labels/acne-387_jpeg.rf.6d4869774d927eefd56a755e0963e417.txt  \n",
            "  inflating: destination_folder/data-2/train/labels/acne-387_jpeg.rf.c0a3072b5a1f185562e803f4c5da9e1b.txt  \n",
            "  inflating: destination_folder/data-2/train/labels/acne-387_jpeg.rf.ef8e3aa81ad00bf7693e4f54276afe01.txt  \n",
            "  inflating: destination_folder/data-2/train/labels/acne-388_jpeg.rf.00a70fe529d06c6ea14df96abd46ed6d.txt  \n",
            "  inflating: destination_folder/data-2/train/labels/acne-388_jpeg.rf.5ba4c31a95781b26c1a48dc7e5982ef5.txt  \n",
            "  inflating: destination_folder/data-2/train/labels/acne-388_jpeg.rf.b0b73e88c7e3f7ac1459b0fc341d05b1.txt  \n",
            "  inflating: destination_folder/data-2/train/labels/acne-390_jpeg.rf.3ba3ce0a3b71be501538e232e95d11a1.txt  \n",
            "  inflating: destination_folder/data-2/train/labels/acne-390_jpeg.rf.e10fc9bdc6c44c3fd81c97839dec6e6e.txt  \n",
            "  inflating: destination_folder/data-2/train/labels/acne-390_jpeg.rf.f87f3bff712355e1c36e45f4eeec197a.txt  \n",
            "  inflating: destination_folder/data-2/train/labels/acne-391_jpeg.rf.0574e9486dfd815a8721c013009643c4.txt  \n",
            "  inflating: destination_folder/data-2/train/labels/acne-391_jpeg.rf.73e446195045724a71326dbc90e5af2e.txt  \n",
            "  inflating: destination_folder/data-2/train/labels/acne-391_jpeg.rf.ccb0dda0db38d2c500f431d03c026535.txt  \n",
            "  inflating: destination_folder/data-2/train/labels/acne-392_jpeg.rf.0f1a6008b1cd953c23c148dc76e301b9.txt  \n",
            "  inflating: destination_folder/data-2/train/labels/acne-392_jpeg.rf.62dc248594532563b138685db37457e3.txt  \n",
            "  inflating: destination_folder/data-2/train/labels/acne-392_jpeg.rf.8b104cd68b0713735fc8cc2920f3c171.txt  \n",
            "  inflating: destination_folder/data-2/train/labels/acne-393_jpeg.rf.6e6398a10d41e29b78b290318af07fc3.txt  \n",
            "  inflating: destination_folder/data-2/train/labels/acne-393_jpeg.rf.aa0cd382b0657a0da99569093d75a81b.txt  \n",
            "  inflating: destination_folder/data-2/train/labels/acne-393_jpeg.rf.e22909f613d8c62bae6d1a9330ef4e95.txt  \n",
            "  inflating: destination_folder/data-2/train/labels/acne-394_jpeg.rf.6f9376793548ea02948af09cbccd5bd9.txt  \n",
            "  inflating: destination_folder/data-2/train/labels/acne-394_jpeg.rf.7977adb991f0f71c6a70d27d84c70acd.txt  \n",
            "  inflating: destination_folder/data-2/train/labels/acne-394_jpeg.rf.ff80d118ac89d5c1a63726e73abd80ab.txt  \n",
            "  inflating: destination_folder/data-2/train/labels/acne-395_jpeg.rf.8e488b38e5e5576a3ea1f0302d47da3a.txt  \n",
            "  inflating: destination_folder/data-2/train/labels/acne-395_jpeg.rf.a49c2366bd09e30b12904dfd64ba25a0.txt  \n",
            "  inflating: destination_folder/data-2/train/labels/acne-395_jpeg.rf.c84eced7d0c4f1ef1da0ae42af49a29b.txt  \n",
            "  inflating: destination_folder/data-2/train/labels/acne-397_jpeg.rf.135d00f347de4a3dc53439a1b743cab0.txt  \n",
            "  inflating: destination_folder/data-2/train/labels/acne-397_jpeg.rf.2cd37a7d64d4ed004840a13cf5dcd3ae.txt  \n",
            "  inflating: destination_folder/data-2/train/labels/acne-397_jpeg.rf.d234e389ecadbff5554b4b8aa6ebe768.txt  \n",
            "  inflating: destination_folder/data-2/train/labels/acne-398_jpeg.rf.505688f4b1f661eb1abef3ff962bc016.txt  \n",
            "  inflating: destination_folder/data-2/train/labels/acne-398_jpeg.rf.643fe2e633c0c27d4ef47df2d3e35167.txt  \n",
            "  inflating: destination_folder/data-2/train/labels/acne-398_jpeg.rf.808d1696055919e2d6214cbc66da18e3.txt  \n",
            "  inflating: destination_folder/data-2/train/labels/acne-399_jpeg.rf.1986fbdd6d6494360d60421a47ca8536.txt  \n",
            "  inflating: destination_folder/data-2/train/labels/acne-399_jpeg.rf.612e86dcb97d84f3808e22c1d73a8822.txt  \n",
            "  inflating: destination_folder/data-2/train/labels/acne-399_jpeg.rf.aa45a6ad4a79d4c3da26f62b83b77ea1.txt  \n",
            "  inflating: destination_folder/data-2/train/labels/acne-400_jpeg.rf.17f5bed14cb1f3577987b13e9cc02d59.txt  \n",
            "  inflating: destination_folder/data-2/train/labels/acne-400_jpeg.rf.6f6ceef01f7c3692c9aeaeb87166c0f9.txt  \n",
            "  inflating: destination_folder/data-2/train/labels/acne-400_jpeg.rf.8a5527f5b1873dd19b02c29dd9e693a3.txt  \n",
            "  inflating: destination_folder/data-2/train/labels/acne-401_jpeg.rf.530742a0a7770a493dbcdf6c5ce16fe1.txt  \n",
            "  inflating: destination_folder/data-2/train/labels/acne-401_jpeg.rf.82350b1230bd73cb7c58a25b02c71625.txt  \n",
            "  inflating: destination_folder/data-2/train/labels/acne-401_jpeg.rf.a3908ee69841a054d6c166d5fa018ff1.txt  \n",
            "  inflating: destination_folder/data-2/train/labels/acne-402_jpeg.rf.4d11bc7c1dc032855852dae4165b697f.txt  \n",
            "  inflating: destination_folder/data-2/train/labels/acne-402_jpeg.rf.506c2cd50fa906b41ac80f9dbbe5618e.txt  \n",
            "  inflating: destination_folder/data-2/train/labels/acne-402_jpeg.rf.6b9c991d6ae6983c8477efdac6e0a53a.txt  \n",
            "  inflating: destination_folder/data-2/train/labels/acne-403_jpeg.rf.137e5a1d3dfbfc106e99aaa5e8368891.txt  \n",
            "  inflating: destination_folder/data-2/train/labels/acne-403_jpeg.rf.43f7da9f9d69ae4ada3c909640b7ebf8.txt  \n",
            "  inflating: destination_folder/data-2/train/labels/acne-403_jpeg.rf.dc0fa68daf6ab1520af807ea9d7f62ec.txt  \n",
            "  inflating: destination_folder/data-2/train/labels/acne-405_jpeg.rf.3c0894066212ba42330649c242e0508b.txt  \n",
            "  inflating: destination_folder/data-2/train/labels/acne-405_jpeg.rf.5927cc2573154ea6a64e8e181aece8e8.txt  \n",
            "  inflating: destination_folder/data-2/train/labels/acne-405_jpeg.rf.7a67cd6a34f7a9012adfa87d4727f3a1.txt  \n",
            "  inflating: destination_folder/data-2/train/labels/acne-406_jpeg.rf.046be6251368f2122cac81637d5e0603.txt  \n",
            "  inflating: destination_folder/data-2/train/labels/acne-406_jpeg.rf.0d510f52400fbe7e5d13472db0f051f5.txt  \n",
            "  inflating: destination_folder/data-2/train/labels/acne-406_jpeg.rf.8614cb6779208ea080fb9369c56b6a16.txt  \n",
            "  inflating: destination_folder/data-2/train/labels/acne-408_jpeg.rf.83a16019cae0dad54bbadd1e63e863f5.txt  \n",
            "  inflating: destination_folder/data-2/train/labels/acne-408_jpeg.rf.9e83a95814251aa25b03bdd121fc63e1.txt  \n",
            "  inflating: destination_folder/data-2/train/labels/acne-408_jpeg.rf.d272a99439c261a332732dcf882a40ee.txt  \n",
            "  inflating: destination_folder/data-2/train/labels/acne-409_jpeg.rf.60942100639bfe3294a969b6f1687e60.txt  \n",
            "  inflating: destination_folder/data-2/train/labels/acne-409_jpeg.rf.6c849b9ab9d249335ef9982f47be98b6.txt  \n",
            "  inflating: destination_folder/data-2/train/labels/acne-409_jpeg.rf.de36768b426b2176e489c7bc3ad974cb.txt  \n",
            "  inflating: destination_folder/data-2/train/labels/acne-410_jpeg.rf.166675b190d3d9d7e19084e675cd6a0b.txt  \n",
            "  inflating: destination_folder/data-2/train/labels/acne-410_jpeg.rf.37ffe2355a639dec42916f056b306826.txt  \n",
            "  inflating: destination_folder/data-2/train/labels/acne-410_jpeg.rf.caced8b70846cbfe696a0a075af50549.txt  \n",
            "  inflating: destination_folder/data-2/train/labels/acne-411_jpeg.rf.4aa1cacc5b7ed8a3130d134336d83080.txt  \n",
            "  inflating: destination_folder/data-2/train/labels/acne-411_jpeg.rf.7d019ce4b6775c6e3b91b618dcc6b7ec.txt  \n",
            "  inflating: destination_folder/data-2/train/labels/acne-411_jpeg.rf.a862c397f8142672533ee2bdf117a748.txt  \n",
            "  inflating: destination_folder/data-2/train/labels/acne-412_jpeg.rf.3d70c0bfec74e985db5dc829ffc4c69a.txt  \n",
            "  inflating: destination_folder/data-2/train/labels/acne-412_jpeg.rf.63c28862cc0cce70f243bd58d887b69b.txt  \n",
            "  inflating: destination_folder/data-2/train/labels/acne-412_jpeg.rf.dbb3259893ec5ad43a9dcf0266aae515.txt  \n",
            "  inflating: destination_folder/data-2/train/labels/acne-413_jpeg.rf.1daf1fe138da68a4f08a94d1cefb27b9.txt  \n",
            "  inflating: destination_folder/data-2/train/labels/acne-413_jpeg.rf.6ef8475c0f6bce6817a636453b783f48.txt  \n",
            "  inflating: destination_folder/data-2/train/labels/acne-413_jpeg.rf.ab61e2dbd0045c08b528d4bf76fb88ca.txt  \n",
            "  inflating: destination_folder/data-2/train/labels/acne-414_jpeg.rf.71827a785203417d1653d0483f51b99d.txt  \n",
            "  inflating: destination_folder/data-2/train/labels/acne-414_jpeg.rf.7a84ee4e9da558c2e0292a6c5398c211.txt  \n",
            "  inflating: destination_folder/data-2/train/labels/acne-414_jpeg.rf.88b35b1d8242020ac040642e54a44127.txt  \n",
            "  inflating: destination_folder/data-2/train/labels/acne-415_jpeg.rf.05c9e8697889c3a2f3485c7071c3750f.txt  \n",
            "  inflating: destination_folder/data-2/train/labels/acne-415_jpeg.rf.3cb0a68f9f428b1dd3d08c3b62a0ddb6.txt  \n",
            "  inflating: destination_folder/data-2/train/labels/acne-415_jpeg.rf.863c0b4959a108b7e4c536518ffea261.txt  \n",
            "  inflating: destination_folder/data-2/train/labels/acne-416_jpeg.rf.58165474fa5b984361eb851426671d1c.txt  \n",
            "  inflating: destination_folder/data-2/train/labels/acne-416_jpeg.rf.b4487ce29c14c65f263e00dd7d01c99f.txt  \n",
            "  inflating: destination_folder/data-2/train/labels/acne-416_jpeg.rf.d5ba37365bb40265d4702b5d70c716d1.txt  \n",
            "  inflating: destination_folder/data-2/train/labels/acne-418_jpeg.rf.8c366e283cf5fe69ce8ec5416983f1ba.txt  \n",
            "  inflating: destination_folder/data-2/train/labels/acne-418_jpeg.rf.9e0fb71ff475a35be628c485674844af.txt  \n",
            "  inflating: destination_folder/data-2/train/labels/acne-418_jpeg.rf.babdb73015373233846d99bc65d93a97.txt  \n",
            "  inflating: destination_folder/data-2/train/labels/acne-419_jpeg.rf.22e2e44393ce5049c1163fcb407ce2c0.txt  \n",
            "  inflating: destination_folder/data-2/train/labels/acne-419_jpeg.rf.6d16351fad44830bb43a170a6d11a152.txt  \n",
            "  inflating: destination_folder/data-2/train/labels/acne-419_jpeg.rf.8c086224dd459289ac6d873326f94c81.txt  \n",
            "  inflating: destination_folder/data-2/train/labels/acne-41_jpeg.rf.0a5af3c72cbda564daf5fa35de6f9c3d.txt  \n",
            "  inflating: destination_folder/data-2/train/labels/acne-41_jpeg.rf.fd599c1d4532e89b3aa4847093e7183b.txt  \n",
            "  inflating: destination_folder/data-2/train/labels/acne-41_jpeg.rf.fecc9ecbd5f31afb770a6dd1f2d22756.txt  \n",
            "  inflating: destination_folder/data-2/train/labels/acne-421_jpeg.rf.44ea91770555c25240d95db7a5a4c054.txt  \n",
            "  inflating: destination_folder/data-2/train/labels/acne-421_jpeg.rf.80cd99aebc7819b2fbd8da4997c305c8.txt  \n",
            "  inflating: destination_folder/data-2/train/labels/acne-421_jpeg.rf.fd897905e2eed90fa51a98955b6f1aef.txt  \n",
            "  inflating: destination_folder/data-2/train/labels/acne-423_jpeg.rf.12ace9ed601c657e03d589552513381f.txt  \n",
            "  inflating: destination_folder/data-2/train/labels/acne-423_jpeg.rf.3e941f6d0ee02a2ef7d2cce78ad7ad1d.txt  \n",
            "  inflating: destination_folder/data-2/train/labels/acne-423_jpeg.rf.4eb7b5df4ad75115bf9f463d8a74a675.txt  \n",
            "  inflating: destination_folder/data-2/train/labels/acne-425_jpeg.rf.2e6f60571679aa98c5e34bfde3524c08.txt  \n",
            "  inflating: destination_folder/data-2/train/labels/acne-425_jpeg.rf.a75481672426a9921005da4e3c94847e.txt  \n",
            "  inflating: destination_folder/data-2/train/labels/acne-425_jpeg.rf.aa082445f392b37d4cf968080fc451a3.txt  \n",
            "  inflating: destination_folder/data-2/train/labels/acne-426_jpeg.rf.32f7d6eb515c5f5ec7fe0e5bd07bfbc3.txt  \n",
            "  inflating: destination_folder/data-2/train/labels/acne-426_jpeg.rf.43beb99a3d900dd220cdddbeeb87adf1.txt  \n",
            "  inflating: destination_folder/data-2/train/labels/acne-426_jpeg.rf.c6cf511ebfc862bf24a087df1ac10bfd.txt  \n",
            "  inflating: destination_folder/data-2/train/labels/acne-427_jpeg.rf.2da783e959b0fa739da2747fcddad57b.txt  \n",
            "  inflating: destination_folder/data-2/train/labels/acne-427_jpeg.rf.33dfe8c24bba32680676375b9ab21758.txt  \n",
            "  inflating: destination_folder/data-2/train/labels/acne-427_jpeg.rf.f1aec5024b10be1da7f19132dc2f333d.txt  \n",
            "  inflating: destination_folder/data-2/train/labels/acne-428_jpeg.rf.1898c119b4a900ea95fc2e1f61f63633.txt  \n",
            "  inflating: destination_folder/data-2/train/labels/acne-428_jpeg.rf.6bcda835356ebdd45db844bedf582937.txt  \n",
            "  inflating: destination_folder/data-2/train/labels/acne-428_jpeg.rf.d5027004ee479bc1f0fa6f0ed953b254.txt  \n",
            "  inflating: destination_folder/data-2/train/labels/acne-429_jpeg.rf.07d3876e4906567c86e04d02a8fd5430.txt  \n",
            "  inflating: destination_folder/data-2/train/labels/acne-429_jpeg.rf.d90e994f0e6b570071ecb7ea7c1665a1.txt  \n",
            "  inflating: destination_folder/data-2/train/labels/acne-429_jpeg.rf.de91db9b06b86077a563bc6bfcac3bd9.txt  \n",
            "  inflating: destination_folder/data-2/train/labels/acne-431_jpeg.rf.55d9d8dba088d4ed41257ebd578f1cbd.txt  \n",
            "  inflating: destination_folder/data-2/train/labels/acne-431_jpeg.rf.730f40513562fc09b465662c3682c322.txt  \n",
            "  inflating: destination_folder/data-2/train/labels/acne-431_jpeg.rf.b6af8da016d65c420d4d43ccc19921f8.txt  \n",
            "  inflating: destination_folder/data-2/train/labels/acne-435_jpeg.rf.25b6a8e1d564205acd5a72693c2ae356.txt  \n",
            "  inflating: destination_folder/data-2/train/labels/acne-435_jpeg.rf.51be96ecdcc5a997a065b54e79992003.txt  \n",
            "  inflating: destination_folder/data-2/train/labels/acne-435_jpeg.rf.6949c57f3f1009e7126f92202408ad33.txt  \n",
            "  inflating: destination_folder/data-2/train/labels/acne-436_jpeg.rf.5081a57d9c48e608347afff4b798183d.txt  \n",
            "  inflating: destination_folder/data-2/train/labels/acne-436_jpeg.rf.da0a6c94fc959f7b274efd39aff66b86.txt  \n",
            "  inflating: destination_folder/data-2/train/labels/acne-436_jpeg.rf.ec3a421adc32e6d1ea2ebfecae40cad1.txt  \n",
            "  inflating: destination_folder/data-2/train/labels/acne-439_jpeg.rf.09e3f1d8ee5f2c8210105f6e0b1ee7ff.txt  \n",
            "  inflating: destination_folder/data-2/train/labels/acne-439_jpeg.rf.739b9e7b2550b900462320a9b086ce79.txt  \n",
            "  inflating: destination_folder/data-2/train/labels/acne-439_jpeg.rf.c007f11f2d18b68b3d07fbda36372e84.txt  \n",
            "  inflating: destination_folder/data-2/train/labels/acne-441_jpeg.rf.11e4ecfbce81071580a4c488c55359a1.txt  \n",
            "  inflating: destination_folder/data-2/train/labels/acne-441_jpeg.rf.7a3d88de2f38742e4e8d74e7dd913db4.txt  \n",
            "  inflating: destination_folder/data-2/train/labels/acne-441_jpeg.rf.c3cbb13cbe7d7d28976c0bf7ad8a4c9b.txt  \n",
            "  inflating: destination_folder/data-2/train/labels/acne-442_jpeg.rf.4039828c5825e56a2d965eff337a1c49.txt  \n",
            "  inflating: destination_folder/data-2/train/labels/acne-442_jpeg.rf.98fbd79029b796a6a769cb3d7cf6a2e4.txt  \n",
            "  inflating: destination_folder/data-2/train/labels/acne-442_jpeg.rf.aac25ee86644e0903055548cc75b7f5b.txt  \n",
            "  inflating: destination_folder/data-2/train/labels/acne-443_jpeg.rf.035df980e217425cf3c01c69db4e3ca8.txt  \n",
            "  inflating: destination_folder/data-2/train/labels/acne-443_jpeg.rf.66cc2f0992d43d40395e8abb53eea948.txt  \n",
            "  inflating: destination_folder/data-2/train/labels/acne-443_jpeg.rf.8c394880dafd8027d992dec008402504.txt  \n",
            "  inflating: destination_folder/data-2/train/labels/acne-444_jpeg.rf.17c710e4ae97046a1b75f237e00c4083.txt  \n",
            "  inflating: destination_folder/data-2/train/labels/acne-444_jpeg.rf.8a759876b570b709bc7a0c4d360cfbc4.txt  \n",
            "  inflating: destination_folder/data-2/train/labels/acne-444_jpeg.rf.e04558fc0798fa5a6dfa4a0c1f263089.txt  \n",
            "  inflating: destination_folder/data-2/train/labels/acne-445_jpeg.rf.b348a4570ab35b40f38fdcd815110cbf.txt  \n",
            "  inflating: destination_folder/data-2/train/labels/acne-445_jpeg.rf.c7521e2afbdc65191944790d4f54d698.txt  \n",
            "  inflating: destination_folder/data-2/train/labels/acne-445_jpeg.rf.ea1f44c1548bc922b805a8cf9baed35e.txt  \n",
            "  inflating: destination_folder/data-2/train/labels/acne-446_jpeg.rf.49502eeca55f583370ab57a6d2365e13.txt  \n",
            "  inflating: destination_folder/data-2/train/labels/acne-446_jpeg.rf.8e74b2de9ae5b231b4555619d7774e6f.txt  \n",
            "  inflating: destination_folder/data-2/train/labels/acne-446_jpeg.rf.aa12a3b18ac56343efb41e92c3963f39.txt  \n",
            "  inflating: destination_folder/data-2/train/labels/acne-447_jpeg.rf.40589a71ed621a0a4d23df9fbdedda3c.txt  \n",
            "  inflating: destination_folder/data-2/train/labels/acne-447_jpeg.rf.8d3240599fd26dadbdc57d31b9f2318c.txt  \n",
            "  inflating: destination_folder/data-2/train/labels/acne-447_jpeg.rf.b73cd997b638eae09b73b418d144f910.txt  \n",
            "  inflating: destination_folder/data-2/train/labels/acne-448_jpeg.rf.0c01fb516e04b00e61075c48afceff22.txt  \n",
            "  inflating: destination_folder/data-2/train/labels/acne-448_jpeg.rf.906408064849796e0760c3a1cf3f70f3.txt  \n",
            "  inflating: destination_folder/data-2/train/labels/acne-448_jpeg.rf.b021d1dcd56ff06db8c09d314cffc4f5.txt  \n",
            "  inflating: destination_folder/data-2/train/labels/acne-44_jpeg.rf.3a5b1e28ea39743db33f48b46ecb2e67.txt  \n",
            "  inflating: destination_folder/data-2/train/labels/acne-44_jpeg.rf.a09a06ca7108949a3862881a898eb952.txt  \n",
            "  inflating: destination_folder/data-2/train/labels/acne-44_jpeg.rf.ceace1986fb65ad6aea01b6f6f7359a1.txt  \n",
            "  inflating: destination_folder/data-2/train/labels/acne-450_jpeg.rf.4e11d9dcb7bf02787f418a02bdb00c35.txt  \n",
            "  inflating: destination_folder/data-2/train/labels/acne-450_jpeg.rf.c4287e4b16e7dc4edd06e51bfe683938.txt  \n",
            "  inflating: destination_folder/data-2/train/labels/acne-450_jpeg.rf.fec6ed23117910c8617e32059de6dad4.txt  \n",
            "  inflating: destination_folder/data-2/train/labels/acne-451_jpeg.rf.4ba336e1fa676e528d21aa03d76537dc.txt  \n",
            "  inflating: destination_folder/data-2/train/labels/acne-451_jpeg.rf.5d0cea48cdeab0d4da0e1bcc7be09971.txt  \n",
            "  inflating: destination_folder/data-2/train/labels/acne-451_jpeg.rf.ab9da0a0f97f4a3049d0e45b3cf1fff9.txt  \n",
            "  inflating: destination_folder/data-2/train/labels/acne-452_jpeg.rf.90a41e051b49c5770d82a466f442d4df.txt  \n",
            "  inflating: destination_folder/data-2/train/labels/acne-452_jpeg.rf.ac2086e4a2f90cb2cfb6c37f8cb51216.txt  \n",
            "  inflating: destination_folder/data-2/train/labels/acne-452_jpeg.rf.f6a32aff2fdc688217551d797a2afdf6.txt  \n",
            "  inflating: destination_folder/data-2/train/labels/acne-453_jpeg.rf.4421c608bb7ad4edc58efb540f096440.txt  \n",
            "  inflating: destination_folder/data-2/train/labels/acne-453_jpeg.rf.599343d9d86bdff8f2ef1b12c5f3eaac.txt  \n",
            "  inflating: destination_folder/data-2/train/labels/acne-453_jpeg.rf.ad700325bcaac6e54c001d0ed4afaa53.txt  \n",
            "  inflating: destination_folder/data-2/train/labels/acne-455_jpeg.rf.6304d18d7053e41b42da83d22d54643f.txt  \n",
            "  inflating: destination_folder/data-2/train/labels/acne-455_jpeg.rf.c700c1e657da094907796972c60b5d46.txt  \n",
            "  inflating: destination_folder/data-2/train/labels/acne-455_jpeg.rf.ed1d75be36cf2d6565bb23195140fe87.txt  \n",
            "  inflating: destination_folder/data-2/train/labels/acne-456_jpeg.rf.130dc43a9283d658f345f81c13d24430.txt  \n",
            "  inflating: destination_folder/data-2/train/labels/acne-456_jpeg.rf.6cc4a816dfceacefee97f07b0317e977.txt  \n",
            "  inflating: destination_folder/data-2/train/labels/acne-456_jpeg.rf.ebd4ad4ae2390d49bd8739f325fff0b4.txt  \n",
            "  inflating: destination_folder/data-2/train/labels/acne-458_jpeg.rf.1800044c39a5a7bf3ad6c8ee9e9621e9.txt  \n",
            "  inflating: destination_folder/data-2/train/labels/acne-458_jpeg.rf.4a519fee2deeac56b21862117fcd42e3.txt  \n",
            "  inflating: destination_folder/data-2/train/labels/acne-458_jpeg.rf.9dfc3f4adb87460f23c8a99cbf268976.txt  \n",
            "  inflating: destination_folder/data-2/train/labels/acne-48_jpeg.rf.3acdab521ecb10062309943f51c0ec77.txt  \n",
            "  inflating: destination_folder/data-2/train/labels/acne-48_jpeg.rf.4cc8afaf5b4f5e5328775578bf9ce06b.txt  \n",
            "  inflating: destination_folder/data-2/train/labels/acne-48_jpeg.rf.a9ded7072548a490e04644cb2735776d.txt  \n",
            "  inflating: destination_folder/data-2/train/labels/acne-4_jpeg.rf.0b2ca4b5f24346064e0f11154950d2d0.txt  \n",
            "  inflating: destination_folder/data-2/train/labels/acne-4_jpeg.rf.23d05b5c692fea21d34eaf769ffa107c.txt  \n",
            "  inflating: destination_folder/data-2/train/labels/acne-4_jpeg.rf.c438a57664dacd9816090039d5522ded.txt  \n",
            "  inflating: destination_folder/data-2/train/labels/acne-52_jpeg.rf.463ca01427ced8b75e8ad555f6562c85.txt  \n",
            "  inflating: destination_folder/data-2/train/labels/acne-52_jpeg.rf.4ba5bae739485794ad01d6ddb2713b31.txt  \n",
            "  inflating: destination_folder/data-2/train/labels/acne-52_jpeg.rf.9ff829362776e6e93a0380c5ae10dce0.txt  \n",
            "  inflating: destination_folder/data-2/train/labels/acne-53_jpeg.rf.309209351017f3c3f758c34a4f03066d.txt  \n",
            "  inflating: destination_folder/data-2/train/labels/acne-53_jpeg.rf.5e313e36b6a2cdb16036ecfca7bd8ce4.txt  \n",
            "  inflating: destination_folder/data-2/train/labels/acne-53_jpeg.rf.f17c4fe2332f052e5a1d6d2a12edf11b.txt  \n",
            "  inflating: destination_folder/data-2/train/labels/acne-54_jpeg.rf.28ba6467b58feb5da045ed75c4437955.txt  \n",
            "  inflating: destination_folder/data-2/train/labels/acne-54_jpeg.rf.f42808ceac9b99026647fefa6ad40097.txt  \n",
            "  inflating: destination_folder/data-2/train/labels/acne-54_jpeg.rf.fd50ab764a000a713e4213d603feba8a.txt  \n",
            "  inflating: destination_folder/data-2/train/labels/acne-55_jpeg.rf.52d59d05e0557577fad9f5ad4a556b2b.txt  \n",
            "  inflating: destination_folder/data-2/train/labels/acne-55_jpeg.rf.58295d18f65b714284f8b196289592fd.txt  \n",
            "  inflating: destination_folder/data-2/train/labels/acne-55_jpeg.rf.63cbfdb90a0985cf988c074a247c3a38.txt  \n",
            "  inflating: destination_folder/data-2/train/labels/acne-58_jpeg.rf.11b322ab2b7e405a9c44cfa85bb24791.txt  \n",
            "  inflating: destination_folder/data-2/train/labels/acne-58_jpeg.rf.28bfba3d8e2101849e282cb1272be2cf.txt  \n",
            "  inflating: destination_folder/data-2/train/labels/acne-58_jpeg.rf.6a41f6b35e99676c1aa71a5b4184a19a.txt  \n",
            "  inflating: destination_folder/data-2/train/labels/acne-61_jpeg.rf.28209abd219eaf358e32f3e41c368760.txt  \n",
            "  inflating: destination_folder/data-2/train/labels/acne-61_jpeg.rf.44491ade9b975ab6df0431537edb6408.txt  \n",
            "  inflating: destination_folder/data-2/train/labels/acne-61_jpeg.rf.b2138da2b11d668db560197ed1cf225f.txt  \n",
            "  inflating: destination_folder/data-2/train/labels/acne-62_jpeg.rf.476a0dea19e8c7fd1055e2d591005890.txt  \n",
            "  inflating: destination_folder/data-2/train/labels/acne-62_jpeg.rf.70605cf17da5ed58c8681dd07fdd767c.txt  \n",
            "  inflating: destination_folder/data-2/train/labels/acne-62_jpeg.rf.ac3f35c21b2fe5ca0ce4aff6bd348c3b.txt  \n",
            "  inflating: destination_folder/data-2/train/labels/acne-64_jpeg.rf.4186cc3c011874e31e65851c7adff713.txt  \n",
            "  inflating: destination_folder/data-2/train/labels/acne-64_jpeg.rf.860c354c1fe371bc92037186e7531cd0.txt  \n",
            "  inflating: destination_folder/data-2/train/labels/acne-64_jpeg.rf.e3d8ffbbbbde870a7ea825cce556e735.txt  \n",
            "  inflating: destination_folder/data-2/train/labels/acne-71_jpeg.rf.2e67c7ebe6aab3f851e49dd0fc355414.txt  \n",
            "  inflating: destination_folder/data-2/train/labels/acne-71_jpeg.rf.40804f9e8cb069ec301b171bc702fdba.txt  \n",
            "  inflating: destination_folder/data-2/train/labels/acne-71_jpeg.rf.b5adf33b1b35b9ac7d025477efa13bb6.txt  \n",
            "  inflating: destination_folder/data-2/train/labels/acne-73_jpeg.rf.2703f4793f2d5044e08486eff454f0d9.txt  \n",
            "  inflating: destination_folder/data-2/train/labels/acne-73_jpeg.rf.416e2a071e15c7c6c421e8f9c9cbf362.txt  \n",
            "  inflating: destination_folder/data-2/train/labels/acne-73_jpeg.rf.5e196b2c1898b81493da5ffa1cf84ce5.txt  \n",
            "  inflating: destination_folder/data-2/train/labels/acne-74_jpeg.rf.6315f5e2b1dc637f7a0a8cf42381279f.txt  \n",
            "  inflating: destination_folder/data-2/train/labels/acne-74_jpeg.rf.67eee3b2d55309b3ace1df0c70afd9e2.txt  \n",
            "  inflating: destination_folder/data-2/train/labels/acne-74_jpeg.rf.74c00cc08cb76e29f6036261a2dd7596.txt  \n",
            "  inflating: destination_folder/data-2/train/labels/acne-76_jpeg.rf.61a13e5af10b4ecf110131f40b6edf13.txt  \n",
            "  inflating: destination_folder/data-2/train/labels/acne-76_jpeg.rf.9aa5cc4527dc97bbba01df0d453cca88.txt  \n",
            "  inflating: destination_folder/data-2/train/labels/acne-76_jpeg.rf.f3f5114dc7c2c85ae4a52a8faa9165e2.txt  \n",
            "  inflating: destination_folder/data-2/train/labels/acne-79_jpeg.rf.3d89356c593f4a13796c84584f1ebae1.txt  \n",
            "  inflating: destination_folder/data-2/train/labels/acne-79_jpeg.rf.8b03b6494f67a31e4e066213e42f485f.txt  \n",
            "  inflating: destination_folder/data-2/train/labels/acne-79_jpeg.rf.f04fa53e2ca424f3df254c55036cd948.txt  \n",
            "  inflating: destination_folder/data-2/train/labels/acne-80_jpeg.rf.8aea20e2a9046ae3aa7056f9e36052c2.txt  \n",
            "  inflating: destination_folder/data-2/train/labels/acne-80_jpeg.rf.9c64dd4983987dfc7070ff0f35c2eddd.txt  \n",
            "  inflating: destination_folder/data-2/train/labels/acne-80_jpeg.rf.9f84fde7496074c93b503a03de510157.txt  \n",
            "  inflating: destination_folder/data-2/train/labels/acne-81_jpeg.rf.2dcb28c8853605958defd883944aa4cb.txt  \n",
            "  inflating: destination_folder/data-2/train/labels/acne-81_jpeg.rf.40b99f71bb9313696f8e5910e3a845b8.txt  \n",
            "  inflating: destination_folder/data-2/train/labels/acne-81_jpeg.rf.e47065c54dfdd4d5b60a6ae86c82b7eb.txt  \n",
            "  inflating: destination_folder/data-2/train/labels/acne-82_jpeg.rf.58aa128cb89c7440c298ad87ba810f87.txt  \n",
            "  inflating: destination_folder/data-2/train/labels/acne-82_jpeg.rf.74054dbecba236793043b917b0373df6.txt  \n",
            "  inflating: destination_folder/data-2/train/labels/acne-82_jpeg.rf.995da97ae453da87bbc95d23d6e576fa.txt  \n",
            "  inflating: destination_folder/data-2/train/labels/acne-85_jpeg.rf.4954c7005be728243d7e261bb54c7676.txt  \n",
            "  inflating: destination_folder/data-2/train/labels/acne-85_jpeg.rf.ad62617f33028383d5f54a9e96e18f02.txt  \n",
            "  inflating: destination_folder/data-2/train/labels/acne-85_jpeg.rf.f0191760e52e64aeff4a6fa4c3902954.txt  \n",
            "  inflating: destination_folder/data-2/train/labels/acne-87_jpeg.rf.2e7547d12cc90cc178e5a5f54a4361bc.txt  \n",
            "  inflating: destination_folder/data-2/train/labels/acne-87_jpeg.rf.697e9bbaee187193b6500d76711aec34.txt  \n",
            "  inflating: destination_folder/data-2/train/labels/acne-87_jpeg.rf.6b37c6168d53f3f4c81497908a042d88.txt  \n",
            "  inflating: destination_folder/data-2/train/labels/acne-88_jpeg.rf.8c883d0064c9b8b4c12b51f800f35667.txt  \n",
            "  inflating: destination_folder/data-2/train/labels/acne-88_jpeg.rf.a89b4136948caebee438f2859e2c84c1.txt  \n",
            "  inflating: destination_folder/data-2/train/labels/acne-88_jpeg.rf.e5c76005b5292fefddca0e753aee38d1.txt  \n",
            "  inflating: destination_folder/data-2/train/labels/acne-89_jpeg.rf.2d6e99b7acb34ac110655a0129c6f6ff.txt  \n",
            "  inflating: destination_folder/data-2/train/labels/acne-89_jpeg.rf.6b8f0ac57a6528a269583fad16ddb741.txt  \n",
            "  inflating: destination_folder/data-2/train/labels/acne-89_jpeg.rf.773df8d1638ee1ab24ec4f35e9ff7e8b.txt  \n",
            "  inflating: destination_folder/data-2/train/labels/acne-8_jpeg.rf.294cb3bcf0d442b8ad6de0145c53d5ea.txt  \n",
            "  inflating: destination_folder/data-2/train/labels/acne-8_jpeg.rf.3e2cc57abd0219b8c5c54c70125d2ff2.txt  \n",
            "  inflating: destination_folder/data-2/train/labels/acne-8_jpeg.rf.846909f42bc6ab7c2271191b9847b310.txt  \n",
            "  inflating: destination_folder/data-2/train/labels/acne-93_jpeg.rf.30dd3c2dd35c187c279f81197894c65e.txt  \n",
            "  inflating: destination_folder/data-2/train/labels/acne-93_jpeg.rf.8ed4d65382cf14da62dad08e938e414e.txt  \n",
            "  inflating: destination_folder/data-2/train/labels/acne-93_jpeg.rf.f003ed34f9cfc0452a68fd5bd66fa82a.txt  \n",
            "  inflating: destination_folder/data-2/train/labels/acne-94_jpeg.rf.026ec8c717a07c643717eece6f67175a.txt  \n",
            "  inflating: destination_folder/data-2/train/labels/acne-94_jpeg.rf.0e74b52e9ba5c22c361c725fc97cd7d5.txt  \n",
            "  inflating: destination_folder/data-2/train/labels/acne-94_jpeg.rf.c64f8962172091d296b522d43b8e2958.txt  \n",
            "  inflating: destination_folder/data-2/train/labels/acne-96_jpeg.rf.044346d9ee35ca61da01a4fb2f7ac9f9.txt  \n",
            "  inflating: destination_folder/data-2/train/labels/acne-96_jpeg.rf.f41b28fa92fa839f053bce9a3ec1637e.txt  \n",
            "  inflating: destination_folder/data-2/train/labels/acne-96_jpeg.rf.ff885bfd24e5fd4322f0189e98ade0ac.txt  \n",
            "  inflating: destination_folder/data-2/train/labels/acne-9_jpeg.rf.212c446a5902af3d2c20c95e80c2fe14.txt  \n",
            "  inflating: destination_folder/data-2/train/labels/acne-9_jpeg.rf.af8b7f78342611641a751fbacd838415.txt  \n",
            "  inflating: destination_folder/data-2/train/labels/acne-9_jpeg.rf.f4c2ca2d6212d212b29a6a9644d997db.txt  \n",
            "  inflating: destination_folder/data-2/train/labels.cache  \n",
            "   creating: destination_folder/data-2/valid/\n",
            "   creating: destination_folder/data-2/valid/images/\n",
            "  inflating: destination_folder/data-2/valid/images/acne-103_jpeg.rf.055236d16a0ad3642b8e9f44250a8999.jpg  \n",
            "  inflating: destination_folder/data-2/valid/images/acne-113_jpeg.rf.61f34253768c2c2d90f282009cc85cc1.jpg  \n",
            "  inflating: destination_folder/data-2/valid/images/acne-115_jpeg.rf.1c4b3100bd61c3be8b101094633f80e0.jpg  \n",
            "  inflating: destination_folder/data-2/valid/images/acne-11_jpeg.rf.7371382ec505972eb878bf9f4765b068.jpg  \n",
            "  inflating: destination_folder/data-2/valid/images/acne-121_jpg.rf.fda929f19402573163ffba906f3509ac.jpg  \n",
            "  inflating: destination_folder/data-2/valid/images/acne-131_jpg.rf.116f58db510524f94237b01e37f3a16f.jpg  \n",
            "  inflating: destination_folder/data-2/valid/images/acne-134_jpg.rf.417c82e7063a6160461440b5758b9993.jpg  \n",
            "  inflating: destination_folder/data-2/valid/images/acne-135_jpg.rf.042025713da3de0b88f75367822f27a0.jpg  \n",
            "  inflating: destination_folder/data-2/valid/images/acne-142_jpg.rf.9ffefe2ae2611433749ba9e3198ce75e.jpg  \n",
            "  inflating: destination_folder/data-2/valid/images/acne-145_jpg.rf.0a5ef2e06e9910a40d972dca98b41eef.jpg  \n",
            "  inflating: destination_folder/data-2/valid/images/acne-149_jpg.rf.03e8887e9c8de1c1f12b9d147d0dda17.jpg  \n",
            "  inflating: destination_folder/data-2/valid/images/acne-150_jpg.rf.ffcc725634ec3221b86686905e57e399.jpg  \n",
            "  inflating: destination_folder/data-2/valid/images/acne-162_jpg.rf.3e7a961c691682bef628b7784a4dd8e7.jpg  \n",
            "  inflating: destination_folder/data-2/valid/images/acne-204_jpg.rf.f33f3ded55db615da9540b2ad9e8ffc3.jpg  \n",
            "  inflating: destination_folder/data-2/valid/images/acne-205_jpg.rf.38aad590bdaf41afcf089fa97467ed1b.jpg  \n",
            "  inflating: destination_folder/data-2/valid/images/acne-20_jpeg.rf.d401578b451f1b68e8c29f5e4c7f4da1.jpg  \n",
            "  inflating: destination_folder/data-2/valid/images/acne-211_jpg.rf.897fd14484e689e5a579422312525be5.jpg  \n",
            "  inflating: destination_folder/data-2/valid/images/acne-216_jpg.rf.229a8cdefe7eae1fa2fdcd7f63036f7e.jpg  \n",
            "  inflating: destination_folder/data-2/valid/images/acne-217_jpg.rf.50e3f9c13b5969348eeef19d2c81e0ba.jpg  \n",
            "  inflating: destination_folder/data-2/valid/images/acne-21_jpeg.rf.1520100798d86a2e36b9727e4b6ac613.jpg  \n",
            "  inflating: destination_folder/data-2/valid/images/acne-220_jpg.rf.71b2cf21050700b1329f90be30ef4a66.jpg  \n",
            "  inflating: destination_folder/data-2/valid/images/acne-221_jpg.rf.b18cf9dc385b45ae4d38acec4b978e51.jpg  \n",
            "  inflating: destination_folder/data-2/valid/images/acne-223_jpg.rf.1b603f941d5d6b2ed05a4998dabd83d4.jpg  \n",
            "  inflating: destination_folder/data-2/valid/images/acne-224_jpg.rf.21be34e10c2c539505d35f293f36f36d.jpg  \n",
            "  inflating: destination_folder/data-2/valid/images/acne-22_jpeg.rf.ee4659bccc79f60a653fd52a8d6b4d51.jpg  \n",
            "  inflating: destination_folder/data-2/valid/images/acne-237_jpg.rf.e5f4f7eaa88499717b72c8d9d88fe289.jpg  \n",
            "  inflating: destination_folder/data-2/valid/images/acne-246_jpeg.rf.97766b7ea51380c13600bb25c9153fca.jpg  \n",
            "  inflating: destination_folder/data-2/valid/images/acne-257_jpeg.rf.895db52509dcf3274333c8a46af00f79.jpg  \n",
            "  inflating: destination_folder/data-2/valid/images/acne-267_jpeg.rf.f242964df9d8d9b39d5da13dea75712c.jpg  \n",
            "  inflating: destination_folder/data-2/valid/images/acne-284_jpeg.rf.3c07273f141120e450c0bc506bb64849.jpg  \n",
            "  inflating: destination_folder/data-2/valid/images/acne-291_jpeg.rf.edde17fb518b35f2edf62b9d529cfae0.jpg  \n",
            "  inflating: destination_folder/data-2/valid/images/acne-2_jpeg.rf.f4ec613e23dd372f3232c4cd68424250.jpg  \n",
            "  inflating: destination_folder/data-2/valid/images/acne-319_jpeg.rf.205637ac39511f1f1662a5aec69ebdfa.jpg  \n",
            "  inflating: destination_folder/data-2/valid/images/acne-320_jpeg.rf.36da7f5652215ec1bcc16a1d1dc6a420.jpg  \n",
            "  inflating: destination_folder/data-2/valid/images/acne-337_jpeg.rf.d8466fa49f89fb18f3bd152da42a71e5.jpg  \n",
            "  inflating: destination_folder/data-2/valid/images/acne-352_jpeg.rf.5ba32bd220a14e6891977c4037ff03a4.jpg  \n",
            "  inflating: destination_folder/data-2/valid/images/acne-35_jpeg.rf.873fbd0bd8c09cc8a0f9282f08ba1725.jpg  \n",
            "  inflating: destination_folder/data-2/valid/images/acne-363_jpeg.rf.0c5af213756448958464517dac64be5f.jpg  \n",
            "  inflating: destination_folder/data-2/valid/images/acne-373_jpeg.rf.fd792665746bf19c7deebc4d5a166e27.jpg  \n",
            "  inflating: destination_folder/data-2/valid/images/acne-380_jpeg.rf.4e088c1e0484bfd28ea8f858e2d66a71.jpg  \n",
            "  inflating: destination_folder/data-2/valid/images/acne-389_jpeg.rf.ab217fe1f261ae90befc002ba47247b3.jpg  \n",
            "  inflating: destination_folder/data-2/valid/images/acne-407_jpeg.rf.5604336c78d700604ccee404912ed721.jpg  \n",
            "  inflating: destination_folder/data-2/valid/images/acne-42_jpeg.rf.922e1ad2015d0b38de6725dfa26aa056.jpg  \n",
            "  inflating: destination_folder/data-2/valid/images/acne-430_jpeg.rf.060bf1e5e68a338a3c3257f61533d42d.jpg  \n",
            "  inflating: destination_folder/data-2/valid/images/acne-432_jpeg.rf.ce392bcdec15d58d1616de4db76bdbd4.jpg  \n",
            "  inflating: destination_folder/data-2/valid/images/acne-434_jpeg.rf.4ec27684c5e305eba0542a73f4e7e9e1.jpg  \n",
            "  inflating: destination_folder/data-2/valid/images/acne-438_jpeg.rf.d6c4182d7db62c91edd02d5eb0e91e3f.jpg  \n",
            "  inflating: destination_folder/data-2/valid/images/acne-454_jpeg.rf.18a13bf93c2bd2276ccc6d4e8d5889c3.jpg  \n",
            "  inflating: destination_folder/data-2/valid/images/acne-50_jpeg.rf.482e3ccd2dd52214470131746460f538.jpg  \n",
            "  inflating: destination_folder/data-2/valid/images/acne-56_jpeg.rf.967731b7fd228e7b4e8d996b656781cd.jpg  \n",
            "  inflating: destination_folder/data-2/valid/images/acne-6_jpeg.rf.80265b4fa3a385c07f2f9395e486faf9.jpg  \n",
            "  inflating: destination_folder/data-2/valid/images/acne-77_jpeg.rf.b5794c2f868e45624ee538ed0e36657b.jpg  \n",
            "  inflating: destination_folder/data-2/valid/images/acne-78_jpeg.rf.ca1dc8af44d36a59fe0b4964ebcca155.jpg  \n",
            "  inflating: destination_folder/data-2/valid/images/acne-83_jpeg.rf.5e49317764327db080c83ca841084390.jpg  \n",
            "  inflating: destination_folder/data-2/valid/images/acne-90_jpeg.rf.715856ba33d2f7c26294ceea4aaa611b.jpg  \n",
            "  inflating: destination_folder/data-2/valid/images/acne-98_jpeg.rf.e3ee418c4157dffff8102998f94e7257.jpg  \n",
            "   creating: destination_folder/data-2/valid/labels/\n",
            "  inflating: destination_folder/data-2/valid/labels/acne-103_jpeg.rf.055236d16a0ad3642b8e9f44250a8999.txt  \n",
            "  inflating: destination_folder/data-2/valid/labels/acne-113_jpeg.rf.61f34253768c2c2d90f282009cc85cc1.txt  \n",
            "  inflating: destination_folder/data-2/valid/labels/acne-115_jpeg.rf.1c4b3100bd61c3be8b101094633f80e0.txt  \n",
            "  inflating: destination_folder/data-2/valid/labels/acne-11_jpeg.rf.7371382ec505972eb878bf9f4765b068.txt  \n",
            "  inflating: destination_folder/data-2/valid/labels/acne-121_jpg.rf.fda929f19402573163ffba906f3509ac.txt  \n",
            "  inflating: destination_folder/data-2/valid/labels/acne-131_jpg.rf.116f58db510524f94237b01e37f3a16f.txt  \n",
            "  inflating: destination_folder/data-2/valid/labels/acne-134_jpg.rf.417c82e7063a6160461440b5758b9993.txt  \n",
            "  inflating: destination_folder/data-2/valid/labels/acne-135_jpg.rf.042025713da3de0b88f75367822f27a0.txt  \n",
            "  inflating: destination_folder/data-2/valid/labels/acne-142_jpg.rf.9ffefe2ae2611433749ba9e3198ce75e.txt  \n",
            "  inflating: destination_folder/data-2/valid/labels/acne-145_jpg.rf.0a5ef2e06e9910a40d972dca98b41eef.txt  \n",
            "  inflating: destination_folder/data-2/valid/labels/acne-149_jpg.rf.03e8887e9c8de1c1f12b9d147d0dda17.txt  \n",
            "  inflating: destination_folder/data-2/valid/labels/acne-150_jpg.rf.ffcc725634ec3221b86686905e57e399.txt  \n",
            "  inflating: destination_folder/data-2/valid/labels/acne-162_jpg.rf.3e7a961c691682bef628b7784a4dd8e7.txt  \n",
            "  inflating: destination_folder/data-2/valid/labels/acne-204_jpg.rf.f33f3ded55db615da9540b2ad9e8ffc3.txt  \n",
            "  inflating: destination_folder/data-2/valid/labels/acne-205_jpg.rf.38aad590bdaf41afcf089fa97467ed1b.txt  \n",
            "  inflating: destination_folder/data-2/valid/labels/acne-20_jpeg.rf.d401578b451f1b68e8c29f5e4c7f4da1.txt  \n",
            "  inflating: destination_folder/data-2/valid/labels/acne-211_jpg.rf.897fd14484e689e5a579422312525be5.txt  \n",
            "  inflating: destination_folder/data-2/valid/labels/acne-216_jpg.rf.229a8cdefe7eae1fa2fdcd7f63036f7e.txt  \n",
            "  inflating: destination_folder/data-2/valid/labels/acne-217_jpg.rf.50e3f9c13b5969348eeef19d2c81e0ba.txt  \n",
            "  inflating: destination_folder/data-2/valid/labels/acne-21_jpeg.rf.1520100798d86a2e36b9727e4b6ac613.txt  \n",
            "  inflating: destination_folder/data-2/valid/labels/acne-220_jpg.rf.71b2cf21050700b1329f90be30ef4a66.txt  \n",
            "  inflating: destination_folder/data-2/valid/labels/acne-221_jpg.rf.b18cf9dc385b45ae4d38acec4b978e51.txt  \n",
            "  inflating: destination_folder/data-2/valid/labels/acne-223_jpg.rf.1b603f941d5d6b2ed05a4998dabd83d4.txt  \n",
            "  inflating: destination_folder/data-2/valid/labels/acne-224_jpg.rf.21be34e10c2c539505d35f293f36f36d.txt  \n",
            "  inflating: destination_folder/data-2/valid/labels/acne-22_jpeg.rf.ee4659bccc79f60a653fd52a8d6b4d51.txt  \n",
            "  inflating: destination_folder/data-2/valid/labels/acne-237_jpg.rf.e5f4f7eaa88499717b72c8d9d88fe289.txt  \n",
            "  inflating: destination_folder/data-2/valid/labels/acne-246_jpeg.rf.97766b7ea51380c13600bb25c9153fca.txt  \n",
            "  inflating: destination_folder/data-2/valid/labels/acne-257_jpeg.rf.895db52509dcf3274333c8a46af00f79.txt  \n",
            "  inflating: destination_folder/data-2/valid/labels/acne-267_jpeg.rf.f242964df9d8d9b39d5da13dea75712c.txt  \n",
            "  inflating: destination_folder/data-2/valid/labels/acne-284_jpeg.rf.3c07273f141120e450c0bc506bb64849.txt  \n",
            "  inflating: destination_folder/data-2/valid/labels/acne-291_jpeg.rf.edde17fb518b35f2edf62b9d529cfae0.txt  \n",
            "  inflating: destination_folder/data-2/valid/labels/acne-2_jpeg.rf.f4ec613e23dd372f3232c4cd68424250.txt  \n",
            "  inflating: destination_folder/data-2/valid/labels/acne-319_jpeg.rf.205637ac39511f1f1662a5aec69ebdfa.txt  \n",
            "  inflating: destination_folder/data-2/valid/labels/acne-320_jpeg.rf.36da7f5652215ec1bcc16a1d1dc6a420.txt  \n",
            "  inflating: destination_folder/data-2/valid/labels/acne-337_jpeg.rf.d8466fa49f89fb18f3bd152da42a71e5.txt  \n",
            "  inflating: destination_folder/data-2/valid/labels/acne-352_jpeg.rf.5ba32bd220a14e6891977c4037ff03a4.txt  \n",
            "  inflating: destination_folder/data-2/valid/labels/acne-35_jpeg.rf.873fbd0bd8c09cc8a0f9282f08ba1725.txt  \n",
            "  inflating: destination_folder/data-2/valid/labels/acne-363_jpeg.rf.0c5af213756448958464517dac64be5f.txt  \n",
            "  inflating: destination_folder/data-2/valid/labels/acne-373_jpeg.rf.fd792665746bf19c7deebc4d5a166e27.txt  \n",
            "  inflating: destination_folder/data-2/valid/labels/acne-380_jpeg.rf.4e088c1e0484bfd28ea8f858e2d66a71.txt  \n",
            "  inflating: destination_folder/data-2/valid/labels/acne-389_jpeg.rf.ab217fe1f261ae90befc002ba47247b3.txt  \n",
            "  inflating: destination_folder/data-2/valid/labels/acne-407_jpeg.rf.5604336c78d700604ccee404912ed721.txt  \n",
            "  inflating: destination_folder/data-2/valid/labels/acne-42_jpeg.rf.922e1ad2015d0b38de6725dfa26aa056.txt  \n",
            "  inflating: destination_folder/data-2/valid/labels/acne-430_jpeg.rf.060bf1e5e68a338a3c3257f61533d42d.txt  \n",
            "  inflating: destination_folder/data-2/valid/labels/acne-432_jpeg.rf.ce392bcdec15d58d1616de4db76bdbd4.txt  \n",
            "  inflating: destination_folder/data-2/valid/labels/acne-434_jpeg.rf.4ec27684c5e305eba0542a73f4e7e9e1.txt  \n",
            "  inflating: destination_folder/data-2/valid/labels/acne-438_jpeg.rf.d6c4182d7db62c91edd02d5eb0e91e3f.txt  \n",
            "  inflating: destination_folder/data-2/valid/labels/acne-454_jpeg.rf.18a13bf93c2bd2276ccc6d4e8d5889c3.txt  \n",
            "  inflating: destination_folder/data-2/valid/labels/acne-50_jpeg.rf.482e3ccd2dd52214470131746460f538.txt  \n",
            "  inflating: destination_folder/data-2/valid/labels/acne-56_jpeg.rf.967731b7fd228e7b4e8d996b656781cd.txt  \n",
            "  inflating: destination_folder/data-2/valid/labels/acne-6_jpeg.rf.80265b4fa3a385c07f2f9395e486faf9.txt  \n",
            "  inflating: destination_folder/data-2/valid/labels/acne-77_jpeg.rf.b5794c2f868e45624ee538ed0e36657b.txt  \n",
            "  inflating: destination_folder/data-2/valid/labels/acne-78_jpeg.rf.ca1dc8af44d36a59fe0b4964ebcca155.txt  \n",
            "  inflating: destination_folder/data-2/valid/labels/acne-83_jpeg.rf.5e49317764327db080c83ca841084390.txt  \n",
            "  inflating: destination_folder/data-2/valid/labels/acne-90_jpeg.rf.715856ba33d2f7c26294ceea4aaa611b.txt  \n",
            "  inflating: destination_folder/data-2/valid/labels/acne-98_jpeg.rf.e3ee418c4157dffff8102998f94e7257.txt  \n",
            "  inflating: destination_folder/data-2/valid/labels.cache  \n"
          ]
        }
      ]
    },
    {
      "cell_type": "code",
      "source": [
        "results = model.train(\n",
        "    data='/content/data-2/data.yaml',\n",
        "    epochs=100,\n",
        "    imgsz=640,\n",
        "    batch=8\n",
        ")"
      ],
      "metadata": {
        "colab": {
          "base_uri": "https://localhost:8080/"
        },
        "id": "KssKbavbza0W",
        "outputId": "d7a84004-427b-4bc7-8f5d-3cf304b76d08"
      },
      "execution_count": 9,
      "outputs": [
        {
          "output_type": "stream",
          "name": "stdout",
          "text": [
            "Ultralytics 8.3.63 🚀 Python-3.11.11 torch-2.5.1+cu121 CUDA:0 (Tesla T4, 15102MiB)\n",
            "\u001b[34m\u001b[1mengine/trainer: \u001b[0mtask=detect, mode=train, model=yolov8n.pt, data=/content/data-2/data.yaml, epochs=100, time=None, patience=100, batch=8, imgsz=640, save=True, save_period=-1, cache=False, device=None, workers=8, project=None, name=train2, exist_ok=False, pretrained=True, optimizer=auto, verbose=True, seed=0, deterministic=True, single_cls=False, rect=False, cos_lr=False, close_mosaic=10, resume=False, amp=True, fraction=1.0, profile=False, freeze=None, multi_scale=False, overlap_mask=True, mask_ratio=4, dropout=0.0, val=True, split=val, save_json=False, save_hybrid=False, conf=None, iou=0.7, max_det=300, half=False, dnn=False, plots=True, source=None, vid_stride=1, stream_buffer=False, visualize=False, augment=False, agnostic_nms=False, classes=None, retina_masks=False, embed=None, show=False, save_frames=False, save_txt=False, save_conf=False, save_crop=False, show_labels=True, show_conf=True, show_boxes=True, line_width=None, format=torchscript, keras=False, optimize=False, int8=False, dynamic=False, simplify=True, opset=None, workspace=None, nms=False, lr0=0.01, lrf=0.01, momentum=0.937, weight_decay=0.0005, warmup_epochs=3.0, warmup_momentum=0.8, warmup_bias_lr=0.1, box=7.5, cls=0.5, dfl=1.5, pose=12.0, kobj=1.0, nbs=64, hsv_h=0.015, hsv_s=0.7, hsv_v=0.4, degrees=0.0, translate=0.1, scale=0.5, shear=0.0, perspective=0.0, flipud=0.0, fliplr=0.5, bgr=0.0, mosaic=1.0, mixup=0.0, copy_paste=0.0, copy_paste_mode=flip, auto_augment=randaugment, erasing=0.4, crop_fraction=1.0, cfg=None, tracker=botsort.yaml, save_dir=runs/detect/train2\n",
            "Downloading https://ultralytics.com/assets/Arial.ttf to '/root/.config/Ultralytics/Arial.ttf'...\n"
          ]
        },
        {
          "output_type": "stream",
          "name": "stderr",
          "text": [
            "100%|██████████| 755k/755k [00:00<00:00, 23.6MB/s]\n"
          ]
        },
        {
          "output_type": "stream",
          "name": "stdout",
          "text": [
            "Overriding model.yaml nc=80 with nc=1\n",
            "\n",
            "                   from  n    params  module                                       arguments                     \n",
            "  0                  -1  1       464  ultralytics.nn.modules.conv.Conv             [3, 16, 3, 2]                 \n",
            "  1                  -1  1      4672  ultralytics.nn.modules.conv.Conv             [16, 32, 3, 2]                \n",
            "  2                  -1  1      7360  ultralytics.nn.modules.block.C2f             [32, 32, 1, True]             \n",
            "  3                  -1  1     18560  ultralytics.nn.modules.conv.Conv             [32, 64, 3, 2]                \n",
            "  4                  -1  2     49664  ultralytics.nn.modules.block.C2f             [64, 64, 2, True]             \n",
            "  5                  -1  1     73984  ultralytics.nn.modules.conv.Conv             [64, 128, 3, 2]               \n",
            "  6                  -1  2    197632  ultralytics.nn.modules.block.C2f             [128, 128, 2, True]           \n",
            "  7                  -1  1    295424  ultralytics.nn.modules.conv.Conv             [128, 256, 3, 2]              \n",
            "  8                  -1  1    460288  ultralytics.nn.modules.block.C2f             [256, 256, 1, True]           \n",
            "  9                  -1  1    164608  ultralytics.nn.modules.block.SPPF            [256, 256, 5]                 \n",
            " 10                  -1  1         0  torch.nn.modules.upsampling.Upsample         [None, 2, 'nearest']          \n",
            " 11             [-1, 6]  1         0  ultralytics.nn.modules.conv.Concat           [1]                           \n",
            " 12                  -1  1    148224  ultralytics.nn.modules.block.C2f             [384, 128, 1]                 \n",
            " 13                  -1  1         0  torch.nn.modules.upsampling.Upsample         [None, 2, 'nearest']          \n",
            " 14             [-1, 4]  1         0  ultralytics.nn.modules.conv.Concat           [1]                           \n",
            " 15                  -1  1     37248  ultralytics.nn.modules.block.C2f             [192, 64, 1]                  \n",
            " 16                  -1  1     36992  ultralytics.nn.modules.conv.Conv             [64, 64, 3, 2]                \n",
            " 17            [-1, 12]  1         0  ultralytics.nn.modules.conv.Concat           [1]                           \n",
            " 18                  -1  1    123648  ultralytics.nn.modules.block.C2f             [192, 128, 1]                 \n",
            " 19                  -1  1    147712  ultralytics.nn.modules.conv.Conv             [128, 128, 3, 2]              \n",
            " 20             [-1, 9]  1         0  ultralytics.nn.modules.conv.Concat           [1]                           \n",
            " 21                  -1  1    493056  ultralytics.nn.modules.block.C2f             [384, 256, 1]                 \n",
            " 22        [15, 18, 21]  1    751507  ultralytics.nn.modules.head.Detect           [1, [64, 128, 256]]           \n",
            "Model summary: 225 layers, 3,011,043 parameters, 3,011,027 gradients, 8.2 GFLOPs\n",
            "\n",
            "Transferred 319/355 items from pretrained weights\n",
            "\u001b[34m\u001b[1mTensorBoard: \u001b[0mStart with 'tensorboard --logdir runs/detect/train2', view at http://localhost:6006/\n",
            "Freezing layer 'model.22.dfl.conv.weight'\n",
            "\u001b[34m\u001b[1mAMP: \u001b[0mrunning Automatic Mixed Precision (AMP) checks...\n",
            "Downloading https://github.com/ultralytics/assets/releases/download/v8.3.0/yolo11n.pt to 'yolo11n.pt'...\n"
          ]
        },
        {
          "output_type": "stream",
          "name": "stderr",
          "text": [
            "100%|██████████| 5.35M/5.35M [00:00<00:00, 94.1MB/s]\n"
          ]
        },
        {
          "output_type": "stream",
          "name": "stdout",
          "text": [
            "\u001b[34m\u001b[1mAMP: \u001b[0mchecks passed ✅\n"
          ]
        },
        {
          "output_type": "stream",
          "name": "stderr",
          "text": [
            "\u001b[34m\u001b[1mtrain: \u001b[0mScanning /content/data-2/train/labels... 823 images, 12 backgrounds, 0 corrupt: 100%|██████████| 823/823 [00:00<00:00, 2297.56it/s]"
          ]
        },
        {
          "output_type": "stream",
          "name": "stdout",
          "text": [
            "\u001b[34m\u001b[1mtrain: \u001b[0mNew cache created: /content/data-2/train/labels.cache\n"
          ]
        },
        {
          "output_type": "stream",
          "name": "stderr",
          "text": [
            "\n"
          ]
        },
        {
          "output_type": "stream",
          "name": "stdout",
          "text": [
            "\u001b[34m\u001b[1malbumentations: \u001b[0mBlur(p=0.01, blur_limit=(3, 7)), MedianBlur(p=0.01, blur_limit=(3, 7)), ToGray(p=0.01, num_output_channels=3, method='weighted_average'), CLAHE(p=0.01, clip_limit=(1.0, 4.0), tile_grid_size=(8, 8))\n"
          ]
        },
        {
          "output_type": "stream",
          "name": "stderr",
          "text": [
            "/usr/local/lib/python3.11/dist-packages/albumentations/__init__.py:24: UserWarning: A new version of Albumentations is available: 2.0.0 (you have 1.4.20). Upgrade using: pip install -U albumentations. To disable automatic update checks, set the environment variable NO_ALBUMENTATIONS_UPDATE to 1.\n",
            "  check_for_updates()\n",
            "\u001b[34m\u001b[1mval: \u001b[0mScanning /content/data-2/valid/labels... 56 images, 0 backgrounds, 0 corrupt: 100%|██████████| 56/56 [00:00<00:00, 2043.83it/s]"
          ]
        },
        {
          "output_type": "stream",
          "name": "stdout",
          "text": [
            "\u001b[34m\u001b[1mval: \u001b[0mNew cache created: /content/data-2/valid/labels.cache\n"
          ]
        },
        {
          "output_type": "stream",
          "name": "stderr",
          "text": [
            "\n"
          ]
        },
        {
          "output_type": "stream",
          "name": "stdout",
          "text": [
            "Plotting labels to runs/detect/train2/labels.jpg... \n",
            "\u001b[34m\u001b[1moptimizer:\u001b[0m 'optimizer=auto' found, ignoring 'lr0=0.01' and 'momentum=0.937' and determining best 'optimizer', 'lr0' and 'momentum' automatically... \n",
            "\u001b[34m\u001b[1moptimizer:\u001b[0m AdamW(lr=0.002, momentum=0.9) with parameter groups 57 weight(decay=0.0), 64 weight(decay=0.0005), 63 bias(decay=0.0)\n",
            "\u001b[34m\u001b[1mTensorBoard: \u001b[0mmodel graph visualization added ✅\n",
            "Image sizes 640 train, 640 val\n",
            "Using 2 dataloader workers\n",
            "Logging results to \u001b[1mruns/detect/train2\u001b[0m\n",
            "Starting training for 100 epochs...\n",
            "\n",
            "      Epoch    GPU_mem   box_loss   cls_loss   dfl_loss  Instances       Size\n"
          ]
        },
        {
          "output_type": "stream",
          "name": "stderr",
          "text": [
            "      1/100       1.5G       2.26      2.334      1.488        130        640: 100%|██████████| 103/103 [00:23<00:00,  4.35it/s]\n",
            "                 Class     Images  Instances      Box(P          R      mAP50  mAP50-95): 100%|██████████| 4/4 [00:01<00:00,  2.08it/s]"
          ]
        },
        {
          "output_type": "stream",
          "name": "stdout",
          "text": [
            "                   all         56        643      0.197       0.28      0.122     0.0477\n"
          ]
        },
        {
          "output_type": "stream",
          "name": "stderr",
          "text": [
            "\n"
          ]
        },
        {
          "output_type": "stream",
          "name": "stdout",
          "text": [
            "\n",
            "      Epoch    GPU_mem   box_loss   cls_loss   dfl_loss  Instances       Size\n"
          ]
        },
        {
          "output_type": "stream",
          "name": "stderr",
          "text": [
            "      2/100      1.59G      2.034      1.827      1.386        108        640: 100%|██████████| 103/103 [00:19<00:00,  5.33it/s]\n",
            "                 Class     Images  Instances      Box(P          R      mAP50  mAP50-95): 100%|██████████| 4/4 [00:00<00:00,  4.88it/s]"
          ]
        },
        {
          "output_type": "stream",
          "name": "stdout",
          "text": [
            "                   all         56        643      0.308      0.305      0.236     0.0855\n"
          ]
        },
        {
          "output_type": "stream",
          "name": "stderr",
          "text": [
            "\n"
          ]
        },
        {
          "output_type": "stream",
          "name": "stdout",
          "text": [
            "\n",
            "      Epoch    GPU_mem   box_loss   cls_loss   dfl_loss  Instances       Size\n"
          ]
        },
        {
          "output_type": "stream",
          "name": "stderr",
          "text": [
            "      3/100      1.47G      2.042      1.774      1.375         85        640: 100%|██████████| 103/103 [00:19<00:00,  5.31it/s]\n",
            "                 Class     Images  Instances      Box(P          R      mAP50  mAP50-95): 100%|██████████| 4/4 [00:00<00:00,  4.70it/s]"
          ]
        },
        {
          "output_type": "stream",
          "name": "stdout",
          "text": [
            "                   all         56        643      0.412      0.446      0.386      0.144\n"
          ]
        },
        {
          "output_type": "stream",
          "name": "stderr",
          "text": [
            "\n"
          ]
        },
        {
          "output_type": "stream",
          "name": "stdout",
          "text": [
            "\n",
            "      Epoch    GPU_mem   box_loss   cls_loss   dfl_loss  Instances       Size\n"
          ]
        },
        {
          "output_type": "stream",
          "name": "stderr",
          "text": [
            "      4/100      1.64G      2.014      1.721      1.358        129        640: 100%|██████████| 103/103 [00:18<00:00,  5.53it/s]\n",
            "                 Class     Images  Instances      Box(P          R      mAP50  mAP50-95): 100%|██████████| 4/4 [00:00<00:00,  8.20it/s]"
          ]
        },
        {
          "output_type": "stream",
          "name": "stdout",
          "text": [
            "                   all         56        643      0.457      0.467      0.454      0.193\n"
          ]
        },
        {
          "output_type": "stream",
          "name": "stderr",
          "text": [
            "\n"
          ]
        },
        {
          "output_type": "stream",
          "name": "stdout",
          "text": [
            "\n",
            "      Epoch    GPU_mem   box_loss   cls_loss   dfl_loss  Instances       Size\n"
          ]
        },
        {
          "output_type": "stream",
          "name": "stderr",
          "text": [
            "      5/100      1.36G      1.962      1.665      1.333        141        640: 100%|██████████| 103/103 [00:18<00:00,  5.46it/s]\n",
            "                 Class     Images  Instances      Box(P          R      mAP50  mAP50-95): 100%|██████████| 4/4 [00:00<00:00,  8.34it/s]\n"
          ]
        },
        {
          "output_type": "stream",
          "name": "stdout",
          "text": [
            "                   all         56        643      0.542      0.477      0.512      0.215\n",
            "\n",
            "      Epoch    GPU_mem   box_loss   cls_loss   dfl_loss  Instances       Size\n"
          ]
        },
        {
          "output_type": "stream",
          "name": "stderr",
          "text": [
            "      6/100      1.52G      1.932      1.628      1.307        136        640: 100%|██████████| 103/103 [00:18<00:00,  5.48it/s]\n",
            "                 Class     Images  Instances      Box(P          R      mAP50  mAP50-95): 100%|██████████| 4/4 [00:00<00:00,  8.86it/s]\n"
          ]
        },
        {
          "output_type": "stream",
          "name": "stdout",
          "text": [
            "                   all         56        643      0.525      0.516       0.51      0.215\n",
            "\n",
            "      Epoch    GPU_mem   box_loss   cls_loss   dfl_loss  Instances       Size\n"
          ]
        },
        {
          "output_type": "stream",
          "name": "stderr",
          "text": [
            "      7/100      1.52G       1.91      1.618      1.295        168        640: 100%|██████████| 103/103 [00:17<00:00,  5.77it/s]\n",
            "                 Class     Images  Instances      Box(P          R      mAP50  mAP50-95): 100%|██████████| 4/4 [00:00<00:00,  7.72it/s]"
          ]
        },
        {
          "output_type": "stream",
          "name": "stdout",
          "text": [
            "                   all         56        643      0.533      0.569      0.555      0.238\n"
          ]
        },
        {
          "output_type": "stream",
          "name": "stderr",
          "text": [
            "\n"
          ]
        },
        {
          "output_type": "stream",
          "name": "stdout",
          "text": [
            "\n",
            "      Epoch    GPU_mem   box_loss   cls_loss   dfl_loss  Instances       Size\n"
          ]
        },
        {
          "output_type": "stream",
          "name": "stderr",
          "text": [
            "      8/100      1.54G      1.928      1.604      1.322        141        640: 100%|██████████| 103/103 [00:19<00:00,  5.39it/s]\n",
            "                 Class     Images  Instances      Box(P          R      mAP50  mAP50-95): 100%|██████████| 4/4 [00:00<00:00,  4.69it/s]"
          ]
        },
        {
          "output_type": "stream",
          "name": "stdout",
          "text": [
            "                   all         56        643      0.489      0.501      0.491      0.217\n"
          ]
        },
        {
          "output_type": "stream",
          "name": "stderr",
          "text": [
            "\n"
          ]
        },
        {
          "output_type": "stream",
          "name": "stdout",
          "text": [
            "\n",
            "      Epoch    GPU_mem   box_loss   cls_loss   dfl_loss  Instances       Size\n"
          ]
        },
        {
          "output_type": "stream",
          "name": "stderr",
          "text": [
            "      9/100      1.38G      1.934      1.592      1.312         61        640: 100%|██████████| 103/103 [00:18<00:00,  5.45it/s]\n",
            "                 Class     Images  Instances      Box(P          R      mAP50  mAP50-95): 100%|██████████| 4/4 [00:00<00:00,  7.90it/s]"
          ]
        },
        {
          "output_type": "stream",
          "name": "stdout",
          "text": [
            "                   all         56        643      0.543      0.597      0.581      0.251\n"
          ]
        },
        {
          "output_type": "stream",
          "name": "stderr",
          "text": [
            "\n"
          ]
        },
        {
          "output_type": "stream",
          "name": "stdout",
          "text": [
            "\n",
            "      Epoch    GPU_mem   box_loss   cls_loss   dfl_loss  Instances       Size\n"
          ]
        },
        {
          "output_type": "stream",
          "name": "stderr",
          "text": [
            "     10/100      1.59G      1.894      1.594      1.289         81        640: 100%|██████████| 103/103 [00:18<00:00,  5.58it/s]\n",
            "                 Class     Images  Instances      Box(P          R      mAP50  mAP50-95): 100%|██████████| 4/4 [00:00<00:00,  5.42it/s]"
          ]
        },
        {
          "output_type": "stream",
          "name": "stdout",
          "text": [
            "                   all         56        643      0.521      0.561      0.558       0.24\n"
          ]
        },
        {
          "output_type": "stream",
          "name": "stderr",
          "text": [
            "\n"
          ]
        },
        {
          "output_type": "stream",
          "name": "stdout",
          "text": [
            "\n",
            "      Epoch    GPU_mem   box_loss   cls_loss   dfl_loss  Instances       Size\n"
          ]
        },
        {
          "output_type": "stream",
          "name": "stderr",
          "text": [
            "     11/100      1.68G      1.904      1.588       1.31        180        640: 100%|██████████| 103/103 [00:20<00:00,  5.01it/s]\n",
            "                 Class     Images  Instances      Box(P          R      mAP50  mAP50-95): 100%|██████████| 4/4 [00:00<00:00,  7.87it/s]"
          ]
        },
        {
          "output_type": "stream",
          "name": "stdout",
          "text": [
            "                   all         56        643      0.452      0.491      0.461      0.192\n"
          ]
        },
        {
          "output_type": "stream",
          "name": "stderr",
          "text": [
            "\n"
          ]
        },
        {
          "output_type": "stream",
          "name": "stdout",
          "text": [
            "\n",
            "      Epoch    GPU_mem   box_loss   cls_loss   dfl_loss  Instances       Size\n"
          ]
        },
        {
          "output_type": "stream",
          "name": "stderr",
          "text": [
            "     12/100      1.42G      1.897      1.532      1.289        148        640: 100%|██████████| 103/103 [00:18<00:00,  5.60it/s]\n",
            "                 Class     Images  Instances      Box(P          R      mAP50  mAP50-95): 100%|██████████| 4/4 [00:00<00:00,  5.01it/s]"
          ]
        },
        {
          "output_type": "stream",
          "name": "stdout",
          "text": [
            "                   all         56        643       0.53       0.56      0.576      0.254\n"
          ]
        },
        {
          "output_type": "stream",
          "name": "stderr",
          "text": [
            "\n"
          ]
        },
        {
          "output_type": "stream",
          "name": "stdout",
          "text": [
            "\n",
            "      Epoch    GPU_mem   box_loss   cls_loss   dfl_loss  Instances       Size\n"
          ]
        },
        {
          "output_type": "stream",
          "name": "stderr",
          "text": [
            "     13/100      1.36G      1.881      1.563      1.294         89        640: 100%|██████████| 103/103 [00:19<00:00,  5.26it/s]\n",
            "                 Class     Images  Instances      Box(P          R      mAP50  mAP50-95): 100%|██████████| 4/4 [00:00<00:00,  4.32it/s]"
          ]
        },
        {
          "output_type": "stream",
          "name": "stdout",
          "text": [
            "                   all         56        643      0.513      0.527       0.53      0.241\n"
          ]
        },
        {
          "output_type": "stream",
          "name": "stderr",
          "text": [
            "\n"
          ]
        },
        {
          "output_type": "stream",
          "name": "stdout",
          "text": [
            "\n",
            "      Epoch    GPU_mem   box_loss   cls_loss   dfl_loss  Instances       Size\n"
          ]
        },
        {
          "output_type": "stream",
          "name": "stderr",
          "text": [
            "     14/100      1.35G       1.87      1.509      1.272        110        640: 100%|██████████| 103/103 [00:18<00:00,  5.55it/s]\n",
            "                 Class     Images  Instances      Box(P          R      mAP50  mAP50-95): 100%|██████████| 4/4 [00:00<00:00,  8.52it/s]\n"
          ]
        },
        {
          "output_type": "stream",
          "name": "stdout",
          "text": [
            "                   all         56        643      0.508       0.54      0.517      0.217\n",
            "\n",
            "      Epoch    GPU_mem   box_loss   cls_loss   dfl_loss  Instances       Size\n"
          ]
        },
        {
          "output_type": "stream",
          "name": "stderr",
          "text": [
            "     15/100       1.6G      1.902       1.57      1.308        118        640: 100%|██████████| 103/103 [00:18<00:00,  5.64it/s]\n",
            "                 Class     Images  Instances      Box(P          R      mAP50  mAP50-95): 100%|██████████| 4/4 [00:00<00:00,  7.52it/s]\n"
          ]
        },
        {
          "output_type": "stream",
          "name": "stdout",
          "text": [
            "                   all         56        643      0.529      0.538      0.545      0.238\n",
            "\n",
            "      Epoch    GPU_mem   box_loss   cls_loss   dfl_loss  Instances       Size\n"
          ]
        },
        {
          "output_type": "stream",
          "name": "stderr",
          "text": [
            "     16/100      1.47G      1.872      1.511      1.277        154        640: 100%|██████████| 103/103 [00:18<00:00,  5.61it/s]\n",
            "                 Class     Images  Instances      Box(P          R      mAP50  mAP50-95): 100%|██████████| 4/4 [00:00<00:00,  8.54it/s]"
          ]
        },
        {
          "output_type": "stream",
          "name": "stdout",
          "text": [
            "                   all         56        643      0.566      0.555      0.561      0.241\n"
          ]
        },
        {
          "output_type": "stream",
          "name": "stderr",
          "text": [
            "\n"
          ]
        },
        {
          "output_type": "stream",
          "name": "stdout",
          "text": [
            "\n",
            "      Epoch    GPU_mem   box_loss   cls_loss   dfl_loss  Instances       Size\n"
          ]
        },
        {
          "output_type": "stream",
          "name": "stderr",
          "text": [
            "     17/100      1.56G      1.883      1.502      1.281        142        640: 100%|██████████| 103/103 [00:18<00:00,  5.55it/s]\n",
            "                 Class     Images  Instances      Box(P          R      mAP50  mAP50-95): 100%|██████████| 4/4 [00:00<00:00,  8.55it/s]\n"
          ]
        },
        {
          "output_type": "stream",
          "name": "stdout",
          "text": [
            "                   all         56        643      0.576      0.529      0.572      0.266\n",
            "\n",
            "      Epoch    GPU_mem   box_loss   cls_loss   dfl_loss  Instances       Size\n"
          ]
        },
        {
          "output_type": "stream",
          "name": "stderr",
          "text": [
            "     18/100      1.55G      1.845      1.463      1.266        110        640: 100%|██████████| 103/103 [00:18<00:00,  5.55it/s]\n",
            "                 Class     Images  Instances      Box(P          R      mAP50  mAP50-95): 100%|██████████| 4/4 [00:00<00:00,  5.75it/s]"
          ]
        },
        {
          "output_type": "stream",
          "name": "stdout",
          "text": [
            "                   all         56        643      0.551      0.543      0.559      0.243\n"
          ]
        },
        {
          "output_type": "stream",
          "name": "stderr",
          "text": [
            "\n"
          ]
        },
        {
          "output_type": "stream",
          "name": "stdout",
          "text": [
            "\n",
            "      Epoch    GPU_mem   box_loss   cls_loss   dfl_loss  Instances       Size\n"
          ]
        },
        {
          "output_type": "stream",
          "name": "stderr",
          "text": [
            "     19/100      1.43G      1.854      1.494      1.268        106        640: 100%|██████████| 103/103 [00:19<00:00,  5.18it/s]\n",
            "                 Class     Images  Instances      Box(P          R      mAP50  mAP50-95): 100%|██████████| 4/4 [00:00<00:00,  4.91it/s]"
          ]
        },
        {
          "output_type": "stream",
          "name": "stdout",
          "text": [
            "                   all         56        643      0.504      0.561      0.522      0.221\n"
          ]
        },
        {
          "output_type": "stream",
          "name": "stderr",
          "text": [
            "\n"
          ]
        },
        {
          "output_type": "stream",
          "name": "stdout",
          "text": [
            "\n",
            "      Epoch    GPU_mem   box_loss   cls_loss   dfl_loss  Instances       Size\n"
          ]
        },
        {
          "output_type": "stream",
          "name": "stderr",
          "text": [
            "     20/100      1.42G      1.842      1.497      1.266        131        640: 100%|██████████| 103/103 [00:20<00:00,  4.98it/s]\n",
            "                 Class     Images  Instances      Box(P          R      mAP50  mAP50-95): 100%|██████████| 4/4 [00:00<00:00,  8.46it/s]"
          ]
        },
        {
          "output_type": "stream",
          "name": "stdout",
          "text": [
            "                   all         56        643      0.475      0.459      0.454      0.201\n"
          ]
        },
        {
          "output_type": "stream",
          "name": "stderr",
          "text": [
            "\n"
          ]
        },
        {
          "output_type": "stream",
          "name": "stdout",
          "text": [
            "\n",
            "      Epoch    GPU_mem   box_loss   cls_loss   dfl_loss  Instances       Size\n"
          ]
        },
        {
          "output_type": "stream",
          "name": "stderr",
          "text": [
            "     21/100      1.52G      1.862      1.452      1.272        114        640: 100%|██████████| 103/103 [00:18<00:00,  5.60it/s]\n",
            "                 Class     Images  Instances      Box(P          R      mAP50  mAP50-95): 100%|██████████| 4/4 [00:00<00:00,  8.19it/s]\n"
          ]
        },
        {
          "output_type": "stream",
          "name": "stdout",
          "text": [
            "                   all         56        643      0.573      0.586      0.603      0.268\n",
            "\n",
            "      Epoch    GPU_mem   box_loss   cls_loss   dfl_loss  Instances       Size\n"
          ]
        },
        {
          "output_type": "stream",
          "name": "stderr",
          "text": [
            "     22/100       1.4G      1.842      1.461      1.275        172        640: 100%|██████████| 103/103 [00:18<00:00,  5.56it/s]\n",
            "                 Class     Images  Instances      Box(P          R      mAP50  mAP50-95): 100%|██████████| 4/4 [00:00<00:00,  7.35it/s]"
          ]
        },
        {
          "output_type": "stream",
          "name": "stdout",
          "text": [
            "                   all         56        643      0.574      0.548      0.573      0.246\n"
          ]
        },
        {
          "output_type": "stream",
          "name": "stderr",
          "text": [
            "\n"
          ]
        },
        {
          "output_type": "stream",
          "name": "stdout",
          "text": [
            "\n",
            "      Epoch    GPU_mem   box_loss   cls_loss   dfl_loss  Instances       Size\n"
          ]
        },
        {
          "output_type": "stream",
          "name": "stderr",
          "text": [
            "     23/100      1.47G      1.842      1.454      1.253        110        640: 100%|██████████| 103/103 [00:17<00:00,  5.76it/s]\n",
            "                 Class     Images  Instances      Box(P          R      mAP50  mAP50-95): 100%|██████████| 4/4 [00:00<00:00,  7.96it/s]"
          ]
        },
        {
          "output_type": "stream",
          "name": "stdout",
          "text": [
            "                   all         56        643      0.529      0.575      0.562      0.257\n"
          ]
        },
        {
          "output_type": "stream",
          "name": "stderr",
          "text": [
            "\n"
          ]
        },
        {
          "output_type": "stream",
          "name": "stdout",
          "text": [
            "\n",
            "      Epoch    GPU_mem   box_loss   cls_loss   dfl_loss  Instances       Size\n"
          ]
        },
        {
          "output_type": "stream",
          "name": "stderr",
          "text": [
            "     24/100      1.59G      1.806      1.439      1.255         64        640: 100%|██████████| 103/103 [00:18<00:00,  5.55it/s]\n",
            "                 Class     Images  Instances      Box(P          R      mAP50  mAP50-95): 100%|██████████| 4/4 [00:00<00:00,  5.17it/s]"
          ]
        },
        {
          "output_type": "stream",
          "name": "stdout",
          "text": [
            "                   all         56        643      0.594       0.55      0.579      0.252\n"
          ]
        },
        {
          "output_type": "stream",
          "name": "stderr",
          "text": [
            "\n"
          ]
        },
        {
          "output_type": "stream",
          "name": "stdout",
          "text": [
            "\n",
            "      Epoch    GPU_mem   box_loss   cls_loss   dfl_loss  Instances       Size\n"
          ]
        },
        {
          "output_type": "stream",
          "name": "stderr",
          "text": [
            "     25/100      1.53G      1.817      1.412      1.253         96        640: 100%|██████████| 103/103 [00:19<00:00,  5.42it/s]\n",
            "                 Class     Images  Instances      Box(P          R      mAP50  mAP50-95): 100%|██████████| 4/4 [00:00<00:00,  6.39it/s]"
          ]
        },
        {
          "output_type": "stream",
          "name": "stdout",
          "text": [
            "                   all         56        643      0.556      0.579      0.563      0.251\n"
          ]
        },
        {
          "output_type": "stream",
          "name": "stderr",
          "text": [
            "\n"
          ]
        },
        {
          "output_type": "stream",
          "name": "stdout",
          "text": [
            "\n",
            "      Epoch    GPU_mem   box_loss   cls_loss   dfl_loss  Instances       Size\n"
          ]
        },
        {
          "output_type": "stream",
          "name": "stderr",
          "text": [
            "     26/100      1.45G      1.808       1.42      1.253         94        640: 100%|██████████| 103/103 [00:18<00:00,  5.52it/s]\n",
            "                 Class     Images  Instances      Box(P          R      mAP50  mAP50-95): 100%|██████████| 4/4 [00:00<00:00,  8.24it/s]\n"
          ]
        },
        {
          "output_type": "stream",
          "name": "stdout",
          "text": [
            "                   all         56        643      0.539      0.541      0.569      0.262\n",
            "\n",
            "      Epoch    GPU_mem   box_loss   cls_loss   dfl_loss  Instances       Size\n"
          ]
        },
        {
          "output_type": "stream",
          "name": "stderr",
          "text": [
            "     27/100      1.57G      1.807      1.404      1.257        101        640: 100%|██████████| 103/103 [00:18<00:00,  5.58it/s]\n",
            "                 Class     Images  Instances      Box(P          R      mAP50  mAP50-95): 100%|██████████| 4/4 [00:00<00:00,  8.31it/s]\n"
          ]
        },
        {
          "output_type": "stream",
          "name": "stdout",
          "text": [
            "                   all         56        643      0.574      0.615       0.61      0.277\n",
            "\n",
            "      Epoch    GPU_mem   box_loss   cls_loss   dfl_loss  Instances       Size\n"
          ]
        },
        {
          "output_type": "stream",
          "name": "stderr",
          "text": [
            "     28/100      1.63G      1.801      1.395       1.24        217        640: 100%|██████████| 103/103 [00:18<00:00,  5.56it/s]\n",
            "                 Class     Images  Instances      Box(P          R      mAP50  mAP50-95): 100%|██████████| 4/4 [00:00<00:00,  8.17it/s]"
          ]
        },
        {
          "output_type": "stream",
          "name": "stdout",
          "text": [
            "                   all         56        643      0.525      0.566      0.539      0.221\n"
          ]
        },
        {
          "output_type": "stream",
          "name": "stderr",
          "text": [
            "\n"
          ]
        },
        {
          "output_type": "stream",
          "name": "stdout",
          "text": [
            "\n",
            "      Epoch    GPU_mem   box_loss   cls_loss   dfl_loss  Instances       Size\n"
          ]
        },
        {
          "output_type": "stream",
          "name": "stderr",
          "text": [
            "     29/100      1.54G       1.82      1.414      1.249        128        640: 100%|██████████| 103/103 [00:21<00:00,  4.82it/s]\n",
            "                 Class     Images  Instances      Box(P          R      mAP50  mAP50-95): 100%|██████████| 4/4 [00:00<00:00,  4.15it/s]"
          ]
        },
        {
          "output_type": "stream",
          "name": "stdout",
          "text": [
            "                   all         56        643      0.563      0.566      0.566       0.26\n"
          ]
        },
        {
          "output_type": "stream",
          "name": "stderr",
          "text": [
            "\n"
          ]
        },
        {
          "output_type": "stream",
          "name": "stdout",
          "text": [
            "\n",
            "      Epoch    GPU_mem   box_loss   cls_loss   dfl_loss  Instances       Size\n"
          ]
        },
        {
          "output_type": "stream",
          "name": "stderr",
          "text": [
            "     30/100       1.5G      1.808       1.39      1.257        115        640: 100%|██████████| 103/103 [00:19<00:00,  5.31it/s]\n",
            "                 Class     Images  Instances      Box(P          R      mAP50  mAP50-95): 100%|██████████| 4/4 [00:00<00:00,  4.48it/s]"
          ]
        },
        {
          "output_type": "stream",
          "name": "stdout",
          "text": [
            "                   all         56        643       0.55      0.568      0.565      0.255\n"
          ]
        },
        {
          "output_type": "stream",
          "name": "stderr",
          "text": [
            "\n"
          ]
        },
        {
          "output_type": "stream",
          "name": "stdout",
          "text": [
            "\n",
            "      Epoch    GPU_mem   box_loss   cls_loss   dfl_loss  Instances       Size\n"
          ]
        },
        {
          "output_type": "stream",
          "name": "stderr",
          "text": [
            "     31/100      1.42G      1.809       1.38      1.245         65        640: 100%|██████████| 103/103 [00:19<00:00,  5.40it/s]\n",
            "                 Class     Images  Instances      Box(P          R      mAP50  mAP50-95): 100%|██████████| 4/4 [00:00<00:00,  7.27it/s]"
          ]
        },
        {
          "output_type": "stream",
          "name": "stdout",
          "text": [
            "                   all         56        643      0.531      0.532      0.545      0.247\n"
          ]
        },
        {
          "output_type": "stream",
          "name": "stderr",
          "text": [
            "\n"
          ]
        },
        {
          "output_type": "stream",
          "name": "stdout",
          "text": [
            "\n",
            "      Epoch    GPU_mem   box_loss   cls_loss   dfl_loss  Instances       Size\n"
          ]
        },
        {
          "output_type": "stream",
          "name": "stderr",
          "text": [
            "     32/100      1.68G      1.823      1.387      1.251        183        640: 100%|██████████| 103/103 [00:18<00:00,  5.68it/s]\n",
            "                 Class     Images  Instances      Box(P          R      mAP50  mAP50-95): 100%|██████████| 4/4 [00:00<00:00,  7.81it/s]"
          ]
        },
        {
          "output_type": "stream",
          "name": "stdout",
          "text": [
            "                   all         56        643      0.528      0.569      0.548      0.227\n"
          ]
        },
        {
          "output_type": "stream",
          "name": "stderr",
          "text": [
            "\n"
          ]
        },
        {
          "output_type": "stream",
          "name": "stdout",
          "text": [
            "\n",
            "      Epoch    GPU_mem   box_loss   cls_loss   dfl_loss  Instances       Size\n"
          ]
        },
        {
          "output_type": "stream",
          "name": "stderr",
          "text": [
            "     33/100      1.53G      1.788      1.359      1.244         82        640: 100%|██████████| 103/103 [00:18<00:00,  5.70it/s]\n",
            "                 Class     Images  Instances      Box(P          R      mAP50  mAP50-95): 100%|██████████| 4/4 [00:00<00:00,  7.54it/s]"
          ]
        },
        {
          "output_type": "stream",
          "name": "stdout",
          "text": [
            "                   all         56        643      0.604      0.565      0.595      0.265\n"
          ]
        },
        {
          "output_type": "stream",
          "name": "stderr",
          "text": [
            "\n"
          ]
        },
        {
          "output_type": "stream",
          "name": "stdout",
          "text": [
            "\n",
            "      Epoch    GPU_mem   box_loss   cls_loss   dfl_loss  Instances       Size\n"
          ]
        },
        {
          "output_type": "stream",
          "name": "stderr",
          "text": [
            "     34/100      1.56G      1.777      1.346       1.23         75        640: 100%|██████████| 103/103 [00:18<00:00,  5.56it/s]\n",
            "                 Class     Images  Instances      Box(P          R      mAP50  mAP50-95): 100%|██████████| 4/4 [00:00<00:00,  8.74it/s]"
          ]
        },
        {
          "output_type": "stream",
          "name": "stdout",
          "text": [
            "                   all         56        643      0.568      0.549      0.581      0.264\n"
          ]
        },
        {
          "output_type": "stream",
          "name": "stderr",
          "text": [
            "\n"
          ]
        },
        {
          "output_type": "stream",
          "name": "stdout",
          "text": [
            "\n",
            "      Epoch    GPU_mem   box_loss   cls_loss   dfl_loss  Instances       Size\n"
          ]
        },
        {
          "output_type": "stream",
          "name": "stderr",
          "text": [
            "     35/100      1.51G      1.785      1.322      1.226        150        640: 100%|██████████| 103/103 [00:18<00:00,  5.61it/s]\n",
            "                 Class     Images  Instances      Box(P          R      mAP50  mAP50-95): 100%|██████████| 4/4 [00:00<00:00,  4.57it/s]"
          ]
        },
        {
          "output_type": "stream",
          "name": "stdout",
          "text": [
            "                   all         56        643      0.579      0.593      0.595      0.259\n"
          ]
        },
        {
          "output_type": "stream",
          "name": "stderr",
          "text": [
            "\n"
          ]
        },
        {
          "output_type": "stream",
          "name": "stdout",
          "text": [
            "\n",
            "      Epoch    GPU_mem   box_loss   cls_loss   dfl_loss  Instances       Size\n"
          ]
        },
        {
          "output_type": "stream",
          "name": "stderr",
          "text": [
            "     36/100      1.61G      1.782      1.339      1.224        194        640: 100%|██████████| 103/103 [00:19<00:00,  5.26it/s]\n",
            "                 Class     Images  Instances      Box(P          R      mAP50  mAP50-95): 100%|██████████| 4/4 [00:00<00:00,  5.24it/s]"
          ]
        },
        {
          "output_type": "stream",
          "name": "stdout",
          "text": [
            "                   all         56        643      0.563      0.617      0.613      0.279\n"
          ]
        },
        {
          "output_type": "stream",
          "name": "stderr",
          "text": [
            "\n"
          ]
        },
        {
          "output_type": "stream",
          "name": "stdout",
          "text": [
            "\n",
            "      Epoch    GPU_mem   box_loss   cls_loss   dfl_loss  Instances       Size\n"
          ]
        },
        {
          "output_type": "stream",
          "name": "stderr",
          "text": [
            "     37/100      1.51G      1.781      1.348      1.233         62        640: 100%|██████████| 103/103 [00:18<00:00,  5.68it/s]\n",
            "                 Class     Images  Instances      Box(P          R      mAP50  mAP50-95): 100%|██████████| 4/4 [00:00<00:00,  8.02it/s]\n"
          ]
        },
        {
          "output_type": "stream",
          "name": "stdout",
          "text": [
            "                   all         56        643      0.554      0.574      0.578      0.266\n",
            "\n",
            "      Epoch    GPU_mem   box_loss   cls_loss   dfl_loss  Instances       Size\n"
          ]
        },
        {
          "output_type": "stream",
          "name": "stderr",
          "text": [
            "     38/100      1.46G      1.768      1.335      1.245        110        640: 100%|██████████| 103/103 [00:19<00:00,  5.34it/s]\n",
            "                 Class     Images  Instances      Box(P          R      mAP50  mAP50-95): 100%|██████████| 4/4 [00:00<00:00,  5.35it/s]"
          ]
        },
        {
          "output_type": "stream",
          "name": "stdout",
          "text": [
            "                   all         56        643      0.595       0.57      0.616      0.282\n"
          ]
        },
        {
          "output_type": "stream",
          "name": "stderr",
          "text": [
            "\n"
          ]
        },
        {
          "output_type": "stream",
          "name": "stdout",
          "text": [
            "\n",
            "      Epoch    GPU_mem   box_loss   cls_loss   dfl_loss  Instances       Size\n"
          ]
        },
        {
          "output_type": "stream",
          "name": "stderr",
          "text": [
            "     39/100      1.33G       1.76      1.332      1.226        117        640: 100%|██████████| 103/103 [00:19<00:00,  5.40it/s]\n",
            "                 Class     Images  Instances      Box(P          R      mAP50  mAP50-95): 100%|██████████| 4/4 [00:00<00:00,  7.43it/s]"
          ]
        },
        {
          "output_type": "stream",
          "name": "stdout",
          "text": [
            "                   all         56        643      0.621      0.541      0.599      0.267\n"
          ]
        },
        {
          "output_type": "stream",
          "name": "stderr",
          "text": [
            "\n"
          ]
        },
        {
          "output_type": "stream",
          "name": "stdout",
          "text": [
            "\n",
            "      Epoch    GPU_mem   box_loss   cls_loss   dfl_loss  Instances       Size\n"
          ]
        },
        {
          "output_type": "stream",
          "name": "stderr",
          "text": [
            "     40/100       1.4G      1.735      1.281      1.222        179        640: 100%|██████████| 103/103 [00:18<00:00,  5.48it/s]\n",
            "                 Class     Images  Instances      Box(P          R      mAP50  mAP50-95): 100%|██████████| 4/4 [00:00<00:00,  5.34it/s]"
          ]
        },
        {
          "output_type": "stream",
          "name": "stdout",
          "text": [
            "                   all         56        643      0.591      0.591      0.603      0.271\n"
          ]
        },
        {
          "output_type": "stream",
          "name": "stderr",
          "text": [
            "\n"
          ]
        },
        {
          "output_type": "stream",
          "name": "stdout",
          "text": [
            "\n",
            "      Epoch    GPU_mem   box_loss   cls_loss   dfl_loss  Instances       Size\n"
          ]
        },
        {
          "output_type": "stream",
          "name": "stderr",
          "text": [
            "     41/100      1.87G      1.746      1.292      1.218        188        640: 100%|██████████| 103/103 [00:19<00:00,  5.24it/s]\n",
            "                 Class     Images  Instances      Box(P          R      mAP50  mAP50-95): 100%|██████████| 4/4 [00:00<00:00,  4.42it/s]"
          ]
        },
        {
          "output_type": "stream",
          "name": "stdout",
          "text": [
            "                   all         56        643       0.57       0.52      0.558      0.249\n"
          ]
        },
        {
          "output_type": "stream",
          "name": "stderr",
          "text": [
            "\n"
          ]
        },
        {
          "output_type": "stream",
          "name": "stdout",
          "text": [
            "\n",
            "      Epoch    GPU_mem   box_loss   cls_loss   dfl_loss  Instances       Size\n"
          ]
        },
        {
          "output_type": "stream",
          "name": "stderr",
          "text": [
            "     42/100      1.55G      1.749      1.304      1.225        117        640: 100%|██████████| 103/103 [00:18<00:00,  5.52it/s]\n",
            "                 Class     Images  Instances      Box(P          R      mAP50  mAP50-95): 100%|██████████| 4/4 [00:00<00:00,  8.36it/s]\n"
          ]
        },
        {
          "output_type": "stream",
          "name": "stdout",
          "text": [
            "                   all         56        643      0.603      0.556      0.588       0.26\n",
            "\n",
            "      Epoch    GPU_mem   box_loss   cls_loss   dfl_loss  Instances       Size\n"
          ]
        },
        {
          "output_type": "stream",
          "name": "stderr",
          "text": [
            "     43/100      1.38G      1.743       1.31      1.217        129        640: 100%|██████████| 103/103 [00:18<00:00,  5.60it/s]\n",
            "                 Class     Images  Instances      Box(P          R      mAP50  mAP50-95): 100%|██████████| 4/4 [00:00<00:00,  8.56it/s]"
          ]
        },
        {
          "output_type": "stream",
          "name": "stdout",
          "text": [
            "                   all         56        643      0.562      0.549      0.557      0.262\n"
          ]
        },
        {
          "output_type": "stream",
          "name": "stderr",
          "text": [
            "\n"
          ]
        },
        {
          "output_type": "stream",
          "name": "stdout",
          "text": [
            "\n",
            "      Epoch    GPU_mem   box_loss   cls_loss   dfl_loss  Instances       Size\n"
          ]
        },
        {
          "output_type": "stream",
          "name": "stderr",
          "text": [
            "     44/100      1.72G      1.735      1.309      1.217        115        640: 100%|██████████| 103/103 [00:18<00:00,  5.56it/s]\n",
            "                 Class     Images  Instances      Box(P          R      mAP50  mAP50-95): 100%|██████████| 4/4 [00:00<00:00,  8.37it/s]"
          ]
        },
        {
          "output_type": "stream",
          "name": "stdout",
          "text": [
            "                   all         56        643      0.555      0.597      0.584       0.27\n"
          ]
        },
        {
          "output_type": "stream",
          "name": "stderr",
          "text": [
            "\n"
          ]
        },
        {
          "output_type": "stream",
          "name": "stdout",
          "text": [
            "\n",
            "      Epoch    GPU_mem   box_loss   cls_loss   dfl_loss  Instances       Size\n"
          ]
        },
        {
          "output_type": "stream",
          "name": "stderr",
          "text": [
            "     45/100      1.51G       1.72      1.288       1.21         78        640: 100%|██████████| 103/103 [00:18<00:00,  5.55it/s]\n",
            "                 Class     Images  Instances      Box(P          R      mAP50  mAP50-95): 100%|██████████| 4/4 [00:00<00:00,  7.73it/s]"
          ]
        },
        {
          "output_type": "stream",
          "name": "stdout",
          "text": [
            "                   all         56        643      0.554      0.616      0.598      0.269\n"
          ]
        },
        {
          "output_type": "stream",
          "name": "stderr",
          "text": [
            "\n"
          ]
        },
        {
          "output_type": "stream",
          "name": "stdout",
          "text": [
            "\n",
            "      Epoch    GPU_mem   box_loss   cls_loss   dfl_loss  Instances       Size\n"
          ]
        },
        {
          "output_type": "stream",
          "name": "stderr",
          "text": [
            "     46/100      1.53G      1.746      1.275      1.212         63        640: 100%|██████████| 103/103 [00:18<00:00,  5.54it/s]\n",
            "                 Class     Images  Instances      Box(P          R      mAP50  mAP50-95): 100%|██████████| 4/4 [00:00<00:00,  4.84it/s]"
          ]
        },
        {
          "output_type": "stream",
          "name": "stdout",
          "text": [
            "                   all         56        643      0.575      0.576      0.603      0.271\n"
          ]
        },
        {
          "output_type": "stream",
          "name": "stderr",
          "text": [
            "\n"
          ]
        },
        {
          "output_type": "stream",
          "name": "stdout",
          "text": [
            "\n",
            "      Epoch    GPU_mem   box_loss   cls_loss   dfl_loss  Instances       Size\n"
          ]
        },
        {
          "output_type": "stream",
          "name": "stderr",
          "text": [
            "     47/100      1.38G      1.724      1.283      1.215        122        640: 100%|██████████| 103/103 [00:19<00:00,  5.37it/s]\n",
            "                 Class     Images  Instances      Box(P          R      mAP50  mAP50-95): 100%|██████████| 4/4 [00:00<00:00,  4.72it/s]"
          ]
        },
        {
          "output_type": "stream",
          "name": "stdout",
          "text": [
            "                   all         56        643      0.585      0.597      0.608      0.271\n"
          ]
        },
        {
          "output_type": "stream",
          "name": "stderr",
          "text": [
            "\n"
          ]
        },
        {
          "output_type": "stream",
          "name": "stdout",
          "text": [
            "\n",
            "      Epoch    GPU_mem   box_loss   cls_loss   dfl_loss  Instances       Size\n"
          ]
        },
        {
          "output_type": "stream",
          "name": "stderr",
          "text": [
            "     48/100      1.37G      1.712      1.279      1.212        202        640: 100%|██████████| 103/103 [00:21<00:00,  4.86it/s]\n",
            "                 Class     Images  Instances      Box(P          R      mAP50  mAP50-95): 100%|██████████| 4/4 [00:00<00:00,  8.69it/s]\n"
          ]
        },
        {
          "output_type": "stream",
          "name": "stdout",
          "text": [
            "                   all         56        643      0.601      0.574      0.607      0.269\n",
            "\n",
            "      Epoch    GPU_mem   box_loss   cls_loss   dfl_loss  Instances       Size\n"
          ]
        },
        {
          "output_type": "stream",
          "name": "stderr",
          "text": [
            "     49/100      1.42G      1.703      1.252      1.203        101        640: 100%|██████████| 103/103 [00:18<00:00,  5.63it/s]\n",
            "                 Class     Images  Instances      Box(P          R      mAP50  mAP50-95): 100%|██████████| 4/4 [00:00<00:00,  8.24it/s]\n"
          ]
        },
        {
          "output_type": "stream",
          "name": "stdout",
          "text": [
            "                   all         56        643      0.571      0.605      0.608      0.267\n",
            "\n",
            "      Epoch    GPU_mem   box_loss   cls_loss   dfl_loss  Instances       Size\n"
          ]
        },
        {
          "output_type": "stream",
          "name": "stderr",
          "text": [
            "     50/100      1.41G      1.708      1.243      1.197         99        640: 100%|██████████| 103/103 [00:18<00:00,  5.67it/s]\n",
            "                 Class     Images  Instances      Box(P          R      mAP50  mAP50-95): 100%|██████████| 4/4 [00:00<00:00,  7.64it/s]"
          ]
        },
        {
          "output_type": "stream",
          "name": "stdout",
          "text": [
            "                   all         56        643      0.584      0.594      0.615      0.281\n"
          ]
        },
        {
          "output_type": "stream",
          "name": "stderr",
          "text": [
            "\n"
          ]
        },
        {
          "output_type": "stream",
          "name": "stdout",
          "text": [
            "\n",
            "      Epoch    GPU_mem   box_loss   cls_loss   dfl_loss  Instances       Size\n"
          ]
        },
        {
          "output_type": "stream",
          "name": "stderr",
          "text": [
            "     51/100      1.44G       1.71      1.263      1.207         78        640: 100%|██████████| 103/103 [00:19<00:00,  5.41it/s]\n",
            "                 Class     Images  Instances      Box(P          R      mAP50  mAP50-95): 100%|██████████| 4/4 [00:00<00:00,  4.55it/s]"
          ]
        },
        {
          "output_type": "stream",
          "name": "stdout",
          "text": [
            "                   all         56        643      0.631      0.589      0.601      0.265\n"
          ]
        },
        {
          "output_type": "stream",
          "name": "stderr",
          "text": [
            "\n"
          ]
        },
        {
          "output_type": "stream",
          "name": "stdout",
          "text": [
            "\n",
            "      Epoch    GPU_mem   box_loss   cls_loss   dfl_loss  Instances       Size\n"
          ]
        },
        {
          "output_type": "stream",
          "name": "stderr",
          "text": [
            "     52/100       1.6G      1.708      1.246      1.213        108        640: 100%|██████████| 103/103 [00:19<00:00,  5.35it/s]\n",
            "                 Class     Images  Instances      Box(P          R      mAP50  mAP50-95): 100%|██████████| 4/4 [00:00<00:00,  6.80it/s]"
          ]
        },
        {
          "output_type": "stream",
          "name": "stdout",
          "text": [
            "                   all         56        643      0.572      0.569       0.59       0.26\n"
          ]
        },
        {
          "output_type": "stream",
          "name": "stderr",
          "text": [
            "\n"
          ]
        },
        {
          "output_type": "stream",
          "name": "stdout",
          "text": [
            "\n",
            "      Epoch    GPU_mem   box_loss   cls_loss   dfl_loss  Instances       Size\n"
          ]
        },
        {
          "output_type": "stream",
          "name": "stderr",
          "text": [
            "     53/100      1.43G      1.716       1.24      1.213        164        640: 100%|██████████| 103/103 [00:18<00:00,  5.52it/s]\n",
            "                 Class     Images  Instances      Box(P          R      mAP50  mAP50-95): 100%|██████████| 4/4 [00:00<00:00,  7.83it/s]"
          ]
        },
        {
          "output_type": "stream",
          "name": "stdout",
          "text": [
            "                   all         56        643      0.591      0.545      0.564      0.251\n"
          ]
        },
        {
          "output_type": "stream",
          "name": "stderr",
          "text": [
            "\n"
          ]
        },
        {
          "output_type": "stream",
          "name": "stdout",
          "text": [
            "\n",
            "      Epoch    GPU_mem   box_loss   cls_loss   dfl_loss  Instances       Size\n"
          ]
        },
        {
          "output_type": "stream",
          "name": "stderr",
          "text": [
            "     54/100      1.37G      1.712      1.241      1.207        108        640: 100%|██████████| 103/103 [00:18<00:00,  5.50it/s]\n",
            "                 Class     Images  Instances      Box(P          R      mAP50  mAP50-95): 100%|██████████| 4/4 [00:00<00:00,  8.38it/s]"
          ]
        },
        {
          "output_type": "stream",
          "name": "stdout",
          "text": [
            "                   all         56        643      0.532      0.635      0.569      0.255\n"
          ]
        },
        {
          "output_type": "stream",
          "name": "stderr",
          "text": [
            "\n"
          ]
        },
        {
          "output_type": "stream",
          "name": "stdout",
          "text": [
            "\n",
            "      Epoch    GPU_mem   box_loss   cls_loss   dfl_loss  Instances       Size\n"
          ]
        },
        {
          "output_type": "stream",
          "name": "stderr",
          "text": [
            "     55/100      1.43G      1.712      1.212      1.204        173        640: 100%|██████████| 103/103 [00:18<00:00,  5.61it/s]\n",
            "                 Class     Images  Instances      Box(P          R      mAP50  mAP50-95): 100%|██████████| 4/4 [00:00<00:00,  8.95it/s]"
          ]
        },
        {
          "output_type": "stream",
          "name": "stdout",
          "text": [
            "                   all         56        643      0.564      0.582      0.601      0.268\n"
          ]
        },
        {
          "output_type": "stream",
          "name": "stderr",
          "text": [
            "\n"
          ]
        },
        {
          "output_type": "stream",
          "name": "stdout",
          "text": [
            "\n",
            "      Epoch    GPU_mem   box_loss   cls_loss   dfl_loss  Instances       Size\n"
          ]
        },
        {
          "output_type": "stream",
          "name": "stderr",
          "text": [
            "     56/100      1.44G      1.683      1.211      1.197        102        640: 100%|██████████| 103/103 [00:18<00:00,  5.55it/s]\n",
            "                 Class     Images  Instances      Box(P          R      mAP50  mAP50-95): 100%|██████████| 4/4 [00:00<00:00,  7.85it/s]\n"
          ]
        },
        {
          "output_type": "stream",
          "name": "stdout",
          "text": [
            "                   all         56        643      0.535      0.596      0.591      0.269\n",
            "\n",
            "      Epoch    GPU_mem   box_loss   cls_loss   dfl_loss  Instances       Size\n"
          ]
        },
        {
          "output_type": "stream",
          "name": "stderr",
          "text": [
            "     57/100       1.4G       1.69      1.208       1.19        172        640: 100%|██████████| 103/103 [00:20<00:00,  4.97it/s]\n",
            "                 Class     Images  Instances      Box(P          R      mAP50  mAP50-95): 100%|██████████| 4/4 [00:00<00:00,  5.41it/s]"
          ]
        },
        {
          "output_type": "stream",
          "name": "stdout",
          "text": [
            "                   all         56        643      0.544      0.621      0.607      0.278\n"
          ]
        },
        {
          "output_type": "stream",
          "name": "stderr",
          "text": [
            "\n"
          ]
        },
        {
          "output_type": "stream",
          "name": "stdout",
          "text": [
            "\n",
            "      Epoch    GPU_mem   box_loss   cls_loss   dfl_loss  Instances       Size\n"
          ]
        },
        {
          "output_type": "stream",
          "name": "stderr",
          "text": [
            "     58/100      1.44G      1.671      1.204      1.181         94        640: 100%|██████████| 103/103 [00:19<00:00,  5.35it/s]\n",
            "                 Class     Images  Instances      Box(P          R      mAP50  mAP50-95): 100%|██████████| 4/4 [00:00<00:00,  5.09it/s]"
          ]
        },
        {
          "output_type": "stream",
          "name": "stdout",
          "text": [
            "                   all         56        643      0.583      0.589      0.597      0.266\n"
          ]
        },
        {
          "output_type": "stream",
          "name": "stderr",
          "text": [
            "\n"
          ]
        },
        {
          "output_type": "stream",
          "name": "stdout",
          "text": [
            "\n",
            "      Epoch    GPU_mem   box_loss   cls_loss   dfl_loss  Instances       Size\n"
          ]
        },
        {
          "output_type": "stream",
          "name": "stderr",
          "text": [
            "     59/100      1.59G      1.693      1.199      1.184         46        640: 100%|██████████| 103/103 [00:18<00:00,  5.46it/s]\n",
            "                 Class     Images  Instances      Box(P          R      mAP50  mAP50-95): 100%|██████████| 4/4 [00:00<00:00,  8.39it/s]\n"
          ]
        },
        {
          "output_type": "stream",
          "name": "stdout",
          "text": [
            "                   all         56        643      0.555       0.59      0.599      0.269\n",
            "\n",
            "      Epoch    GPU_mem   box_loss   cls_loss   dfl_loss  Instances       Size\n"
          ]
        },
        {
          "output_type": "stream",
          "name": "stderr",
          "text": [
            "     60/100      1.55G      1.679      1.179      1.183        112        640: 100%|██████████| 103/103 [00:18<00:00,  5.62it/s]\n",
            "                 Class     Images  Instances      Box(P          R      mAP50  mAP50-95): 100%|██████████| 4/4 [00:00<00:00,  7.76it/s]"
          ]
        },
        {
          "output_type": "stream",
          "name": "stdout",
          "text": [
            "                   all         56        643      0.565      0.636      0.614      0.278\n"
          ]
        },
        {
          "output_type": "stream",
          "name": "stderr",
          "text": [
            "\n"
          ]
        },
        {
          "output_type": "stream",
          "name": "stdout",
          "text": [
            "\n",
            "      Epoch    GPU_mem   box_loss   cls_loss   dfl_loss  Instances       Size\n"
          ]
        },
        {
          "output_type": "stream",
          "name": "stderr",
          "text": [
            "     61/100      1.35G      1.678      1.189      1.188         96        640: 100%|██████████| 103/103 [00:17<00:00,  5.75it/s]\n",
            "                 Class     Images  Instances      Box(P          R      mAP50  mAP50-95): 100%|██████████| 4/4 [00:00<00:00,  8.08it/s]"
          ]
        },
        {
          "output_type": "stream",
          "name": "stdout",
          "text": [
            "                   all         56        643      0.603      0.616      0.626       0.28\n"
          ]
        },
        {
          "output_type": "stream",
          "name": "stderr",
          "text": [
            "\n"
          ]
        },
        {
          "output_type": "stream",
          "name": "stdout",
          "text": [
            "\n",
            "      Epoch    GPU_mem   box_loss   cls_loss   dfl_loss  Instances       Size\n"
          ]
        },
        {
          "output_type": "stream",
          "name": "stderr",
          "text": [
            "     62/100       1.6G      1.651      1.154      1.173        117        640: 100%|██████████| 103/103 [00:18<00:00,  5.64it/s]\n",
            "                 Class     Images  Instances      Box(P          R      mAP50  mAP50-95): 100%|██████████| 4/4 [00:00<00:00,  8.75it/s]"
          ]
        },
        {
          "output_type": "stream",
          "name": "stdout",
          "text": [
            "                   all         56        643      0.582      0.619      0.606      0.268\n"
          ]
        },
        {
          "output_type": "stream",
          "name": "stderr",
          "text": [
            "\n"
          ]
        },
        {
          "output_type": "stream",
          "name": "stdout",
          "text": [
            "\n",
            "      Epoch    GPU_mem   box_loss   cls_loss   dfl_loss  Instances       Size\n"
          ]
        },
        {
          "output_type": "stream",
          "name": "stderr",
          "text": [
            "     63/100      1.45G      1.652      1.175      1.186        171        640: 100%|██████████| 103/103 [00:18<00:00,  5.42it/s]\n",
            "                 Class     Images  Instances      Box(P          R      mAP50  mAP50-95): 100%|██████████| 4/4 [00:00<00:00,  5.57it/s]"
          ]
        },
        {
          "output_type": "stream",
          "name": "stdout",
          "text": [
            "                   all         56        643      0.589      0.524      0.551      0.248\n"
          ]
        },
        {
          "output_type": "stream",
          "name": "stderr",
          "text": [
            "\n"
          ]
        },
        {
          "output_type": "stream",
          "name": "stdout",
          "text": [
            "\n",
            "      Epoch    GPU_mem   box_loss   cls_loss   dfl_loss  Instances       Size\n"
          ]
        },
        {
          "output_type": "stream",
          "name": "stderr",
          "text": [
            "     64/100      1.47G      1.667       1.17      1.181         83        640: 100%|██████████| 103/103 [00:19<00:00,  5.40it/s]\n",
            "                 Class     Images  Instances      Box(P          R      mAP50  mAP50-95): 100%|██████████| 4/4 [00:00<00:00,  5.09it/s]"
          ]
        },
        {
          "output_type": "stream",
          "name": "stdout",
          "text": [
            "                   all         56        643      0.549      0.637      0.605      0.265\n"
          ]
        },
        {
          "output_type": "stream",
          "name": "stderr",
          "text": [
            "\n"
          ]
        },
        {
          "output_type": "stream",
          "name": "stdout",
          "text": [
            "\n",
            "      Epoch    GPU_mem   box_loss   cls_loss   dfl_loss  Instances       Size\n"
          ]
        },
        {
          "output_type": "stream",
          "name": "stderr",
          "text": [
            "     65/100      1.42G      1.636      1.151      1.179        104        640: 100%|██████████| 103/103 [00:18<00:00,  5.64it/s]\n",
            "                 Class     Images  Instances      Box(P          R      mAP50  mAP50-95): 100%|██████████| 4/4 [00:00<00:00,  7.52it/s]"
          ]
        },
        {
          "output_type": "stream",
          "name": "stdout",
          "text": [
            "                   all         56        643      0.558      0.648      0.606      0.272\n"
          ]
        },
        {
          "output_type": "stream",
          "name": "stderr",
          "text": [
            "\n"
          ]
        },
        {
          "output_type": "stream",
          "name": "stdout",
          "text": [
            "\n",
            "      Epoch    GPU_mem   box_loss   cls_loss   dfl_loss  Instances       Size\n"
          ]
        },
        {
          "output_type": "stream",
          "name": "stderr",
          "text": [
            "     66/100      1.38G      1.668      1.172      1.176         86        640: 100%|██████████| 103/103 [00:20<00:00,  4.92it/s]\n",
            "                 Class     Images  Instances      Box(P          R      mAP50  mAP50-95): 100%|██████████| 4/4 [00:00<00:00,  8.33it/s]\n"
          ]
        },
        {
          "output_type": "stream",
          "name": "stdout",
          "text": [
            "                   all         56        643      0.608      0.561      0.589       0.27\n",
            "\n",
            "      Epoch    GPU_mem   box_loss   cls_loss   dfl_loss  Instances       Size\n"
          ]
        },
        {
          "output_type": "stream",
          "name": "stderr",
          "text": [
            "     67/100      1.36G       1.64      1.144      1.166        134        640: 100%|██████████| 103/103 [00:18<00:00,  5.59it/s]\n",
            "                 Class     Images  Instances      Box(P          R      mAP50  mAP50-95): 100%|██████████| 4/4 [00:00<00:00,  7.92it/s]"
          ]
        },
        {
          "output_type": "stream",
          "name": "stdout",
          "text": [
            "                   all         56        643       0.58       0.62      0.586      0.259\n"
          ]
        },
        {
          "output_type": "stream",
          "name": "stderr",
          "text": [
            "\n"
          ]
        },
        {
          "output_type": "stream",
          "name": "stdout",
          "text": [
            "\n",
            "      Epoch    GPU_mem   box_loss   cls_loss   dfl_loss  Instances       Size\n"
          ]
        },
        {
          "output_type": "stream",
          "name": "stderr",
          "text": [
            "     68/100      1.45G      1.639      1.126      1.174        114        640: 100%|██████████| 103/103 [00:18<00:00,  5.44it/s]\n",
            "                 Class     Images  Instances      Box(P          R      mAP50  mAP50-95): 100%|██████████| 4/4 [00:00<00:00,  4.70it/s]"
          ]
        },
        {
          "output_type": "stream",
          "name": "stdout",
          "text": [
            "                   all         56        643      0.599      0.636      0.615      0.271\n"
          ]
        },
        {
          "output_type": "stream",
          "name": "stderr",
          "text": [
            "\n"
          ]
        },
        {
          "output_type": "stream",
          "name": "stdout",
          "text": [
            "\n",
            "      Epoch    GPU_mem   box_loss   cls_loss   dfl_loss  Instances       Size\n"
          ]
        },
        {
          "output_type": "stream",
          "name": "stderr",
          "text": [
            "     69/100      1.52G       1.65      1.113      1.167        106        640: 100%|██████████| 103/103 [00:19<00:00,  5.30it/s]\n",
            "                 Class     Images  Instances      Box(P          R      mAP50  mAP50-95): 100%|██████████| 4/4 [00:00<00:00,  4.87it/s]"
          ]
        },
        {
          "output_type": "stream",
          "name": "stdout",
          "text": [
            "                   all         56        643      0.581      0.626        0.6      0.271\n"
          ]
        },
        {
          "output_type": "stream",
          "name": "stderr",
          "text": [
            "\n"
          ]
        },
        {
          "output_type": "stream",
          "name": "stdout",
          "text": [
            "\n",
            "      Epoch    GPU_mem   box_loss   cls_loss   dfl_loss  Instances       Size\n"
          ]
        },
        {
          "output_type": "stream",
          "name": "stderr",
          "text": [
            "     70/100      1.65G      1.656      1.125      1.175         85        640: 100%|██████████| 103/103 [00:18<00:00,  5.44it/s]\n",
            "                 Class     Images  Instances      Box(P          R      mAP50  mAP50-95): 100%|██████████| 4/4 [00:00<00:00,  8.59it/s]"
          ]
        },
        {
          "output_type": "stream",
          "name": "stdout",
          "text": [
            "                   all         56        643      0.607      0.596      0.598      0.264\n"
          ]
        },
        {
          "output_type": "stream",
          "name": "stderr",
          "text": [
            "\n"
          ]
        },
        {
          "output_type": "stream",
          "name": "stdout",
          "text": [
            "\n",
            "      Epoch    GPU_mem   box_loss   cls_loss   dfl_loss  Instances       Size\n"
          ]
        },
        {
          "output_type": "stream",
          "name": "stderr",
          "text": [
            "     71/100      1.59G       1.62      1.126      1.167        170        640: 100%|██████████| 103/103 [00:18<00:00,  5.47it/s]\n",
            "                 Class     Images  Instances      Box(P          R      mAP50  mAP50-95): 100%|██████████| 4/4 [00:00<00:00,  8.39it/s]\n"
          ]
        },
        {
          "output_type": "stream",
          "name": "stdout",
          "text": [
            "                   all         56        643      0.557      0.647       0.58      0.257\n",
            "\n",
            "      Epoch    GPU_mem   box_loss   cls_loss   dfl_loss  Instances       Size\n"
          ]
        },
        {
          "output_type": "stream",
          "name": "stderr",
          "text": [
            "     72/100      1.61G      1.607      1.101      1.161        136        640: 100%|██████████| 103/103 [00:18<00:00,  5.48it/s]\n",
            "                 Class     Images  Instances      Box(P          R      mAP50  mAP50-95): 100%|██████████| 4/4 [00:00<00:00,  7.95it/s]\n"
          ]
        },
        {
          "output_type": "stream",
          "name": "stdout",
          "text": [
            "                   all         56        643      0.605      0.614      0.603      0.261\n",
            "\n",
            "      Epoch    GPU_mem   box_loss   cls_loss   dfl_loss  Instances       Size\n"
          ]
        },
        {
          "output_type": "stream",
          "name": "stderr",
          "text": [
            "     73/100      1.55G       1.61      1.093      1.156        114        640: 100%|██████████| 103/103 [00:18<00:00,  5.60it/s]\n",
            "                 Class     Images  Instances      Box(P          R      mAP50  mAP50-95): 100%|██████████| 4/4 [00:00<00:00,  7.15it/s]"
          ]
        },
        {
          "output_type": "stream",
          "name": "stdout",
          "text": [
            "                   all         56        643       0.55      0.652      0.593      0.268\n"
          ]
        },
        {
          "output_type": "stream",
          "name": "stderr",
          "text": [
            "\n"
          ]
        },
        {
          "output_type": "stream",
          "name": "stdout",
          "text": [
            "\n",
            "      Epoch    GPU_mem   box_loss   cls_loss   dfl_loss  Instances       Size\n"
          ]
        },
        {
          "output_type": "stream",
          "name": "stderr",
          "text": [
            "     74/100      1.73G      1.598      1.087      1.161        149        640: 100%|██████████| 103/103 [00:18<00:00,  5.58it/s]\n",
            "                 Class     Images  Instances      Box(P          R      mAP50  mAP50-95): 100%|██████████| 4/4 [00:00<00:00,  7.36it/s]"
          ]
        },
        {
          "output_type": "stream",
          "name": "stdout",
          "text": [
            "                   all         56        643      0.565      0.611      0.601      0.273\n"
          ]
        },
        {
          "output_type": "stream",
          "name": "stderr",
          "text": [
            "\n"
          ]
        },
        {
          "output_type": "stream",
          "name": "stdout",
          "text": [
            "\n",
            "      Epoch    GPU_mem   box_loss   cls_loss   dfl_loss  Instances       Size\n"
          ]
        },
        {
          "output_type": "stream",
          "name": "stderr",
          "text": [
            "     75/100       1.4G      1.606      1.097      1.166         83        640: 100%|██████████| 103/103 [00:20<00:00,  5.14it/s]\n",
            "                 Class     Images  Instances      Box(P          R      mAP50  mAP50-95): 100%|██████████| 4/4 [00:00<00:00,  4.74it/s]"
          ]
        },
        {
          "output_type": "stream",
          "name": "stdout",
          "text": [
            "                   all         56        643       0.59      0.605        0.6      0.263\n"
          ]
        },
        {
          "output_type": "stream",
          "name": "stderr",
          "text": [
            "\n"
          ]
        },
        {
          "output_type": "stream",
          "name": "stdout",
          "text": [
            "\n",
            "      Epoch    GPU_mem   box_loss   cls_loss   dfl_loss  Instances       Size\n"
          ]
        },
        {
          "output_type": "stream",
          "name": "stderr",
          "text": [
            "     76/100      1.54G      1.611      1.084      1.159         79        640: 100%|██████████| 103/103 [00:19<00:00,  5.31it/s]\n",
            "                 Class     Images  Instances      Box(P          R      mAP50  mAP50-95): 100%|██████████| 4/4 [00:00<00:00,  4.67it/s]"
          ]
        },
        {
          "output_type": "stream",
          "name": "stdout",
          "text": [
            "                   all         56        643      0.606      0.574       0.57      0.255\n"
          ]
        },
        {
          "output_type": "stream",
          "name": "stderr",
          "text": [
            "\n"
          ]
        },
        {
          "output_type": "stream",
          "name": "stdout",
          "text": [
            "\n",
            "      Epoch    GPU_mem   box_loss   cls_loss   dfl_loss  Instances       Size\n"
          ]
        },
        {
          "output_type": "stream",
          "name": "stderr",
          "text": [
            "     77/100      1.46G      1.601      1.086      1.149        179        640: 100%|██████████| 103/103 [00:18<00:00,  5.45it/s]\n",
            "                 Class     Images  Instances      Box(P          R      mAP50  mAP50-95): 100%|██████████| 4/4 [00:00<00:00,  8.57it/s]"
          ]
        },
        {
          "output_type": "stream",
          "name": "stdout",
          "text": [
            "                   all         56        643      0.579      0.669      0.611      0.277\n"
          ]
        },
        {
          "output_type": "stream",
          "name": "stderr",
          "text": [
            "\n"
          ]
        },
        {
          "output_type": "stream",
          "name": "stdout",
          "text": [
            "\n",
            "      Epoch    GPU_mem   box_loss   cls_loss   dfl_loss  Instances       Size\n"
          ]
        },
        {
          "output_type": "stream",
          "name": "stderr",
          "text": [
            "     78/100      1.37G      1.581      1.055      1.139         82        640: 100%|██████████| 103/103 [00:18<00:00,  5.56it/s]\n",
            "                 Class     Images  Instances      Box(P          R      mAP50  mAP50-95): 100%|██████████| 4/4 [00:00<00:00,  7.90it/s]"
          ]
        },
        {
          "output_type": "stream",
          "name": "stdout",
          "text": [
            "                   all         56        643      0.603      0.624      0.601      0.271\n"
          ]
        },
        {
          "output_type": "stream",
          "name": "stderr",
          "text": [
            "\n"
          ]
        },
        {
          "output_type": "stream",
          "name": "stdout",
          "text": [
            "\n",
            "      Epoch    GPU_mem   box_loss   cls_loss   dfl_loss  Instances       Size\n"
          ]
        },
        {
          "output_type": "stream",
          "name": "stderr",
          "text": [
            "     79/100      1.43G      1.585      1.073       1.15        188        640: 100%|██████████| 103/103 [00:18<00:00,  5.46it/s]\n",
            "                 Class     Images  Instances      Box(P          R      mAP50  mAP50-95): 100%|██████████| 4/4 [00:00<00:00,  8.12it/s]"
          ]
        },
        {
          "output_type": "stream",
          "name": "stdout",
          "text": [
            "                   all         56        643      0.565      0.663      0.614      0.275\n"
          ]
        },
        {
          "output_type": "stream",
          "name": "stderr",
          "text": [
            "\n"
          ]
        },
        {
          "output_type": "stream",
          "name": "stdout",
          "text": [
            "\n",
            "      Epoch    GPU_mem   box_loss   cls_loss   dfl_loss  Instances       Size\n"
          ]
        },
        {
          "output_type": "stream",
          "name": "stderr",
          "text": [
            "     80/100      1.54G      1.584      1.058      1.133         98        640: 100%|██████████| 103/103 [00:18<00:00,  5.51it/s]\n",
            "                 Class     Images  Instances      Box(P          R      mAP50  mAP50-95): 100%|██████████| 4/4 [00:00<00:00,  8.07it/s]"
          ]
        },
        {
          "output_type": "stream",
          "name": "stdout",
          "text": [
            "                   all         56        643      0.548      0.641      0.581      0.253\n"
          ]
        },
        {
          "output_type": "stream",
          "name": "stderr",
          "text": [
            "\n"
          ]
        },
        {
          "output_type": "stream",
          "name": "stdout",
          "text": [
            "\n",
            "      Epoch    GPU_mem   box_loss   cls_loss   dfl_loss  Instances       Size\n"
          ]
        },
        {
          "output_type": "stream",
          "name": "stderr",
          "text": [
            "     81/100      1.41G      1.572      1.056      1.143         99        640: 100%|██████████| 103/103 [00:18<00:00,  5.66it/s]\n",
            "                 Class     Images  Instances      Box(P          R      mAP50  mAP50-95): 100%|██████████| 4/4 [00:00<00:00,  4.60it/s]"
          ]
        },
        {
          "output_type": "stream",
          "name": "stdout",
          "text": [
            "                   all         56        643      0.589      0.611      0.598      0.268\n"
          ]
        },
        {
          "output_type": "stream",
          "name": "stderr",
          "text": [
            "\n"
          ]
        },
        {
          "output_type": "stream",
          "name": "stdout",
          "text": [
            "\n",
            "      Epoch    GPU_mem   box_loss   cls_loss   dfl_loss  Instances       Size\n"
          ]
        },
        {
          "output_type": "stream",
          "name": "stderr",
          "text": [
            "     82/100      1.57G      1.567      1.042       1.14         89        640: 100%|██████████| 103/103 [00:19<00:00,  5.29it/s]\n",
            "                 Class     Images  Instances      Box(P          R      mAP50  mAP50-95): 100%|██████████| 4/4 [00:00<00:00,  4.40it/s]"
          ]
        },
        {
          "output_type": "stream",
          "name": "stdout",
          "text": [
            "                   all         56        643      0.603      0.616      0.591       0.26\n"
          ]
        },
        {
          "output_type": "stream",
          "name": "stderr",
          "text": [
            "\n"
          ]
        },
        {
          "output_type": "stream",
          "name": "stdout",
          "text": [
            "\n",
            "      Epoch    GPU_mem   box_loss   cls_loss   dfl_loss  Instances       Size\n"
          ]
        },
        {
          "output_type": "stream",
          "name": "stderr",
          "text": [
            "     83/100      1.58G      1.584      1.058       1.14        268        640: 100%|██████████| 103/103 [00:19<00:00,  5.26it/s]\n",
            "                 Class     Images  Instances      Box(P          R      mAP50  mAP50-95): 100%|██████████| 4/4 [00:00<00:00,  5.51it/s]"
          ]
        },
        {
          "output_type": "stream",
          "name": "stdout",
          "text": [
            "                   all         56        643      0.608      0.622      0.602       0.27\n"
          ]
        },
        {
          "output_type": "stream",
          "name": "stderr",
          "text": [
            "\n"
          ]
        },
        {
          "output_type": "stream",
          "name": "stdout",
          "text": [
            "\n",
            "      Epoch    GPU_mem   box_loss   cls_loss   dfl_loss  Instances       Size\n"
          ]
        },
        {
          "output_type": "stream",
          "name": "stderr",
          "text": [
            "     84/100      1.39G      1.562       1.04      1.133         77        640: 100%|██████████| 103/103 [00:20<00:00,  5.10it/s]\n",
            "                 Class     Images  Instances      Box(P          R      mAP50  mAP50-95): 100%|██████████| 4/4 [00:00<00:00,  8.92it/s]"
          ]
        },
        {
          "output_type": "stream",
          "name": "stdout",
          "text": [
            "                   all         56        643      0.571      0.646      0.599      0.268\n"
          ]
        },
        {
          "output_type": "stream",
          "name": "stderr",
          "text": [
            "\n"
          ]
        },
        {
          "output_type": "stream",
          "name": "stdout",
          "text": [
            "\n",
            "      Epoch    GPU_mem   box_loss   cls_loss   dfl_loss  Instances       Size\n"
          ]
        },
        {
          "output_type": "stream",
          "name": "stderr",
          "text": [
            "     85/100       1.4G      1.573       1.02      1.127         64        640: 100%|██████████| 103/103 [00:18<00:00,  5.60it/s]\n",
            "                 Class     Images  Instances      Box(P          R      mAP50  mAP50-95): 100%|██████████| 4/4 [00:00<00:00,  8.24it/s]"
          ]
        },
        {
          "output_type": "stream",
          "name": "stdout",
          "text": [
            "                   all         56        643      0.582       0.66      0.621      0.275\n"
          ]
        },
        {
          "output_type": "stream",
          "name": "stderr",
          "text": [
            "\n"
          ]
        },
        {
          "output_type": "stream",
          "name": "stdout",
          "text": [
            "\n",
            "      Epoch    GPU_mem   box_loss   cls_loss   dfl_loss  Instances       Size\n"
          ]
        },
        {
          "output_type": "stream",
          "name": "stderr",
          "text": [
            "     86/100      1.49G      1.573      1.039      1.135        152        640: 100%|██████████| 103/103 [00:18<00:00,  5.45it/s]\n",
            "                 Class     Images  Instances      Box(P          R      mAP50  mAP50-95): 100%|██████████| 4/4 [00:00<00:00,  8.32it/s]"
          ]
        },
        {
          "output_type": "stream",
          "name": "stdout",
          "text": [
            "                   all         56        643      0.573      0.633      0.597      0.267\n"
          ]
        },
        {
          "output_type": "stream",
          "name": "stderr",
          "text": [
            "\n"
          ]
        },
        {
          "output_type": "stream",
          "name": "stdout",
          "text": [
            "\n",
            "      Epoch    GPU_mem   box_loss   cls_loss   dfl_loss  Instances       Size\n"
          ]
        },
        {
          "output_type": "stream",
          "name": "stderr",
          "text": [
            "     87/100      1.43G      1.562      1.038       1.13        163        640: 100%|██████████| 103/103 [00:19<00:00,  5.20it/s]\n",
            "                 Class     Images  Instances      Box(P          R      mAP50  mAP50-95): 100%|██████████| 4/4 [00:00<00:00,  4.89it/s]"
          ]
        },
        {
          "output_type": "stream",
          "name": "stdout",
          "text": [
            "                   all         56        643      0.554      0.661      0.598      0.265\n"
          ]
        },
        {
          "output_type": "stream",
          "name": "stderr",
          "text": [
            "\n"
          ]
        },
        {
          "output_type": "stream",
          "name": "stdout",
          "text": [
            "\n",
            "      Epoch    GPU_mem   box_loss   cls_loss   dfl_loss  Instances       Size\n"
          ]
        },
        {
          "output_type": "stream",
          "name": "stderr",
          "text": [
            "     88/100      1.42G      1.558      1.026      1.132        161        640: 100%|██████████| 103/103 [00:18<00:00,  5.47it/s]\n",
            "                 Class     Images  Instances      Box(P          R      mAP50  mAP50-95): 100%|██████████| 4/4 [00:00<00:00,  8.29it/s]\n"
          ]
        },
        {
          "output_type": "stream",
          "name": "stdout",
          "text": [
            "                   all         56        643      0.572      0.638      0.597      0.267\n",
            "\n",
            "      Epoch    GPU_mem   box_loss   cls_loss   dfl_loss  Instances       Size\n"
          ]
        },
        {
          "output_type": "stream",
          "name": "stderr",
          "text": [
            "     89/100      1.53G      1.547      1.012      1.124         73        640: 100%|██████████| 103/103 [00:18<00:00,  5.42it/s]\n",
            "                 Class     Images  Instances      Box(P          R      mAP50  mAP50-95): 100%|██████████| 4/4 [00:00<00:00,  8.54it/s]"
          ]
        },
        {
          "output_type": "stream",
          "name": "stdout",
          "text": [
            "                   all         56        643      0.614      0.591       0.61      0.269\n"
          ]
        },
        {
          "output_type": "stream",
          "name": "stderr",
          "text": [
            "\n"
          ]
        },
        {
          "output_type": "stream",
          "name": "stdout",
          "text": [
            "\n",
            "      Epoch    GPU_mem   box_loss   cls_loss   dfl_loss  Instances       Size\n"
          ]
        },
        {
          "output_type": "stream",
          "name": "stderr",
          "text": [
            "     90/100      1.47G      1.544      1.011      1.126         96        640: 100%|██████████| 103/103 [00:18<00:00,  5.56it/s]\n",
            "                 Class     Images  Instances      Box(P          R      mAP50  mAP50-95): 100%|██████████| 4/4 [00:00<00:00,  7.42it/s]\n"
          ]
        },
        {
          "output_type": "stream",
          "name": "stdout",
          "text": [
            "                   all         56        643      0.582      0.645      0.609      0.264\n",
            "Closing dataloader mosaic\n",
            "\u001b[34m\u001b[1malbumentations: \u001b[0mBlur(p=0.01, blur_limit=(3, 7)), MedianBlur(p=0.01, blur_limit=(3, 7)), ToGray(p=0.01, num_output_channels=3, method='weighted_average'), CLAHE(p=0.01, clip_limit=(1.0, 4.0), tile_grid_size=(8, 8))\n",
            "\n",
            "      Epoch    GPU_mem   box_loss   cls_loss   dfl_loss  Instances       Size\n"
          ]
        },
        {
          "output_type": "stream",
          "name": "stderr",
          "text": [
            "     91/100      1.34G      1.523      1.007       1.15        105        640: 100%|██████████| 103/103 [00:19<00:00,  5.34it/s]\n",
            "                 Class     Images  Instances      Box(P          R      mAP50  mAP50-95): 100%|██████████| 4/4 [00:00<00:00,  8.23it/s]"
          ]
        },
        {
          "output_type": "stream",
          "name": "stdout",
          "text": [
            "                   all         56        643      0.604      0.639       0.62      0.269\n"
          ]
        },
        {
          "output_type": "stream",
          "name": "stderr",
          "text": [
            "\n"
          ]
        },
        {
          "output_type": "stream",
          "name": "stdout",
          "text": [
            "\n",
            "      Epoch    GPU_mem   box_loss   cls_loss   dfl_loss  Instances       Size\n"
          ]
        },
        {
          "output_type": "stream",
          "name": "stderr",
          "text": [
            "     92/100      1.38G      1.506      0.994      1.142        112        640: 100%|██████████| 103/103 [00:21<00:00,  4.83it/s]\n",
            "                 Class     Images  Instances      Box(P          R      mAP50  mAP50-95): 100%|██████████| 4/4 [00:00<00:00,  5.00it/s]"
          ]
        },
        {
          "output_type": "stream",
          "name": "stdout",
          "text": [
            "                   all         56        643      0.587      0.638       0.62      0.269\n"
          ]
        },
        {
          "output_type": "stream",
          "name": "stderr",
          "text": [
            "\n"
          ]
        },
        {
          "output_type": "stream",
          "name": "stdout",
          "text": [
            "\n",
            "      Epoch    GPU_mem   box_loss   cls_loss   dfl_loss  Instances       Size\n"
          ]
        },
        {
          "output_type": "stream",
          "name": "stderr",
          "text": [
            "     93/100      1.33G      1.508     0.9705       1.15         70        640: 100%|██████████| 103/103 [00:18<00:00,  5.54it/s]\n",
            "                 Class     Images  Instances      Box(P          R      mAP50  mAP50-95): 100%|██████████| 4/4 [00:00<00:00,  4.82it/s]"
          ]
        },
        {
          "output_type": "stream",
          "name": "stdout",
          "text": [
            "                   all         56        643       0.59       0.63      0.624      0.275\n"
          ]
        },
        {
          "output_type": "stream",
          "name": "stderr",
          "text": [
            "\n"
          ]
        },
        {
          "output_type": "stream",
          "name": "stdout",
          "text": [
            "\n",
            "      Epoch    GPU_mem   box_loss   cls_loss   dfl_loss  Instances       Size\n"
          ]
        },
        {
          "output_type": "stream",
          "name": "stderr",
          "text": [
            "     94/100      1.32G      1.495     0.9731      1.145        160        640: 100%|██████████| 103/103 [00:17<00:00,  5.74it/s]\n",
            "                 Class     Images  Instances      Box(P          R      mAP50  mAP50-95): 100%|██████████| 4/4 [00:00<00:00,  8.71it/s]"
          ]
        },
        {
          "output_type": "stream",
          "name": "stdout",
          "text": [
            "                   all         56        643      0.607      0.621      0.613      0.272\n"
          ]
        },
        {
          "output_type": "stream",
          "name": "stderr",
          "text": [
            "\n"
          ]
        },
        {
          "output_type": "stream",
          "name": "stdout",
          "text": [
            "\n",
            "      Epoch    GPU_mem   box_loss   cls_loss   dfl_loss  Instances       Size\n"
          ]
        },
        {
          "output_type": "stream",
          "name": "stderr",
          "text": [
            "     95/100      1.34G      1.504      0.982       1.15         74        640: 100%|██████████| 103/103 [00:18<00:00,  5.55it/s]\n",
            "                 Class     Images  Instances      Box(P          R      mAP50  mAP50-95): 100%|██████████| 4/4 [00:00<00:00,  8.73it/s]\n"
          ]
        },
        {
          "output_type": "stream",
          "name": "stdout",
          "text": [
            "                   all         56        643      0.593      0.653      0.618      0.267\n",
            "\n",
            "      Epoch    GPU_mem   box_loss   cls_loss   dfl_loss  Instances       Size\n"
          ]
        },
        {
          "output_type": "stream",
          "name": "stderr",
          "text": [
            "     96/100      1.28G      1.475      0.967      1.132         73        640: 100%|██████████| 103/103 [00:18<00:00,  5.48it/s]\n",
            "                 Class     Images  Instances      Box(P          R      mAP50  mAP50-95): 100%|██████████| 4/4 [00:00<00:00,  8.55it/s]\n"
          ]
        },
        {
          "output_type": "stream",
          "name": "stdout",
          "text": [
            "                   all         56        643      0.617      0.628      0.617       0.27\n",
            "\n",
            "      Epoch    GPU_mem   box_loss   cls_loss   dfl_loss  Instances       Size\n"
          ]
        },
        {
          "output_type": "stream",
          "name": "stderr",
          "text": [
            "     97/100      1.41G      1.473     0.9477      1.136         48        640: 100%|██████████| 103/103 [00:18<00:00,  5.54it/s]\n",
            "                 Class     Images  Instances      Box(P          R      mAP50  mAP50-95): 100%|██████████| 4/4 [00:00<00:00,  8.18it/s]"
          ]
        },
        {
          "output_type": "stream",
          "name": "stdout",
          "text": [
            "                   all         56        643      0.598      0.628      0.616       0.27\n"
          ]
        },
        {
          "output_type": "stream",
          "name": "stderr",
          "text": [
            "\n"
          ]
        },
        {
          "output_type": "stream",
          "name": "stdout",
          "text": [
            "\n",
            "      Epoch    GPU_mem   box_loss   cls_loss   dfl_loss  Instances       Size\n"
          ]
        },
        {
          "output_type": "stream",
          "name": "stderr",
          "text": [
            "     98/100      1.29G      1.481     0.9602      1.138        130        640: 100%|██████████| 103/103 [00:18<00:00,  5.64it/s]\n",
            "                 Class     Images  Instances      Box(P          R      mAP50  mAP50-95): 100%|██████████| 4/4 [00:00<00:00,  8.59it/s]\n"
          ]
        },
        {
          "output_type": "stream",
          "name": "stdout",
          "text": [
            "                   all         56        643      0.604      0.616      0.612      0.272\n",
            "\n",
            "      Epoch    GPU_mem   box_loss   cls_loss   dfl_loss  Instances       Size\n"
          ]
        },
        {
          "output_type": "stream",
          "name": "stderr",
          "text": [
            "     99/100      1.35G      1.461     0.9393       1.13         56        640: 100%|██████████| 103/103 [00:17<00:00,  5.81it/s]\n",
            "                 Class     Images  Instances      Box(P          R      mAP50  mAP50-95): 100%|██████████| 4/4 [00:00<00:00,  8.14it/s]\n"
          ]
        },
        {
          "output_type": "stream",
          "name": "stdout",
          "text": [
            "                   all         56        643      0.604      0.616      0.609      0.272\n",
            "\n",
            "      Epoch    GPU_mem   box_loss   cls_loss   dfl_loss  Instances       Size\n"
          ]
        },
        {
          "output_type": "stream",
          "name": "stderr",
          "text": [
            "    100/100      1.38G      1.449      0.937      1.125        101        640: 100%|██████████| 103/103 [00:18<00:00,  5.50it/s]\n",
            "                 Class     Images  Instances      Box(P          R      mAP50  mAP50-95): 100%|██████████| 4/4 [00:00<00:00,  5.57it/s]"
          ]
        },
        {
          "output_type": "stream",
          "name": "stdout",
          "text": [
            "                   all         56        643      0.604      0.639      0.622      0.271\n"
          ]
        },
        {
          "output_type": "stream",
          "name": "stderr",
          "text": [
            "\n"
          ]
        },
        {
          "output_type": "stream",
          "name": "stdout",
          "text": [
            "\n",
            "100 epochs completed in 0.564 hours.\n",
            "Optimizer stripped from runs/detect/train2/weights/last.pt, 6.3MB\n",
            "Optimizer stripped from runs/detect/train2/weights/best.pt, 6.3MB\n",
            "\n",
            "Validating runs/detect/train2/weights/best.pt...\n",
            "Ultralytics 8.3.63 🚀 Python-3.11.11 torch-2.5.1+cu121 CUDA:0 (Tesla T4, 15102MiB)\n",
            "Model summary (fused): 168 layers, 3,005,843 parameters, 0 gradients, 8.1 GFLOPs\n"
          ]
        },
        {
          "output_type": "stream",
          "name": "stderr",
          "text": [
            "                 Class     Images  Instances      Box(P          R      mAP50  mAP50-95): 100%|██████████| 4/4 [00:02<00:00,  1.77it/s]\n"
          ]
        },
        {
          "output_type": "stream",
          "name": "stdout",
          "text": [
            "                   all         56        643      0.593      0.568      0.616      0.282\n",
            "Speed: 0.6ms preprocess, 4.8ms inference, 0.0ms loss, 7.8ms postprocess per image\n",
            "Results saved to \u001b[1mruns/detect/train2\u001b[0m\n"
          ]
        }
      ]
    },
    {
      "cell_type": "code",
      "source": [
        "model = YOLO('runs/detect/train2/weights/best.pt')\n",
        "metrics = model.val()"
      ],
      "metadata": {
        "colab": {
          "base_uri": "https://localhost:8080/"
        },
        "id": "u46nVNwt7wCh",
        "outputId": "2670cca9-4d07-4085-bfa6-025164922130"
      },
      "execution_count": 11,
      "outputs": [
        {
          "output_type": "stream",
          "name": "stdout",
          "text": [
            "Ultralytics 8.3.63 🚀 Python-3.11.11 torch-2.5.1+cu121 CUDA:0 (Tesla T4, 15102MiB)\n",
            "Model summary (fused): 168 layers, 3,005,843 parameters, 0 gradients, 8.1 GFLOPs\n"
          ]
        },
        {
          "output_type": "stream",
          "name": "stderr",
          "text": [
            "\u001b[34m\u001b[1mval: \u001b[0mScanning /content/data-2/valid/labels.cache... 56 images, 0 backgrounds, 0 corrupt: 100%|██████████| 56/56 [00:00<?, ?it/s]\n",
            "                 Class     Images  Instances      Box(P          R      mAP50  mAP50-95): 100%|██████████| 4/4 [00:02<00:00,  1.51it/s]\n"
          ]
        },
        {
          "output_type": "stream",
          "name": "stdout",
          "text": [
            "                   all         56        643      0.588      0.574      0.616      0.282\n",
            "Speed: 0.5ms preprocess, 14.1ms inference, 0.0ms loss, 5.3ms postprocess per image\n",
            "Results saved to \u001b[1mruns/detect/val\u001b[0m\n"
          ]
        }
      ]
    },
    {
      "cell_type": "code",
      "source": [
        "model.export(format=\"onnx\")"
      ],
      "metadata": {
        "colab": {
          "base_uri": "https://localhost:8080/",
          "height": 870
        },
        "id": "RhIxceZ-8Q6O",
        "outputId": "2531ca15-0419-4cb2-e371-00978661d7e9"
      },
      "execution_count": 12,
      "outputs": [
        {
          "output_type": "stream",
          "name": "stdout",
          "text": [
            "Ultralytics 8.3.63 🚀 Python-3.11.11 torch-2.5.1+cu121 CPU (Intel Xeon 2.00GHz)\n",
            "\n",
            "\u001b[34m\u001b[1mPyTorch:\u001b[0m starting from 'runs/detect/train2/weights/best.pt' with input shape (1, 3, 640, 640) BCHW and output shape(s) (1, 5, 8400) (6.0 MB)\n",
            "\u001b[31m\u001b[1mrequirements:\u001b[0m Ultralytics requirements ['onnx>=1.12.0', 'onnxslim', 'onnxruntime-gpu'] not found, attempting AutoUpdate...\n",
            "Collecting onnx>=1.12.0\n",
            "  Downloading onnx-1.17.0-cp311-cp311-manylinux_2_17_x86_64.manylinux2014_x86_64.whl.metadata (16 kB)\n",
            "Collecting onnxslim\n",
            "  Downloading onnxslim-0.1.47-py3-none-any.whl.metadata (4.4 kB)\n",
            "Collecting onnxruntime-gpu\n",
            "  Downloading onnxruntime_gpu-1.20.1-cp311-cp311-manylinux_2_27_x86_64.manylinux_2_28_x86_64.whl.metadata (4.5 kB)\n",
            "Requirement already satisfied: numpy>=1.20 in /usr/local/lib/python3.11/dist-packages (from onnx>=1.12.0) (1.26.4)\n",
            "Requirement already satisfied: protobuf>=3.20.2 in /usr/local/lib/python3.11/dist-packages (from onnx>=1.12.0) (4.25.5)\n",
            "Requirement already satisfied: sympy in /usr/local/lib/python3.11/dist-packages (from onnxslim) (1.13.1)\n",
            "Requirement already satisfied: packaging in /usr/local/lib/python3.11/dist-packages (from onnxslim) (24.2)\n",
            "Collecting coloredlogs (from onnxruntime-gpu)\n",
            "  Downloading coloredlogs-15.0.1-py2.py3-none-any.whl.metadata (12 kB)\n",
            "Requirement already satisfied: flatbuffers in /usr/local/lib/python3.11/dist-packages (from onnxruntime-gpu) (24.12.23)\n",
            "Collecting humanfriendly>=9.1 (from coloredlogs->onnxruntime-gpu)\n",
            "  Downloading humanfriendly-10.0-py2.py3-none-any.whl.metadata (9.2 kB)\n",
            "Requirement already satisfied: mpmath<1.4,>=1.1.0 in /usr/local/lib/python3.11/dist-packages (from sympy->onnxslim) (1.3.0)\n",
            "Downloading onnx-1.17.0-cp311-cp311-manylinux_2_17_x86_64.manylinux2014_x86_64.whl (16.0 MB)\n",
            "   ━━━━━━━━━━━━━━━━━━━━━━━━━━━━━━━━━━━━━━━━ 16.0/16.0 MB 195.2 MB/s eta 0:00:00\n",
            "Downloading onnxslim-0.1.47-py3-none-any.whl (142 kB)\n",
            "   ━━━━━━━━━━━━━━━━━━━━━━━━━━━━━━━━━━━━━━━━ 142.8/142.8 kB 199.3 MB/s eta 0:00:00\n",
            "Downloading onnxruntime_gpu-1.20.1-cp311-cp311-manylinux_2_27_x86_64.manylinux_2_28_x86_64.whl (291.5 MB)\n",
            "   ━━━━━━━━━━━━━━━━━━━━━━━━━━━━━━━━━━━━━━━━ 291.5/291.5 MB 61.3 MB/s eta 0:00:00\n",
            "Downloading coloredlogs-15.0.1-py2.py3-none-any.whl (46 kB)\n",
            "   ━━━━━━━━━━━━━━━━━━━━━━━━━━━━━━━━━━━━━━━━ 46.0/46.0 kB 137.8 MB/s eta 0:00:00\n",
            "Downloading humanfriendly-10.0-py2.py3-none-any.whl (86 kB)\n",
            "   ━━━━━━━━━━━━━━━━━━━━━━━━━━━━━━━━━━━━━━━━ 86.8/86.8 kB 178.6 MB/s eta 0:00:00\n",
            "Installing collected packages: onnx, humanfriendly, onnxslim, coloredlogs, onnxruntime-gpu\n",
            "Successfully installed coloredlogs-15.0.1 humanfriendly-10.0 onnx-1.17.0 onnxruntime-gpu-1.20.1 onnxslim-0.1.47\n",
            "\n",
            "\u001b[31m\u001b[1mrequirements:\u001b[0m AutoUpdate success ✅ 24.1s, installed 3 packages: ['onnx>=1.12.0', 'onnxslim', 'onnxruntime-gpu']\n",
            "\u001b[31m\u001b[1mrequirements:\u001b[0m ⚠️ \u001b[1mRestart runtime or rerun command for updates to take effect\u001b[0m\n",
            "\n",
            "\n",
            "\u001b[34m\u001b[1mONNX:\u001b[0m starting export with onnx 1.17.0 opset 19...\n",
            "\u001b[34m\u001b[1mONNX:\u001b[0m slimming with onnxslim 0.1.47...\n",
            "\u001b[34m\u001b[1mONNX:\u001b[0m export success ✅ 25.3s, saved as 'runs/detect/train2/weights/best.onnx' (11.7 MB)\n",
            "\n",
            "Export complete (27.1s)\n",
            "Results saved to \u001b[1m/content/runs/detect/train2/weights\u001b[0m\n",
            "Predict:         yolo predict task=detect model=runs/detect/train2/weights/best.onnx imgsz=640  \n",
            "Validate:        yolo val task=detect model=runs/detect/train2/weights/best.onnx imgsz=640 data=/content/data-2/data.yaml  \n",
            "Visualize:       https://netron.app\n"
          ]
        },
        {
          "output_type": "execute_result",
          "data": {
            "text/plain": [
              "'runs/detect/train2/weights/best.onnx'"
            ],
            "application/vnd.google.colaboratory.intrinsic+json": {
              "type": "string"
            }
          },
          "metadata": {},
          "execution_count": 12
        }
      ]
    },
    {
      "cell_type": "code",
      "source": [
        "results = model.predict(source='/content/best-acne-treatment-in-mumbai-at-affordable-price-cost-india-2.jpg', save=True)\n"
      ],
      "metadata": {
        "colab": {
          "base_uri": "https://localhost:8080/"
        },
        "id": "hpf0eMXU9MpU",
        "outputId": "1bc53296-7650-4314-f7dc-57a0b6388d23"
      },
      "execution_count": 14,
      "outputs": [
        {
          "output_type": "stream",
          "name": "stdout",
          "text": [
            "\n",
            "image 1/1 /content/best-acne-treatment-in-mumbai-at-affordable-price-cost-india-2.jpg: 448x640 6 Acnes, 36.2ms\n",
            "Speed: 3.5ms preprocess, 36.2ms inference, 1.8ms postprocess per image at shape (1, 3, 448, 640)\n",
            "Results saved to \u001b[1mruns/detect/predict\u001b[0m\n"
          ]
        }
      ]
    }
  ]
}